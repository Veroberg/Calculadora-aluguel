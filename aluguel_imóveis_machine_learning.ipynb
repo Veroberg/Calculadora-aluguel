{
  "nbformat": 4,
  "nbformat_minor": 0,
  "metadata": {
    "colab": {
      "name": "aluguel_imóveis_machine_learning.ipynb",
      "provenance": [],
      "authorship_tag": "ABX9TyOWvoIhD6ZsB8+w+D1TiDOF",
      "include_colab_link": true
    },
    "kernelspec": {
      "display_name": "Python 3",
      "name": "python3"
    },
    "language_info": {
      "name": "python"
    }
  },
  "cells": [
    {
      "cell_type": "markdown",
      "metadata": {
        "id": "view-in-github",
        "colab_type": "text"
      },
      "source": [
        "<a href=\"https://colab.research.google.com/github/Veroberg/Calculadora-aluguel/blob/main/aluguel_im%C3%B3veis_machine_learning.ipynb\" target=\"_parent\"><img src=\"https://colab.research.google.com/assets/colab-badge.svg\" alt=\"Open In Colab\"/></a>"
      ]
    },
    {
      "cell_type": "code",
      "metadata": {
        "id": "m3L0mR0hz8JE"
      },
      "source": [
        "# Importando as linguagens necessárias para trabalhar na raspagem de dados do site Viva Real, de imóveis alugados\n",
        "\n",
        "import pandas as pd\n",
        "import numpy as np\n",
        "from sklearn.model_selection import train_test_split\n",
        "from sklearn.metrics import r2_score\n",
        "from sklearn.ensemble import RandomForestRegressor\n",
        "from sklearn.linear_model import LinearRegression\n",
        "from sklearn.dummy import DummyRegressor\n",
        "from lightgbm import LGBMRegressor\n",
        "from xgboost import XGBRegressor\n",
        "import requests\n",
        "from bs4 import BeautifulSoup"
      ],
      "execution_count": null,
      "outputs": []
    },
    {
      "cell_type": "code",
      "metadata": {
        "colab": {
          "base_uri": "https://localhost:8080/"
        },
        "id": "636g-udxm6fT",
        "outputId": "18f35d1d-bed1-44fa-eabb-e7d21860af32"
      },
      "source": [
        "# Puxando e filtrando as páginas que solicitei\n",
        "\n",
        "paginas = ['']\n",
        "for i in range(1,50):\n",
        "    a = '?pagina='+str(i)\n",
        "    print(a)\n",
        "    paginas.append(a)"
      ],
      "execution_count": null,
      "outputs": [
        {
          "output_type": "stream",
          "text": [
            "?pagina=1\n",
            "?pagina=2\n",
            "?pagina=3\n",
            "?pagina=4\n",
            "?pagina=5\n",
            "?pagina=6\n",
            "?pagina=7\n",
            "?pagina=8\n",
            "?pagina=9\n",
            "?pagina=10\n",
            "?pagina=11\n",
            "?pagina=12\n",
            "?pagina=13\n",
            "?pagina=14\n",
            "?pagina=15\n",
            "?pagina=16\n",
            "?pagina=17\n",
            "?pagina=18\n",
            "?pagina=19\n",
            "?pagina=20\n",
            "?pagina=21\n",
            "?pagina=22\n",
            "?pagina=23\n",
            "?pagina=24\n",
            "?pagina=25\n",
            "?pagina=26\n",
            "?pagina=27\n",
            "?pagina=28\n",
            "?pagina=29\n",
            "?pagina=30\n",
            "?pagina=31\n",
            "?pagina=32\n",
            "?pagina=33\n",
            "?pagina=34\n",
            "?pagina=35\n",
            "?pagina=36\n",
            "?pagina=37\n",
            "?pagina=38\n",
            "?pagina=39\n",
            "?pagina=40\n",
            "?pagina=41\n",
            "?pagina=42\n",
            "?pagina=43\n",
            "?pagina=44\n",
            "?pagina=45\n",
            "?pagina=46\n",
            "?pagina=47\n",
            "?pagina=48\n",
            "?pagina=49\n"
          ],
          "name": "stdout"
        }
      ]
    },
    {
      "cell_type": "code",
      "metadata": {
        "colab": {
          "base_uri": "https://localhost:8080/"
        },
        "id": "8-NK6uTPm6fV",
        "outputId": "e4cb91c6-1d35-404f-d0be-0bcb4969d518"
      },
      "source": [
        "# Um print das páginas soclicitadas acima\n",
        "\n",
        "paginas"
      ],
      "execution_count": null,
      "outputs": [
        {
          "output_type": "execute_result",
          "data": {
            "text/plain": [
              "['',\n",
              " '?pagina=1',\n",
              " '?pagina=2',\n",
              " '?pagina=3',\n",
              " '?pagina=4',\n",
              " '?pagina=5',\n",
              " '?pagina=6',\n",
              " '?pagina=7',\n",
              " '?pagina=8',\n",
              " '?pagina=9',\n",
              " '?pagina=10',\n",
              " '?pagina=11',\n",
              " '?pagina=12',\n",
              " '?pagina=13',\n",
              " '?pagina=14',\n",
              " '?pagina=15',\n",
              " '?pagina=16',\n",
              " '?pagina=17',\n",
              " '?pagina=18',\n",
              " '?pagina=19',\n",
              " '?pagina=20',\n",
              " '?pagina=21',\n",
              " '?pagina=22',\n",
              " '?pagina=23',\n",
              " '?pagina=24',\n",
              " '?pagina=25',\n",
              " '?pagina=26',\n",
              " '?pagina=27',\n",
              " '?pagina=28',\n",
              " '?pagina=29',\n",
              " '?pagina=30',\n",
              " '?pagina=31',\n",
              " '?pagina=32',\n",
              " '?pagina=33',\n",
              " '?pagina=34',\n",
              " '?pagina=35',\n",
              " '?pagina=36',\n",
              " '?pagina=37',\n",
              " '?pagina=38',\n",
              " '?pagina=39',\n",
              " '?pagina=40',\n",
              " '?pagina=41',\n",
              " '?pagina=42',\n",
              " '?pagina=43',\n",
              " '?pagina=44',\n",
              " '?pagina=45',\n",
              " '?pagina=46',\n",
              " '?pagina=47',\n",
              " '?pagina=48',\n",
              " '?pagina=49']"
            ]
          },
          "metadata": {
            "tags": []
          },
          "execution_count": 451
        }
      ]
    },
    {
      "cell_type": "code",
      "metadata": {
        "id": "CzMXw93Bm6fW"
      },
      "source": [
        "# Convertendo dados das colunas em Data Frame\n",
        "\n",
        "import pandas as pd\n",
        "def converter_df(aluguel_lista,quartos_lista,endereco_lista,banheiro_lista,vaga_lista,area_lista):\n",
        "    data = {'aluguel':aluguel_lista,\n",
        "           'quartos':quartos_lista,\n",
        "           'endereco':endereco_lista,\n",
        "           'banheiro':banheiro_lista,\n",
        "            'vaga':vaga_lista,\n",
        "            'area':area_lista}\n",
        "    df = pd.DataFrame(data)\n",
        "    return df"
      ],
      "execution_count": null,
      "outputs": []
    },
    {
      "cell_type": "code",
      "metadata": {
        "id": "OdaEFpJbm6fX"
      },
      "source": [
        "# Processo da trasnformação acima como listas\n",
        "\n",
        "def scrap(url):\n",
        "    c = requests.get(url).content\n",
        "    soup = BeautifulSoup(c)\n",
        "    \n",
        "    #Lista de aluguel\n",
        "    aluguel_tag = soup.find_all('div', {'class':'property-card__price js-property-card-prices js-property-card__price-small'}) \n",
        "    aluguel_lista = [p.text for p in aluguel_tag] \n",
        "     \n",
        "    #Lista de quartos\n",
        "    quartos_tag = soup.find_all('li', {'class': 'property-card__detail-item property-card__detail-room js-property-detail-rooms'}) \n",
        "    quartos_lista = [en.text for en in quartos_tag] \n",
        "   \n",
        "    #Lista de endereço\n",
        "    endereco_tag = soup.find_all('span', {'class': 'property-card__address'}) \n",
        "    endereco_lista = [fg.text for fg in endereco_tag] \n",
        "    \n",
        "    #Lista de banheiro\n",
        "    banheiro_tag = soup.find_all('li', {'class': 'property-card__detail-item property-card__detail-bathroom js-property-detail-bathroom'}) \n",
        "    banheiro_lista = [yp.text for yp in banheiro_tag] \n",
        "  \n",
        "\n",
        "    vaga_tag = soup.find_all('li', {'class': 'property-card__detail-item property-card__detail-garage js-property-detail-garages'}) \n",
        "    vaga_lista = [yp.text for yp in vaga_tag] \n",
        "\n",
        "    area_tag = soup.find_all('li', {'class': 'property-card__detail-item property-card__detail-area'}) \n",
        "    area_lista = [yp.text for yp in area_tag] \n",
        "\n",
        "\n",
        "   #Listas transfromadas em df\n",
        "    df=converter_df(aluguel_lista,quartos_lista,endereco_lista,banheiro_lista,vaga_lista,area_lista)\n",
        "    \n",
        "    return df"
      ],
      "execution_count": null,
      "outputs": []
    },
    {
      "cell_type": "code",
      "metadata": {
        "colab": {
          "base_uri": "https://localhost:8080/"
        },
        "id": "gCA8xBcRm6fY",
        "outputId": "36194f74-6719-4533-c80d-dda22471be1f"
      },
      "source": [
        "# Print das páginas solicitadas acima\n",
        "\n",
        "paginas"
      ],
      "execution_count": null,
      "outputs": [
        {
          "output_type": "execute_result",
          "data": {
            "text/plain": [
              "['',\n",
              " '?pagina=1',\n",
              " '?pagina=2',\n",
              " '?pagina=3',\n",
              " '?pagina=4',\n",
              " '?pagina=5',\n",
              " '?pagina=6',\n",
              " '?pagina=7',\n",
              " '?pagina=8',\n",
              " '?pagina=9',\n",
              " '?pagina=10',\n",
              " '?pagina=11',\n",
              " '?pagina=12',\n",
              " '?pagina=13',\n",
              " '?pagina=14',\n",
              " '?pagina=15',\n",
              " '?pagina=16',\n",
              " '?pagina=17',\n",
              " '?pagina=18',\n",
              " '?pagina=19',\n",
              " '?pagina=20',\n",
              " '?pagina=21',\n",
              " '?pagina=22',\n",
              " '?pagina=23',\n",
              " '?pagina=24',\n",
              " '?pagina=25',\n",
              " '?pagina=26',\n",
              " '?pagina=27',\n",
              " '?pagina=28',\n",
              " '?pagina=29',\n",
              " '?pagina=30',\n",
              " '?pagina=31',\n",
              " '?pagina=32',\n",
              " '?pagina=33',\n",
              " '?pagina=34',\n",
              " '?pagina=35',\n",
              " '?pagina=36',\n",
              " '?pagina=37',\n",
              " '?pagina=38',\n",
              " '?pagina=39',\n",
              " '?pagina=40',\n",
              " '?pagina=41',\n",
              " '?pagina=42',\n",
              " '?pagina=43',\n",
              " '?pagina=44',\n",
              " '?pagina=45',\n",
              " '?pagina=46',\n",
              " '?pagina=47',\n",
              " '?pagina=48',\n",
              " '?pagina=49']"
            ]
          },
          "metadata": {
            "tags": []
          },
          "execution_count": 454
        }
      ]
    },
    {
      "cell_type": "code",
      "metadata": {
        "colab": {
          "base_uri": "https://localhost:8080/"
        },
        "id": "0_2LUd9zm6fY",
        "outputId": "d493f7d7-c111-48f8-ff3b-918caea250f5"
      },
      "source": [
        "# Coletando dados de imóveis do site Viva Real\n",
        "\n",
        "df_lista = []\n",
        "for pg in paginas:\n",
        "    URL = 'https://www.vivareal.com.br/aluguel/sp/sao-paulo/?pagina=7'.format(pg)\n",
        "    print('Coletando URL:', URL)\n",
        "    #try:\n",
        "    df = scrap(URL)\n",
        "    #print(df)\n",
        "    #print('Coletando URL:', URL)\n",
        "    #except Exception as e:\n",
        "    #    print('Erro ao coletar dados na url:', url)\n",
        "    #    print(e)\n",
        "    df_lista.append(df)\n",
        "    \n",
        "# df_final = pd.concat(df_lista)"
      ],
      "execution_count": null,
      "outputs": [
        {
          "output_type": "stream",
          "text": [
            "Coletando URL: https://www.vivareal.com.br/aluguel/sp/sao-paulo/?pagina=7\n",
            "Coletando URL: https://www.vivareal.com.br/aluguel/sp/sao-paulo/?pagina=7\n",
            "Coletando URL: https://www.vivareal.com.br/aluguel/sp/sao-paulo/?pagina=7\n",
            "Coletando URL: https://www.vivareal.com.br/aluguel/sp/sao-paulo/?pagina=7\n",
            "Coletando URL: https://www.vivareal.com.br/aluguel/sp/sao-paulo/?pagina=7\n",
            "Coletando URL: https://www.vivareal.com.br/aluguel/sp/sao-paulo/?pagina=7\n",
            "Coletando URL: https://www.vivareal.com.br/aluguel/sp/sao-paulo/?pagina=7\n",
            "Coletando URL: https://www.vivareal.com.br/aluguel/sp/sao-paulo/?pagina=7\n",
            "Coletando URL: https://www.vivareal.com.br/aluguel/sp/sao-paulo/?pagina=7\n",
            "Coletando URL: https://www.vivareal.com.br/aluguel/sp/sao-paulo/?pagina=7\n",
            "Coletando URL: https://www.vivareal.com.br/aluguel/sp/sao-paulo/?pagina=7\n",
            "Coletando URL: https://www.vivareal.com.br/aluguel/sp/sao-paulo/?pagina=7\n",
            "Coletando URL: https://www.vivareal.com.br/aluguel/sp/sao-paulo/?pagina=7\n",
            "Coletando URL: https://www.vivareal.com.br/aluguel/sp/sao-paulo/?pagina=7\n",
            "Coletando URL: https://www.vivareal.com.br/aluguel/sp/sao-paulo/?pagina=7\n",
            "Coletando URL: https://www.vivareal.com.br/aluguel/sp/sao-paulo/?pagina=7\n",
            "Coletando URL: https://www.vivareal.com.br/aluguel/sp/sao-paulo/?pagina=7\n",
            "Coletando URL: https://www.vivareal.com.br/aluguel/sp/sao-paulo/?pagina=7\n",
            "Coletando URL: https://www.vivareal.com.br/aluguel/sp/sao-paulo/?pagina=7\n",
            "Coletando URL: https://www.vivareal.com.br/aluguel/sp/sao-paulo/?pagina=7\n",
            "Coletando URL: https://www.vivareal.com.br/aluguel/sp/sao-paulo/?pagina=7\n",
            "Coletando URL: https://www.vivareal.com.br/aluguel/sp/sao-paulo/?pagina=7\n",
            "Coletando URL: https://www.vivareal.com.br/aluguel/sp/sao-paulo/?pagina=7\n",
            "Coletando URL: https://www.vivareal.com.br/aluguel/sp/sao-paulo/?pagina=7\n",
            "Coletando URL: https://www.vivareal.com.br/aluguel/sp/sao-paulo/?pagina=7\n",
            "Coletando URL: https://www.vivareal.com.br/aluguel/sp/sao-paulo/?pagina=7\n",
            "Coletando URL: https://www.vivareal.com.br/aluguel/sp/sao-paulo/?pagina=7\n",
            "Coletando URL: https://www.vivareal.com.br/aluguel/sp/sao-paulo/?pagina=7\n",
            "Coletando URL: https://www.vivareal.com.br/aluguel/sp/sao-paulo/?pagina=7\n",
            "Coletando URL: https://www.vivareal.com.br/aluguel/sp/sao-paulo/?pagina=7\n",
            "Coletando URL: https://www.vivareal.com.br/aluguel/sp/sao-paulo/?pagina=7\n",
            "Coletando URL: https://www.vivareal.com.br/aluguel/sp/sao-paulo/?pagina=7\n",
            "Coletando URL: https://www.vivareal.com.br/aluguel/sp/sao-paulo/?pagina=7\n",
            "Coletando URL: https://www.vivareal.com.br/aluguel/sp/sao-paulo/?pagina=7\n",
            "Coletando URL: https://www.vivareal.com.br/aluguel/sp/sao-paulo/?pagina=7\n",
            "Coletando URL: https://www.vivareal.com.br/aluguel/sp/sao-paulo/?pagina=7\n",
            "Coletando URL: https://www.vivareal.com.br/aluguel/sp/sao-paulo/?pagina=7\n",
            "Coletando URL: https://www.vivareal.com.br/aluguel/sp/sao-paulo/?pagina=7\n",
            "Coletando URL: https://www.vivareal.com.br/aluguel/sp/sao-paulo/?pagina=7\n",
            "Coletando URL: https://www.vivareal.com.br/aluguel/sp/sao-paulo/?pagina=7\n",
            "Coletando URL: https://www.vivareal.com.br/aluguel/sp/sao-paulo/?pagina=7\n",
            "Coletando URL: https://www.vivareal.com.br/aluguel/sp/sao-paulo/?pagina=7\n",
            "Coletando URL: https://www.vivareal.com.br/aluguel/sp/sao-paulo/?pagina=7\n",
            "Coletando URL: https://www.vivareal.com.br/aluguel/sp/sao-paulo/?pagina=7\n",
            "Coletando URL: https://www.vivareal.com.br/aluguel/sp/sao-paulo/?pagina=7\n",
            "Coletando URL: https://www.vivareal.com.br/aluguel/sp/sao-paulo/?pagina=7\n",
            "Coletando URL: https://www.vivareal.com.br/aluguel/sp/sao-paulo/?pagina=7\n",
            "Coletando URL: https://www.vivareal.com.br/aluguel/sp/sao-paulo/?pagina=7\n",
            "Coletando URL: https://www.vivareal.com.br/aluguel/sp/sao-paulo/?pagina=7\n",
            "Coletando URL: https://www.vivareal.com.br/aluguel/sp/sao-paulo/?pagina=7\n"
          ],
          "name": "stdout"
        }
      ]
    },
    {
      "cell_type": "code",
      "metadata": {
        "id": "7-SnWrR6m6fZ",
        "colab": {
          "base_uri": "https://localhost:8080/",
          "height": 417
        },
        "outputId": "a6155a5b-5a07-4335-8d5c-1ab4ad1179b8"
      },
      "source": [
        "# Visualização de valores de aluguél, quarto e endereço\n",
        "\n",
        "df2=pd.concat(df_lista)\n",
        "df2.head(104)"
      ],
      "execution_count": null,
      "outputs": [
        {
          "output_type": "execute_result",
          "data": {
            "text/html": [
              "<div>\n",
              "<style scoped>\n",
              "    .dataframe tbody tr th:only-of-type {\n",
              "        vertical-align: middle;\n",
              "    }\n",
              "\n",
              "    .dataframe tbody tr th {\n",
              "        vertical-align: top;\n",
              "    }\n",
              "\n",
              "    .dataframe thead th {\n",
              "        text-align: right;\n",
              "    }\n",
              "</style>\n",
              "<table border=\"1\" class=\"dataframe\">\n",
              "  <thead>\n",
              "    <tr style=\"text-align: right;\">\n",
              "      <th></th>\n",
              "      <th>aluguel</th>\n",
              "      <th>quartos</th>\n",
              "      <th>endereco</th>\n",
              "      <th>banheiro</th>\n",
              "      <th>vaga</th>\n",
              "      <th>area</th>\n",
              "    </tr>\n",
              "  </thead>\n",
              "  <tbody>\n",
              "    <tr>\n",
              "      <th>0</th>\n",
              "      <td>R$ 1.900 /Mês</td>\n",
              "      <td>2   Quartos</td>\n",
              "      <td>Rua Fidélis Papini, 786 - Vila Prudente, São P...</td>\n",
              "      <td>2   Banheiros</td>\n",
              "      <td>1   Vaga</td>\n",
              "      <td>80   m²</td>\n",
              "    </tr>\n",
              "    <tr>\n",
              "      <th>1</th>\n",
              "      <td>R$ 3.300 /Mês</td>\n",
              "      <td>1   Quarto</td>\n",
              "      <td>Rua Fernão Dias, 407 - Pinheiros, São Paulo - SP</td>\n",
              "      <td>1   Banheiro</td>\n",
              "      <td>1   Vaga</td>\n",
              "      <td>34   m²</td>\n",
              "    </tr>\n",
              "    <tr>\n",
              "      <th>2</th>\n",
              "      <td>R$ 7.000 /Mês</td>\n",
              "      <td>--   Quarto</td>\n",
              "      <td>Avenida Pedroso de Morais, 457 - Pinheiros, Sã...</td>\n",
              "      <td>2   Banheiros</td>\n",
              "      <td>4   Vagas</td>\n",
              "      <td>95   m²</td>\n",
              "    </tr>\n",
              "    <tr>\n",
              "      <th>3</th>\n",
              "      <td>R$ 5.100 /Mês</td>\n",
              "      <td>2   Quartos</td>\n",
              "      <td>Avenida Doutor Altino Arantes, 741 - Vila Clem...</td>\n",
              "      <td>4   Banheiros</td>\n",
              "      <td>2   Vagas</td>\n",
              "      <td>107   m²</td>\n",
              "    </tr>\n",
              "    <tr>\n",
              "      <th>4</th>\n",
              "      <td>R$ 2.300 /Mês</td>\n",
              "      <td>2   Quartos</td>\n",
              "      <td>Rua Maria Bucalem Haddad, 61 - Vila Firmiano P...</td>\n",
              "      <td>2   Banheiros</td>\n",
              "      <td>1   Vaga</td>\n",
              "      <td>65   m²</td>\n",
              "    </tr>\n",
              "    <tr>\n",
              "      <th>...</th>\n",
              "      <td>...</td>\n",
              "      <td>...</td>\n",
              "      <td>...</td>\n",
              "      <td>...</td>\n",
              "      <td>...</td>\n",
              "      <td>...</td>\n",
              "    </tr>\n",
              "    <tr>\n",
              "      <th>27</th>\n",
              "      <td>R$ 300 /Mês</td>\n",
              "      <td>--   Quarto</td>\n",
              "      <td>Avenida Engenheiro Armando de Arruda Pereira, ...</td>\n",
              "      <td>2   Banheiros</td>\n",
              "      <td>--   Vaga</td>\n",
              "      <td>10   m²</td>\n",
              "    </tr>\n",
              "    <tr>\n",
              "      <th>28</th>\n",
              "      <td>R$ 1.800 /Mês</td>\n",
              "      <td>--   Quarto</td>\n",
              "      <td>Rua Araújo, 165 - República, São Paulo - SP</td>\n",
              "      <td>2   Banheiros</td>\n",
              "      <td>--   Vaga</td>\n",
              "      <td>85   m²</td>\n",
              "    </tr>\n",
              "    <tr>\n",
              "      <th>29</th>\n",
              "      <td>R$ 1.200 /Mês</td>\n",
              "      <td>--   Quarto</td>\n",
              "      <td>Rua Conselheiro Furtado, 263 - Liberdade, São ...</td>\n",
              "      <td>1   Banheiro</td>\n",
              "      <td>--   Vaga</td>\n",
              "      <td>21   m²</td>\n",
              "    </tr>\n",
              "    <tr>\n",
              "      <th>30</th>\n",
              "      <td>R$ 2.800 /Mês</td>\n",
              "      <td>1   Quarto</td>\n",
              "      <td>Rua Castilho, 155 - Brooklin, São Paulo - SP</td>\n",
              "      <td>1   Banheiro</td>\n",
              "      <td>1   Vaga</td>\n",
              "      <td>47   m²</td>\n",
              "    </tr>\n",
              "    <tr>\n",
              "      <th>31</th>\n",
              "      <td>R$ 2.000 /Mês</td>\n",
              "      <td>1   Quarto</td>\n",
              "      <td>Rua Visconde de Parnaíba, 1046 - Brás, São Pau...</td>\n",
              "      <td>1   Banheiro</td>\n",
              "      <td>1   Vaga</td>\n",
              "      <td>36   m²</td>\n",
              "    </tr>\n",
              "  </tbody>\n",
              "</table>\n",
              "<p>104 rows × 6 columns</p>\n",
              "</div>"
            ],
            "text/plain": [
              "               aluguel          quartos  ...           vaga          area\n",
              "0      R$ 1.900 /Mês      2   Quartos    ...     1   Vaga       80   m²  \n",
              "1      R$ 3.300 /Mês       1   Quarto    ...     1   Vaga       34   m²  \n",
              "2      R$ 7.000 /Mês      --   Quarto    ...    4   Vagas       95   m²  \n",
              "3      R$ 5.100 /Mês      2   Quartos    ...    2   Vagas      107   m²  \n",
              "4      R$ 2.300 /Mês      2   Quartos    ...     1   Vaga       65   m²  \n",
              "..                 ...              ...  ...            ...           ...\n",
              "27       R$ 300 /Mês      --   Quarto    ...    --   Vaga       10   m²  \n",
              "28     R$ 1.800 /Mês      --   Quarto    ...    --   Vaga       85   m²  \n",
              "29     R$ 1.200 /Mês      --   Quarto    ...    --   Vaga       21   m²  \n",
              "30     R$ 2.800 /Mês       1   Quarto    ...     1   Vaga       47   m²  \n",
              "31     R$ 2.000 /Mês       1   Quarto    ...     1   Vaga       36   m²  \n",
              "\n",
              "[104 rows x 6 columns]"
            ]
          },
          "metadata": {
            "tags": []
          },
          "execution_count": 456
        }
      ]
    },
    {
      "cell_type": "code",
      "metadata": {
        "id": "TYg2uw93m6fa",
        "colab": {
          "base_uri": "https://localhost:8080/",
          "height": 203
        },
        "outputId": "2f0cdb7d-14c4-4819-950f-f2d436183f06"
      },
      "source": [
        "# Alterando nomes e retirando acentos\n",
        "\n",
        "df2['bairro'] = df2.endereco.str.split('\\s-').str[0]\n",
        "df2['rua'] = df2.endereco.str.split('\\s-').str[0]\n",
        "df2['bairro'] = df2.bairro.str.split(',').str[0]\n",
        "df2['aluguel'] = df2.aluguel.str.split('/').str[0]\n",
        "df2['aluguel'] = df2.aluguel.str.split('Mês').str[0]\n",
        "df2['quartos'] = df2.quartos.str.split('Quartos').str[0]\n",
        "df2['quartos'] = df2.quartos.str.split('Quarto').str[0]\n",
        "df2['banheiro'] = df2.banheiro.str.split('Banheiros').str[0]\n",
        "df2['banheiro'] = df2.banheiro.str.split('Banheiro').str[0]\n",
        "df2['vaga'] = df2.vaga.str.split('Vagas').str[0]\n",
        "df2['vaga'] = df2.vaga.str.split('Vaga').str[0]\n",
        "df2['area'] = df2.area.str.split('m²').str[0]\n",
        "df2.head()"
      ],
      "execution_count": null,
      "outputs": [
        {
          "output_type": "execute_result",
          "data": {
            "text/html": [
              "<div>\n",
              "<style scoped>\n",
              "    .dataframe tbody tr th:only-of-type {\n",
              "        vertical-align: middle;\n",
              "    }\n",
              "\n",
              "    .dataframe tbody tr th {\n",
              "        vertical-align: top;\n",
              "    }\n",
              "\n",
              "    .dataframe thead th {\n",
              "        text-align: right;\n",
              "    }\n",
              "</style>\n",
              "<table border=\"1\" class=\"dataframe\">\n",
              "  <thead>\n",
              "    <tr style=\"text-align: right;\">\n",
              "      <th></th>\n",
              "      <th>aluguel</th>\n",
              "      <th>quartos</th>\n",
              "      <th>endereco</th>\n",
              "      <th>banheiro</th>\n",
              "      <th>vaga</th>\n",
              "      <th>area</th>\n",
              "      <th>bairro</th>\n",
              "      <th>rua</th>\n",
              "    </tr>\n",
              "  </thead>\n",
              "  <tbody>\n",
              "    <tr>\n",
              "      <th>0</th>\n",
              "      <td>R$ 1.900</td>\n",
              "      <td>2</td>\n",
              "      <td>Rua Fidélis Papini, 786 - Vila Prudente, São P...</td>\n",
              "      <td>2</td>\n",
              "      <td>1</td>\n",
              "      <td>80</td>\n",
              "      <td>Rua Fidélis Papini</td>\n",
              "      <td>Rua Fidélis Papini, 786</td>\n",
              "    </tr>\n",
              "    <tr>\n",
              "      <th>1</th>\n",
              "      <td>R$ 3.300</td>\n",
              "      <td>1</td>\n",
              "      <td>Rua Fernão Dias, 407 - Pinheiros, São Paulo - SP</td>\n",
              "      <td>1</td>\n",
              "      <td>1</td>\n",
              "      <td>34</td>\n",
              "      <td>Rua Fernão Dias</td>\n",
              "      <td>Rua Fernão Dias, 407</td>\n",
              "    </tr>\n",
              "    <tr>\n",
              "      <th>2</th>\n",
              "      <td>R$ 7.000</td>\n",
              "      <td>--</td>\n",
              "      <td>Avenida Pedroso de Morais, 457 - Pinheiros, Sã...</td>\n",
              "      <td>2</td>\n",
              "      <td>4</td>\n",
              "      <td>95</td>\n",
              "      <td>Avenida Pedroso de Morais</td>\n",
              "      <td>Avenida Pedroso de Morais, 457</td>\n",
              "    </tr>\n",
              "    <tr>\n",
              "      <th>3</th>\n",
              "      <td>R$ 5.100</td>\n",
              "      <td>2</td>\n",
              "      <td>Avenida Doutor Altino Arantes, 741 - Vila Clem...</td>\n",
              "      <td>4</td>\n",
              "      <td>2</td>\n",
              "      <td>107</td>\n",
              "      <td>Avenida Doutor Altino Arantes</td>\n",
              "      <td>Avenida Doutor Altino Arantes, 741</td>\n",
              "    </tr>\n",
              "    <tr>\n",
              "      <th>4</th>\n",
              "      <td>R$ 2.300</td>\n",
              "      <td>2</td>\n",
              "      <td>Rua Maria Bucalem Haddad, 61 - Vila Firmiano P...</td>\n",
              "      <td>2</td>\n",
              "      <td>1</td>\n",
              "      <td>65</td>\n",
              "      <td>Rua Maria Bucalem Haddad</td>\n",
              "      <td>Rua Maria Bucalem Haddad, 61</td>\n",
              "    </tr>\n",
              "  </tbody>\n",
              "</table>\n",
              "</div>"
            ],
            "text/plain": [
              "        aluguel  ...                                 rua\n",
              "0     R$ 1.900   ...             Rua Fidélis Papini, 786\n",
              "1     R$ 3.300   ...                Rua Fernão Dias, 407\n",
              "2     R$ 7.000   ...      Avenida Pedroso de Morais, 457\n",
              "3     R$ 5.100   ...  Avenida Doutor Altino Arantes, 741\n",
              "4     R$ 2.300   ...        Rua Maria Bucalem Haddad, 61\n",
              "\n",
              "[5 rows x 8 columns]"
            ]
          },
          "metadata": {
            "tags": []
          },
          "execution_count": 457
        }
      ]
    },
    {
      "cell_type": "code",
      "metadata": {
        "id": "qjqQjjjFM3cy"
      },
      "source": [
        "df2['aluguel'] = df2['aluguel'].map(lambda x: x.lstrip('R$ ').rstrip(''))\n",
        "df2['quartos'] = df2['quartos'].map(lambda x: x.lstrip('-- ').rstrip('\"'))\n",
        "df2['vaga'] = df2['vaga'].map(lambda x: x.lstrip('-- ').rstrip(''))"
      ],
      "execution_count": null,
      "outputs": []
    },
    {
      "cell_type": "code",
      "metadata": {
        "colab": {
          "base_uri": "https://localhost:8080/",
          "height": 203
        },
        "id": "GtLtNrTBdvYt",
        "outputId": "7066b99a-5302-4024-ec99-9347fe46e12f"
      },
      "source": [
        "# Retirando colunas desnecessárias\n",
        "\n",
        "df2 = df2.drop(columns=['endereco'])\n",
        "df2.head()"
      ],
      "execution_count": null,
      "outputs": [
        {
          "output_type": "execute_result",
          "data": {
            "text/html": [
              "<div>\n",
              "<style scoped>\n",
              "    .dataframe tbody tr th:only-of-type {\n",
              "        vertical-align: middle;\n",
              "    }\n",
              "\n",
              "    .dataframe tbody tr th {\n",
              "        vertical-align: top;\n",
              "    }\n",
              "\n",
              "    .dataframe thead th {\n",
              "        text-align: right;\n",
              "    }\n",
              "</style>\n",
              "<table border=\"1\" class=\"dataframe\">\n",
              "  <thead>\n",
              "    <tr style=\"text-align: right;\">\n",
              "      <th></th>\n",
              "      <th>aluguel</th>\n",
              "      <th>quartos</th>\n",
              "      <th>banheiro</th>\n",
              "      <th>vaga</th>\n",
              "      <th>area</th>\n",
              "      <th>bairro</th>\n",
              "      <th>rua</th>\n",
              "    </tr>\n",
              "  </thead>\n",
              "  <tbody>\n",
              "    <tr>\n",
              "      <th>0</th>\n",
              "      <td>1.900</td>\n",
              "      <td>2</td>\n",
              "      <td>2</td>\n",
              "      <td>1</td>\n",
              "      <td>80</td>\n",
              "      <td>Rua Fidélis Papini</td>\n",
              "      <td>Rua Fidélis Papini, 786</td>\n",
              "    </tr>\n",
              "    <tr>\n",
              "      <th>1</th>\n",
              "      <td>3.300</td>\n",
              "      <td>1</td>\n",
              "      <td>1</td>\n",
              "      <td>1</td>\n",
              "      <td>34</td>\n",
              "      <td>Rua Fernão Dias</td>\n",
              "      <td>Rua Fernão Dias, 407</td>\n",
              "    </tr>\n",
              "    <tr>\n",
              "      <th>2</th>\n",
              "      <td>7.000</td>\n",
              "      <td></td>\n",
              "      <td>2</td>\n",
              "      <td>4</td>\n",
              "      <td>95</td>\n",
              "      <td>Avenida Pedroso de Morais</td>\n",
              "      <td>Avenida Pedroso de Morais, 457</td>\n",
              "    </tr>\n",
              "    <tr>\n",
              "      <th>3</th>\n",
              "      <td>5.100</td>\n",
              "      <td>2</td>\n",
              "      <td>4</td>\n",
              "      <td>2</td>\n",
              "      <td>107</td>\n",
              "      <td>Avenida Doutor Altino Arantes</td>\n",
              "      <td>Avenida Doutor Altino Arantes, 741</td>\n",
              "    </tr>\n",
              "    <tr>\n",
              "      <th>4</th>\n",
              "      <td>2.300</td>\n",
              "      <td>2</td>\n",
              "      <td>2</td>\n",
              "      <td>1</td>\n",
              "      <td>65</td>\n",
              "      <td>Rua Maria Bucalem Haddad</td>\n",
              "      <td>Rua Maria Bucalem Haddad, 61</td>\n",
              "    </tr>\n",
              "  </tbody>\n",
              "</table>\n",
              "</div>"
            ],
            "text/plain": [
              "  aluguel  ...                                 rua\n",
              "0  1.900   ...             Rua Fidélis Papini, 786\n",
              "1  3.300   ...                Rua Fernão Dias, 407\n",
              "2  7.000   ...      Avenida Pedroso de Morais, 457\n",
              "3  5.100   ...  Avenida Doutor Altino Arantes, 741\n",
              "4  2.300   ...        Rua Maria Bucalem Haddad, 61\n",
              "\n",
              "[5 rows x 7 columns]"
            ]
          },
          "metadata": {
            "tags": []
          },
          "execution_count": 459
        }
      ]
    },
    {
      "cell_type": "code",
      "metadata": {
        "colab": {
          "base_uri": "https://localhost:8080/",
          "height": 203
        },
        "id": "7O8PogmJlbVZ",
        "outputId": "f09e8394-1837-442b-f12b-d4dbd9308f32"
      },
      "source": [
        "df2 = df2.drop(columns=['rua'])\n",
        "df2.head()"
      ],
      "execution_count": null,
      "outputs": [
        {
          "output_type": "execute_result",
          "data": {
            "text/html": [
              "<div>\n",
              "<style scoped>\n",
              "    .dataframe tbody tr th:only-of-type {\n",
              "        vertical-align: middle;\n",
              "    }\n",
              "\n",
              "    .dataframe tbody tr th {\n",
              "        vertical-align: top;\n",
              "    }\n",
              "\n",
              "    .dataframe thead th {\n",
              "        text-align: right;\n",
              "    }\n",
              "</style>\n",
              "<table border=\"1\" class=\"dataframe\">\n",
              "  <thead>\n",
              "    <tr style=\"text-align: right;\">\n",
              "      <th></th>\n",
              "      <th>aluguel</th>\n",
              "      <th>quartos</th>\n",
              "      <th>banheiro</th>\n",
              "      <th>vaga</th>\n",
              "      <th>area</th>\n",
              "      <th>bairro</th>\n",
              "    </tr>\n",
              "  </thead>\n",
              "  <tbody>\n",
              "    <tr>\n",
              "      <th>0</th>\n",
              "      <td>1.900</td>\n",
              "      <td>2</td>\n",
              "      <td>2</td>\n",
              "      <td>1</td>\n",
              "      <td>80</td>\n",
              "      <td>Rua Fidélis Papini</td>\n",
              "    </tr>\n",
              "    <tr>\n",
              "      <th>1</th>\n",
              "      <td>3.300</td>\n",
              "      <td>1</td>\n",
              "      <td>1</td>\n",
              "      <td>1</td>\n",
              "      <td>34</td>\n",
              "      <td>Rua Fernão Dias</td>\n",
              "    </tr>\n",
              "    <tr>\n",
              "      <th>2</th>\n",
              "      <td>7.000</td>\n",
              "      <td></td>\n",
              "      <td>2</td>\n",
              "      <td>4</td>\n",
              "      <td>95</td>\n",
              "      <td>Avenida Pedroso de Morais</td>\n",
              "    </tr>\n",
              "    <tr>\n",
              "      <th>3</th>\n",
              "      <td>5.100</td>\n",
              "      <td>2</td>\n",
              "      <td>4</td>\n",
              "      <td>2</td>\n",
              "      <td>107</td>\n",
              "      <td>Avenida Doutor Altino Arantes</td>\n",
              "    </tr>\n",
              "    <tr>\n",
              "      <th>4</th>\n",
              "      <td>2.300</td>\n",
              "      <td>2</td>\n",
              "      <td>2</td>\n",
              "      <td>1</td>\n",
              "      <td>65</td>\n",
              "      <td>Rua Maria Bucalem Haddad</td>\n",
              "    </tr>\n",
              "  </tbody>\n",
              "</table>\n",
              "</div>"
            ],
            "text/plain": [
              "  aluguel quartos banheiro  vaga      area                         bairro\n",
              "0  1.900     2        2     1        80                Rua Fidélis Papini\n",
              "1  3.300     1        1     1        34                   Rua Fernão Dias\n",
              "2  7.000              2     4        95         Avenida Pedroso de Morais\n",
              "3  5.100     2        4     2       107     Avenida Doutor Altino Arantes\n",
              "4  2.300     2        2     1        65          Rua Maria Bucalem Haddad"
            ]
          },
          "metadata": {
            "tags": []
          },
          "execution_count": 460
        }
      ]
    },
    {
      "cell_type": "code",
      "metadata": {
        "id": "o3RHVA8_oIqU"
      },
      "source": [
        "df2.rename(columns = {'bairro':'endereco'}, inplace = True)"
      ],
      "execution_count": null,
      "outputs": []
    },
    {
      "cell_type": "code",
      "metadata": {
        "colab": {
          "base_uri": "https://localhost:8080/",
          "height": 203
        },
        "id": "CcItPwJOnHYz",
        "outputId": "2b886089-edcc-4dcf-adf5-265e5aa3bf3d"
      },
      "source": [
        "df2 = df2.drop(columns=['endereco'])\n",
        "df2.head()"
      ],
      "execution_count": null,
      "outputs": [
        {
          "output_type": "execute_result",
          "data": {
            "text/html": [
              "<div>\n",
              "<style scoped>\n",
              "    .dataframe tbody tr th:only-of-type {\n",
              "        vertical-align: middle;\n",
              "    }\n",
              "\n",
              "    .dataframe tbody tr th {\n",
              "        vertical-align: top;\n",
              "    }\n",
              "\n",
              "    .dataframe thead th {\n",
              "        text-align: right;\n",
              "    }\n",
              "</style>\n",
              "<table border=\"1\" class=\"dataframe\">\n",
              "  <thead>\n",
              "    <tr style=\"text-align: right;\">\n",
              "      <th></th>\n",
              "      <th>aluguel</th>\n",
              "      <th>quartos</th>\n",
              "      <th>banheiro</th>\n",
              "      <th>vaga</th>\n",
              "      <th>area</th>\n",
              "    </tr>\n",
              "  </thead>\n",
              "  <tbody>\n",
              "    <tr>\n",
              "      <th>0</th>\n",
              "      <td>1.900</td>\n",
              "      <td>2</td>\n",
              "      <td>2</td>\n",
              "      <td>1</td>\n",
              "      <td>80</td>\n",
              "    </tr>\n",
              "    <tr>\n",
              "      <th>1</th>\n",
              "      <td>3.300</td>\n",
              "      <td>1</td>\n",
              "      <td>1</td>\n",
              "      <td>1</td>\n",
              "      <td>34</td>\n",
              "    </tr>\n",
              "    <tr>\n",
              "      <th>2</th>\n",
              "      <td>7.000</td>\n",
              "      <td></td>\n",
              "      <td>2</td>\n",
              "      <td>4</td>\n",
              "      <td>95</td>\n",
              "    </tr>\n",
              "    <tr>\n",
              "      <th>3</th>\n",
              "      <td>5.100</td>\n",
              "      <td>2</td>\n",
              "      <td>4</td>\n",
              "      <td>2</td>\n",
              "      <td>107</td>\n",
              "    </tr>\n",
              "    <tr>\n",
              "      <th>4</th>\n",
              "      <td>2.300</td>\n",
              "      <td>2</td>\n",
              "      <td>2</td>\n",
              "      <td>1</td>\n",
              "      <td>65</td>\n",
              "    </tr>\n",
              "  </tbody>\n",
              "</table>\n",
              "</div>"
            ],
            "text/plain": [
              "  aluguel quartos banheiro  vaga      area\n",
              "0  1.900     2        2     1        80   \n",
              "1  3.300     1        1     1        34   \n",
              "2  7.000              2     4        95   \n",
              "3  5.100     2        4     2       107   \n",
              "4  2.300     2        2     1        65   "
            ]
          },
          "metadata": {
            "tags": []
          },
          "execution_count": 462
        }
      ]
    },
    {
      "cell_type": "code",
      "metadata": {
        "id": "NtsGFOncm6fa",
        "colab": {
          "base_uri": "https://localhost:8080/"
        },
        "outputId": "4cb1fc29-b8e1-4ddb-d663-83a3518951d2"
      },
      "source": [
        "# Quantidade dos dados acima apresentadas\n",
        "\n",
        "df2.shape"
      ],
      "execution_count": null,
      "outputs": [
        {
          "output_type": "execute_result",
          "data": {
            "text/plain": [
              "(1800, 5)"
            ]
          },
          "metadata": {
            "tags": []
          },
          "execution_count": 463
        }
      ]
    },
    {
      "cell_type": "code",
      "metadata": {
        "id": "H74vDPpXm6fb",
        "colab": {
          "base_uri": "https://localhost:8080/"
        },
        "outputId": "61959bba-b62a-43bf-d383-c72160ad78b6"
      },
      "source": [
        "# Amostragem\n",
        "\n",
        "df2.quartos.unique()"
      ],
      "execution_count": null,
      "outputs": [
        {
          "output_type": "execute_result",
          "data": {
            "text/plain": [
              "array(['2   ', '1   ', '', '3   ', '4   ', '14   '], dtype=object)"
            ]
          },
          "metadata": {
            "tags": []
          },
          "execution_count": 464
        }
      ]
    },
    {
      "cell_type": "code",
      "metadata": {
        "id": "pZoyvZ4Im6fb",
        "colab": {
          "base_uri": "https://localhost:8080/",
          "height": 203
        },
        "outputId": "5fdb4f24-fef6-4717-8818-8302c01df1f7"
      },
      "source": [
        "# Amostragem das informações que estão no banco de dados dos imóveis a ser confirmado\n",
        "\n",
        "df2.head()"
      ],
      "execution_count": null,
      "outputs": [
        {
          "output_type": "execute_result",
          "data": {
            "text/html": [
              "<div>\n",
              "<style scoped>\n",
              "    .dataframe tbody tr th:only-of-type {\n",
              "        vertical-align: middle;\n",
              "    }\n",
              "\n",
              "    .dataframe tbody tr th {\n",
              "        vertical-align: top;\n",
              "    }\n",
              "\n",
              "    .dataframe thead th {\n",
              "        text-align: right;\n",
              "    }\n",
              "</style>\n",
              "<table border=\"1\" class=\"dataframe\">\n",
              "  <thead>\n",
              "    <tr style=\"text-align: right;\">\n",
              "      <th></th>\n",
              "      <th>aluguel</th>\n",
              "      <th>quartos</th>\n",
              "      <th>banheiro</th>\n",
              "      <th>vaga</th>\n",
              "      <th>area</th>\n",
              "    </tr>\n",
              "  </thead>\n",
              "  <tbody>\n",
              "    <tr>\n",
              "      <th>0</th>\n",
              "      <td>1.900</td>\n",
              "      <td>2</td>\n",
              "      <td>2</td>\n",
              "      <td>1</td>\n",
              "      <td>80</td>\n",
              "    </tr>\n",
              "    <tr>\n",
              "      <th>1</th>\n",
              "      <td>3.300</td>\n",
              "      <td>1</td>\n",
              "      <td>1</td>\n",
              "      <td>1</td>\n",
              "      <td>34</td>\n",
              "    </tr>\n",
              "    <tr>\n",
              "      <th>2</th>\n",
              "      <td>7.000</td>\n",
              "      <td></td>\n",
              "      <td>2</td>\n",
              "      <td>4</td>\n",
              "      <td>95</td>\n",
              "    </tr>\n",
              "    <tr>\n",
              "      <th>3</th>\n",
              "      <td>5.100</td>\n",
              "      <td>2</td>\n",
              "      <td>4</td>\n",
              "      <td>2</td>\n",
              "      <td>107</td>\n",
              "    </tr>\n",
              "    <tr>\n",
              "      <th>4</th>\n",
              "      <td>2.300</td>\n",
              "      <td>2</td>\n",
              "      <td>2</td>\n",
              "      <td>1</td>\n",
              "      <td>65</td>\n",
              "    </tr>\n",
              "  </tbody>\n",
              "</table>\n",
              "</div>"
            ],
            "text/plain": [
              "  aluguel quartos banheiro  vaga      area\n",
              "0  1.900     2        2     1        80   \n",
              "1  3.300     1        1     1        34   \n",
              "2  7.000              2     4        95   \n",
              "3  5.100     2        4     2       107   \n",
              "4  2.300     2        2     1        65   "
            ]
          },
          "metadata": {
            "tags": []
          },
          "execution_count": 465
        }
      ]
    },
    {
      "cell_type": "code",
      "metadata": {
        "id": "68i-Rcbcm6fc"
      },
      "source": [
        "# Gerando o banco de dados dos imóveis solicitados\n",
        "\n",
        "df2.to_csv('banco_imoveis.csv')"
      ],
      "execution_count": null,
      "outputs": []
    },
    {
      "cell_type": "code",
      "metadata": {
        "id": "I_zhppz-m6fc"
      },
      "source": [
        "# Baixando datset e o nomeando\n",
        "\n",
        "imoveis = pd.read_csv(\"banco_imoveis.csv\")"
      ],
      "execution_count": null,
      "outputs": []
    },
    {
      "cell_type": "code",
      "metadata": {
        "id": "0TTBm5Pa3Zsi",
        "colab": {
          "base_uri": "https://localhost:8080/",
          "height": 203
        },
        "outputId": "181c6560-fe5e-4ed2-9613-3eadeed3caf7"
      },
      "source": [
        "# Visualização do dataset\n",
        "\n",
        "imoveis.head()"
      ],
      "execution_count": null,
      "outputs": [
        {
          "output_type": "execute_result",
          "data": {
            "text/html": [
              "<div>\n",
              "<style scoped>\n",
              "    .dataframe tbody tr th:only-of-type {\n",
              "        vertical-align: middle;\n",
              "    }\n",
              "\n",
              "    .dataframe tbody tr th {\n",
              "        vertical-align: top;\n",
              "    }\n",
              "\n",
              "    .dataframe thead th {\n",
              "        text-align: right;\n",
              "    }\n",
              "</style>\n",
              "<table border=\"1\" class=\"dataframe\">\n",
              "  <thead>\n",
              "    <tr style=\"text-align: right;\">\n",
              "      <th></th>\n",
              "      <th>Unnamed: 0</th>\n",
              "      <th>aluguel</th>\n",
              "      <th>quartos</th>\n",
              "      <th>banheiro</th>\n",
              "      <th>vaga</th>\n",
              "      <th>area</th>\n",
              "    </tr>\n",
              "  </thead>\n",
              "  <tbody>\n",
              "    <tr>\n",
              "      <th>0</th>\n",
              "      <td>0</td>\n",
              "      <td>1.9</td>\n",
              "      <td>2.0</td>\n",
              "      <td>2</td>\n",
              "      <td>1.0</td>\n",
              "      <td>80</td>\n",
              "    </tr>\n",
              "    <tr>\n",
              "      <th>1</th>\n",
              "      <td>1</td>\n",
              "      <td>3.3</td>\n",
              "      <td>1.0</td>\n",
              "      <td>1</td>\n",
              "      <td>1.0</td>\n",
              "      <td>34</td>\n",
              "    </tr>\n",
              "    <tr>\n",
              "      <th>2</th>\n",
              "      <td>2</td>\n",
              "      <td>7.0</td>\n",
              "      <td>NaN</td>\n",
              "      <td>2</td>\n",
              "      <td>4.0</td>\n",
              "      <td>95</td>\n",
              "    </tr>\n",
              "    <tr>\n",
              "      <th>3</th>\n",
              "      <td>3</td>\n",
              "      <td>5.1</td>\n",
              "      <td>2.0</td>\n",
              "      <td>4</td>\n",
              "      <td>2.0</td>\n",
              "      <td>107</td>\n",
              "    </tr>\n",
              "    <tr>\n",
              "      <th>4</th>\n",
              "      <td>4</td>\n",
              "      <td>2.3</td>\n",
              "      <td>2.0</td>\n",
              "      <td>2</td>\n",
              "      <td>1.0</td>\n",
              "      <td>65</td>\n",
              "    </tr>\n",
              "  </tbody>\n",
              "</table>\n",
              "</div>"
            ],
            "text/plain": [
              "   Unnamed: 0  aluguel  quartos banheiro  vaga  area\n",
              "0           0      1.9      2.0     2      1.0    80\n",
              "1           1      3.3      1.0     1      1.0    34\n",
              "2           2      7.0      NaN     2      4.0    95\n",
              "3           3      5.1      2.0     4      2.0   107\n",
              "4           4      2.3      2.0     2      1.0    65"
            ]
          },
          "metadata": {
            "tags": []
          },
          "execution_count": 468
        }
      ]
    },
    {
      "cell_type": "code",
      "metadata": {
        "id": "OucGkCEV3bD1",
        "colab": {
          "base_uri": "https://localhost:8080/",
          "height": 203
        },
        "outputId": "4fd4738a-3680-4493-86e3-0b3f6c248a58"
      },
      "source": [
        "imoveis = pd.read_csv('banco_imoveis.csv'); imoveis.head()"
      ],
      "execution_count": null,
      "outputs": [
        {
          "output_type": "execute_result",
          "data": {
            "text/html": [
              "<div>\n",
              "<style scoped>\n",
              "    .dataframe tbody tr th:only-of-type {\n",
              "        vertical-align: middle;\n",
              "    }\n",
              "\n",
              "    .dataframe tbody tr th {\n",
              "        vertical-align: top;\n",
              "    }\n",
              "\n",
              "    .dataframe thead th {\n",
              "        text-align: right;\n",
              "    }\n",
              "</style>\n",
              "<table border=\"1\" class=\"dataframe\">\n",
              "  <thead>\n",
              "    <tr style=\"text-align: right;\">\n",
              "      <th></th>\n",
              "      <th>Unnamed: 0</th>\n",
              "      <th>aluguel</th>\n",
              "      <th>quartos</th>\n",
              "      <th>banheiro</th>\n",
              "      <th>vaga</th>\n",
              "      <th>area</th>\n",
              "    </tr>\n",
              "  </thead>\n",
              "  <tbody>\n",
              "    <tr>\n",
              "      <th>0</th>\n",
              "      <td>0</td>\n",
              "      <td>1.9</td>\n",
              "      <td>2.0</td>\n",
              "      <td>2</td>\n",
              "      <td>1.0</td>\n",
              "      <td>80</td>\n",
              "    </tr>\n",
              "    <tr>\n",
              "      <th>1</th>\n",
              "      <td>1</td>\n",
              "      <td>3.3</td>\n",
              "      <td>1.0</td>\n",
              "      <td>1</td>\n",
              "      <td>1.0</td>\n",
              "      <td>34</td>\n",
              "    </tr>\n",
              "    <tr>\n",
              "      <th>2</th>\n",
              "      <td>2</td>\n",
              "      <td>7.0</td>\n",
              "      <td>NaN</td>\n",
              "      <td>2</td>\n",
              "      <td>4.0</td>\n",
              "      <td>95</td>\n",
              "    </tr>\n",
              "    <tr>\n",
              "      <th>3</th>\n",
              "      <td>3</td>\n",
              "      <td>5.1</td>\n",
              "      <td>2.0</td>\n",
              "      <td>4</td>\n",
              "      <td>2.0</td>\n",
              "      <td>107</td>\n",
              "    </tr>\n",
              "    <tr>\n",
              "      <th>4</th>\n",
              "      <td>4</td>\n",
              "      <td>2.3</td>\n",
              "      <td>2.0</td>\n",
              "      <td>2</td>\n",
              "      <td>1.0</td>\n",
              "      <td>65</td>\n",
              "    </tr>\n",
              "  </tbody>\n",
              "</table>\n",
              "</div>"
            ],
            "text/plain": [
              "   Unnamed: 0  aluguel  quartos banheiro  vaga  area\n",
              "0           0      1.9      2.0     2      1.0    80\n",
              "1           1      3.3      1.0     1      1.0    34\n",
              "2           2      7.0      NaN     2      4.0    95\n",
              "3           3      5.1      2.0     4      2.0   107\n",
              "4           4      2.3      2.0     2      1.0    65"
            ]
          },
          "metadata": {
            "tags": []
          },
          "execution_count": 469
        }
      ]
    },
    {
      "cell_type": "code",
      "metadata": {
        "id": "RiZveaBVqg4X",
        "colab": {
          "base_uri": "https://localhost:8080/",
          "height": 203
        },
        "outputId": "768d787d-b1d5-4f11-ac9b-4ab4e5cacc5b"
      },
      "source": [
        "imoveis.head()"
      ],
      "execution_count": null,
      "outputs": [
        {
          "output_type": "execute_result",
          "data": {
            "text/html": [
              "<div>\n",
              "<style scoped>\n",
              "    .dataframe tbody tr th:only-of-type {\n",
              "        vertical-align: middle;\n",
              "    }\n",
              "\n",
              "    .dataframe tbody tr th {\n",
              "        vertical-align: top;\n",
              "    }\n",
              "\n",
              "    .dataframe thead th {\n",
              "        text-align: right;\n",
              "    }\n",
              "</style>\n",
              "<table border=\"1\" class=\"dataframe\">\n",
              "  <thead>\n",
              "    <tr style=\"text-align: right;\">\n",
              "      <th></th>\n",
              "      <th>Unnamed: 0</th>\n",
              "      <th>aluguel</th>\n",
              "      <th>quartos</th>\n",
              "      <th>banheiro</th>\n",
              "      <th>vaga</th>\n",
              "      <th>area</th>\n",
              "    </tr>\n",
              "  </thead>\n",
              "  <tbody>\n",
              "    <tr>\n",
              "      <th>0</th>\n",
              "      <td>0</td>\n",
              "      <td>1.9</td>\n",
              "      <td>2.0</td>\n",
              "      <td>2</td>\n",
              "      <td>1.0</td>\n",
              "      <td>80</td>\n",
              "    </tr>\n",
              "    <tr>\n",
              "      <th>1</th>\n",
              "      <td>1</td>\n",
              "      <td>3.3</td>\n",
              "      <td>1.0</td>\n",
              "      <td>1</td>\n",
              "      <td>1.0</td>\n",
              "      <td>34</td>\n",
              "    </tr>\n",
              "    <tr>\n",
              "      <th>2</th>\n",
              "      <td>2</td>\n",
              "      <td>7.0</td>\n",
              "      <td>NaN</td>\n",
              "      <td>2</td>\n",
              "      <td>4.0</td>\n",
              "      <td>95</td>\n",
              "    </tr>\n",
              "    <tr>\n",
              "      <th>3</th>\n",
              "      <td>3</td>\n",
              "      <td>5.1</td>\n",
              "      <td>2.0</td>\n",
              "      <td>4</td>\n",
              "      <td>2.0</td>\n",
              "      <td>107</td>\n",
              "    </tr>\n",
              "    <tr>\n",
              "      <th>4</th>\n",
              "      <td>4</td>\n",
              "      <td>2.3</td>\n",
              "      <td>2.0</td>\n",
              "      <td>2</td>\n",
              "      <td>1.0</td>\n",
              "      <td>65</td>\n",
              "    </tr>\n",
              "  </tbody>\n",
              "</table>\n",
              "</div>"
            ],
            "text/plain": [
              "   Unnamed: 0  aluguel  quartos banheiro  vaga  area\n",
              "0           0      1.9      2.0     2      1.0    80\n",
              "1           1      3.3      1.0     1      1.0    34\n",
              "2           2      7.0      NaN     2      4.0    95\n",
              "3           3      5.1      2.0     4      2.0   107\n",
              "4           4      2.3      2.0     2      1.0    65"
            ]
          },
          "metadata": {
            "tags": []
          },
          "execution_count": 470
        }
      ]
    },
    {
      "cell_type": "code",
      "metadata": {
        "id": "BEYmYPV7gnGg"
      },
      "source": [
        "# Excluindo valores NaN\n",
        "\n",
        "imoveis.dropna(inplace=True)"
      ],
      "execution_count": null,
      "outputs": []
    },
    {
      "cell_type": "code",
      "metadata": {
        "colab": {
          "base_uri": "https://localhost:8080/"
        },
        "id": "-jaKEXEtgr3S",
        "outputId": "d79ea094-f38c-477b-e1a9-36a37782ca3a"
      },
      "source": [
        "# Verificando a efetivação da exclusão\n",
        "\n",
        "imoveis.isnull().sum()"
      ],
      "execution_count": null,
      "outputs": [
        {
          "output_type": "execute_result",
          "data": {
            "text/plain": [
              "Unnamed: 0    0\n",
              "aluguel       0\n",
              "quartos       0\n",
              "banheiro      0\n",
              "vaga          0\n",
              "area          0\n",
              "dtype: int64"
            ]
          },
          "metadata": {
            "tags": []
          },
          "execution_count": 472
        }
      ]
    },
    {
      "cell_type": "code",
      "metadata": {
        "id": "BiYoF4Ah3gBM"
      },
      "source": [
        "# Treino e teste\n",
        "\n",
        "X_train, X_val, y_train, y_val = train_test_split(imoveis.drop('aluguel', axis=1), \n",
        "                                                  imoveis['aluguel'], test_size=0.2,\n",
        "                                                  random_state=5)"
      ],
      "execution_count": null,
      "outputs": []
    },
    {
      "cell_type": "code",
      "metadata": {
        "id": "ZfDbDIBRolvv"
      },
      "source": [
        "X_test = imoveis.drop('aluguel', axis=1)"
      ],
      "execution_count": null,
      "outputs": []
    },
    {
      "cell_type": "code",
      "metadata": {
        "id": "TcIhnI0jonsi"
      },
      "source": [
        "y_test = imoveis['aluguel']"
      ],
      "execution_count": null,
      "outputs": []
    },
    {
      "cell_type": "code",
      "metadata": {
        "colab": {
          "base_uri": "https://localhost:8080/",
          "height": 295
        },
        "id": "bWzOEjJH-bx0",
        "outputId": "b5d52492-105e-4a3c-bee5-4af1f641602f"
      },
      "source": [
        "X_train.describe()"
      ],
      "execution_count": null,
      "outputs": [
        {
          "output_type": "execute_result",
          "data": {
            "text/html": [
              "<div>\n",
              "<style scoped>\n",
              "    .dataframe tbody tr th:only-of-type {\n",
              "        vertical-align: middle;\n",
              "    }\n",
              "\n",
              "    .dataframe tbody tr th {\n",
              "        vertical-align: top;\n",
              "    }\n",
              "\n",
              "    .dataframe thead th {\n",
              "        text-align: right;\n",
              "    }\n",
              "</style>\n",
              "<table border=\"1\" class=\"dataframe\">\n",
              "  <thead>\n",
              "    <tr style=\"text-align: right;\">\n",
              "      <th></th>\n",
              "      <th>Unnamed: 0</th>\n",
              "      <th>quartos</th>\n",
              "      <th>vaga</th>\n",
              "      <th>area</th>\n",
              "    </tr>\n",
              "  </thead>\n",
              "  <tbody>\n",
              "    <tr>\n",
              "      <th>count</th>\n",
              "      <td>840.000000</td>\n",
              "      <td>840.000000</td>\n",
              "      <td>840.000000</td>\n",
              "      <td>840.000000</td>\n",
              "    </tr>\n",
              "    <tr>\n",
              "      <th>mean</th>\n",
              "      <td>15.303571</td>\n",
              "      <td>2.096429</td>\n",
              "      <td>1.622619</td>\n",
              "      <td>100.008333</td>\n",
              "    </tr>\n",
              "    <tr>\n",
              "      <th>std</th>\n",
              "      <td>10.157144</td>\n",
              "      <td>0.920686</td>\n",
              "      <td>0.965045</td>\n",
              "      <td>70.095720</td>\n",
              "    </tr>\n",
              "    <tr>\n",
              "      <th>min</th>\n",
              "      <td>0.000000</td>\n",
              "      <td>1.000000</td>\n",
              "      <td>1.000000</td>\n",
              "      <td>29.000000</td>\n",
              "    </tr>\n",
              "    <tr>\n",
              "      <th>25%</th>\n",
              "      <td>6.000000</td>\n",
              "      <td>1.000000</td>\n",
              "      <td>1.000000</td>\n",
              "      <td>47.000000</td>\n",
              "    </tr>\n",
              "    <tr>\n",
              "      <th>50%</th>\n",
              "      <td>16.000000</td>\n",
              "      <td>2.000000</td>\n",
              "      <td>1.000000</td>\n",
              "      <td>70.000000</td>\n",
              "    </tr>\n",
              "    <tr>\n",
              "      <th>75%</th>\n",
              "      <td>23.000000</td>\n",
              "      <td>3.000000</td>\n",
              "      <td>2.000000</td>\n",
              "      <td>125.000000</td>\n",
              "    </tr>\n",
              "    <tr>\n",
              "      <th>max</th>\n",
              "      <td>34.000000</td>\n",
              "      <td>4.000000</td>\n",
              "      <td>5.000000</td>\n",
              "      <td>266.000000</td>\n",
              "    </tr>\n",
              "  </tbody>\n",
              "</table>\n",
              "</div>"
            ],
            "text/plain": [
              "       Unnamed: 0     quartos        vaga        area\n",
              "count  840.000000  840.000000  840.000000  840.000000\n",
              "mean    15.303571    2.096429    1.622619  100.008333\n",
              "std     10.157144    0.920686    0.965045   70.095720\n",
              "min      0.000000    1.000000    1.000000   29.000000\n",
              "25%      6.000000    1.000000    1.000000   47.000000\n",
              "50%     16.000000    2.000000    1.000000   70.000000\n",
              "75%     23.000000    3.000000    2.000000  125.000000\n",
              "max     34.000000    4.000000    5.000000  266.000000"
            ]
          },
          "metadata": {
            "tags": []
          },
          "execution_count": 476
        }
      ]
    },
    {
      "cell_type": "code",
      "metadata": {
        "colab": {
          "base_uri": "https://localhost:8080/",
          "height": 295
        },
        "id": "EJxIboMS-lGf",
        "outputId": "68334a95-7950-4b50-d804-3301285bcdfb"
      },
      "source": [
        "X_val.describe()"
      ],
      "execution_count": null,
      "outputs": [
        {
          "output_type": "execute_result",
          "data": {
            "text/html": [
              "<div>\n",
              "<style scoped>\n",
              "    .dataframe tbody tr th:only-of-type {\n",
              "        vertical-align: middle;\n",
              "    }\n",
              "\n",
              "    .dataframe tbody tr th {\n",
              "        vertical-align: top;\n",
              "    }\n",
              "\n",
              "    .dataframe thead th {\n",
              "        text-align: right;\n",
              "    }\n",
              "</style>\n",
              "<table border=\"1\" class=\"dataframe\">\n",
              "  <thead>\n",
              "    <tr style=\"text-align: right;\">\n",
              "      <th></th>\n",
              "      <th>Unnamed: 0</th>\n",
              "      <th>quartos</th>\n",
              "      <th>vaga</th>\n",
              "      <th>area</th>\n",
              "    </tr>\n",
              "  </thead>\n",
              "  <tbody>\n",
              "    <tr>\n",
              "      <th>count</th>\n",
              "      <td>210.000000</td>\n",
              "      <td>210.000000</td>\n",
              "      <td>210.000000</td>\n",
              "      <td>210.000000</td>\n",
              "    </tr>\n",
              "    <tr>\n",
              "      <th>mean</th>\n",
              "      <td>15.452381</td>\n",
              "      <td>2.090476</td>\n",
              "      <td>1.604762</td>\n",
              "      <td>99.728571</td>\n",
              "    </tr>\n",
              "    <tr>\n",
              "      <th>std</th>\n",
              "      <td>9.945311</td>\n",
              "      <td>0.926177</td>\n",
              "      <td>0.891736</td>\n",
              "      <td>67.511598</td>\n",
              "    </tr>\n",
              "    <tr>\n",
              "      <th>min</th>\n",
              "      <td>0.000000</td>\n",
              "      <td>1.000000</td>\n",
              "      <td>1.000000</td>\n",
              "      <td>29.000000</td>\n",
              "    </tr>\n",
              "    <tr>\n",
              "      <th>25%</th>\n",
              "      <td>6.000000</td>\n",
              "      <td>1.000000</td>\n",
              "      <td>1.000000</td>\n",
              "      <td>47.000000</td>\n",
              "    </tr>\n",
              "    <tr>\n",
              "      <th>50%</th>\n",
              "      <td>16.000000</td>\n",
              "      <td>2.000000</td>\n",
              "      <td>1.000000</td>\n",
              "      <td>70.000000</td>\n",
              "    </tr>\n",
              "    <tr>\n",
              "      <th>75%</th>\n",
              "      <td>23.000000</td>\n",
              "      <td>3.000000</td>\n",
              "      <td>2.000000</td>\n",
              "      <td>125.000000</td>\n",
              "    </tr>\n",
              "    <tr>\n",
              "      <th>max</th>\n",
              "      <td>34.000000</td>\n",
              "      <td>4.000000</td>\n",
              "      <td>5.000000</td>\n",
              "      <td>266.000000</td>\n",
              "    </tr>\n",
              "  </tbody>\n",
              "</table>\n",
              "</div>"
            ],
            "text/plain": [
              "       Unnamed: 0     quartos        vaga        area\n",
              "count  210.000000  210.000000  210.000000  210.000000\n",
              "mean    15.452381    2.090476    1.604762   99.728571\n",
              "std      9.945311    0.926177    0.891736   67.511598\n",
              "min      0.000000    1.000000    1.000000   29.000000\n",
              "25%      6.000000    1.000000    1.000000   47.000000\n",
              "50%     16.000000    2.000000    1.000000   70.000000\n",
              "75%     23.000000    3.000000    2.000000  125.000000\n",
              "max     34.000000    4.000000    5.000000  266.000000"
            ]
          },
          "metadata": {
            "tags": []
          },
          "execution_count": 477
        }
      ]
    },
    {
      "cell_type": "code",
      "metadata": {
        "colab": {
          "base_uri": "https://localhost:8080/",
          "height": 203
        },
        "id": "c5N006DRozU8",
        "outputId": "5f23e7fe-1e12-46a8-8b38-247a89f5efbd"
      },
      "source": [
        "X_test.head()"
      ],
      "execution_count": null,
      "outputs": [
        {
          "output_type": "execute_result",
          "data": {
            "text/html": [
              "<div>\n",
              "<style scoped>\n",
              "    .dataframe tbody tr th:only-of-type {\n",
              "        vertical-align: middle;\n",
              "    }\n",
              "\n",
              "    .dataframe tbody tr th {\n",
              "        vertical-align: top;\n",
              "    }\n",
              "\n",
              "    .dataframe thead th {\n",
              "        text-align: right;\n",
              "    }\n",
              "</style>\n",
              "<table border=\"1\" class=\"dataframe\">\n",
              "  <thead>\n",
              "    <tr style=\"text-align: right;\">\n",
              "      <th></th>\n",
              "      <th>Unnamed: 0</th>\n",
              "      <th>quartos</th>\n",
              "      <th>banheiro</th>\n",
              "      <th>vaga</th>\n",
              "      <th>area</th>\n",
              "    </tr>\n",
              "  </thead>\n",
              "  <tbody>\n",
              "    <tr>\n",
              "      <th>0</th>\n",
              "      <td>0</td>\n",
              "      <td>2.0</td>\n",
              "      <td>2</td>\n",
              "      <td>1.0</td>\n",
              "      <td>80</td>\n",
              "    </tr>\n",
              "    <tr>\n",
              "      <th>1</th>\n",
              "      <td>1</td>\n",
              "      <td>1.0</td>\n",
              "      <td>1</td>\n",
              "      <td>1.0</td>\n",
              "      <td>34</td>\n",
              "    </tr>\n",
              "    <tr>\n",
              "      <th>3</th>\n",
              "      <td>3</td>\n",
              "      <td>2.0</td>\n",
              "      <td>4</td>\n",
              "      <td>2.0</td>\n",
              "      <td>107</td>\n",
              "    </tr>\n",
              "    <tr>\n",
              "      <th>4</th>\n",
              "      <td>4</td>\n",
              "      <td>2.0</td>\n",
              "      <td>2</td>\n",
              "      <td>1.0</td>\n",
              "      <td>65</td>\n",
              "    </tr>\n",
              "    <tr>\n",
              "      <th>5</th>\n",
              "      <td>5</td>\n",
              "      <td>3.0</td>\n",
              "      <td>3</td>\n",
              "      <td>2.0</td>\n",
              "      <td>125</td>\n",
              "    </tr>\n",
              "  </tbody>\n",
              "</table>\n",
              "</div>"
            ],
            "text/plain": [
              "   Unnamed: 0  quartos banheiro  vaga  area\n",
              "0           0      2.0     2      1.0    80\n",
              "1           1      1.0     1      1.0    34\n",
              "3           3      2.0     4      2.0   107\n",
              "4           4      2.0     2      1.0    65\n",
              "5           5      3.0     3      2.0   125"
            ]
          },
          "metadata": {
            "tags": []
          },
          "execution_count": 478
        }
      ]
    },
    {
      "cell_type": "code",
      "metadata": {
        "colab": {
          "base_uri": "https://localhost:8080/"
        },
        "id": "g5oQ-Czto1iU",
        "outputId": "9866b86e-d2ae-4cc8-f01a-7b800ded4dcd"
      },
      "source": [
        "y_test.head()"
      ],
      "execution_count": null,
      "outputs": [
        {
          "output_type": "execute_result",
          "data": {
            "text/plain": [
              "0    1.9\n",
              "1    3.3\n",
              "3    5.1\n",
              "4    2.3\n",
              "5    2.5\n",
              "Name: aluguel, dtype: float64"
            ]
          },
          "metadata": {
            "tags": []
          },
          "execution_count": 479
        }
      ]
    },
    {
      "cell_type": "code",
      "metadata": {
        "id": "f-pLZVwrHGIv"
      },
      "source": [
        "imoveis[\"quartos\"] = pd.get_dummies(imoveis[\"quartos\"])"
      ],
      "execution_count": null,
      "outputs": []
    },
    {
      "cell_type": "code",
      "metadata": {
        "id": "-xhvkL5c-qtS"
      },
      "source": [
        "# Regressão linear\n",
        "\n",
        "reg = LinearRegression()"
      ],
      "execution_count": null,
      "outputs": []
    },
    {
      "cell_type": "code",
      "metadata": {
        "colab": {
          "base_uri": "https://localhost:8080/"
        },
        "id": "Tlg14bktamTa",
        "outputId": "b1f3522d-a5ee-488e-c4c9-6cb030e73a77"
      },
      "source": [
        "reg.fit(X_train, y_train)"
      ],
      "execution_count": null,
      "outputs": [
        {
          "output_type": "execute_result",
          "data": {
            "text/plain": [
              "LinearRegression(copy_X=True, fit_intercept=True, n_jobs=None, normalize=False)"
            ]
          },
          "metadata": {
            "tags": []
          },
          "execution_count": 482
        }
      ]
    },
    {
      "cell_type": "code",
      "metadata": {
        "id": "F65b7Pv2Zg0o",
        "colab": {
          "base_uri": "https://localhost:8080/"
        },
        "outputId": "61aed406-399f-454d-dbcf-41c85a994d54"
      },
      "source": [
        "reg.coef_"
      ],
      "execution_count": null,
      "outputs": [
        {
          "output_type": "execute_result",
          "data": {
            "text/plain": [
              "array([-0.01043641, -2.85450585,  0.03666748,  4.65650066,  0.07051964])"
            ]
          },
          "metadata": {
            "tags": []
          },
          "execution_count": 483
        }
      ]
    },
    {
      "cell_type": "code",
      "metadata": {
        "id": "9JCKFwCDZycl",
        "colab": {
          "base_uri": "https://localhost:8080/"
        },
        "outputId": "067fe6d4-c07b-4be6-cf60-d0db58ae2c5d"
      },
      "source": [
        "np.expm1(reg.predict([[0, 1, 0, np.log1p(2), np.log1p(80)]]))"
      ],
      "execution_count": null,
      "outputs": [
        {
          "output_type": "execute_result",
          "data": {
            "text/plain": [
              "array([0.26414971])"
            ]
          },
          "metadata": {
            "tags": []
          },
          "execution_count": 484
        }
      ]
    },
    {
      "cell_type": "code",
      "metadata": {
        "id": "aEuLz1PNZ4P4"
      },
      "source": [
        "y_pred = reg.predict(X_val)"
      ],
      "execution_count": null,
      "outputs": []
    },
    {
      "cell_type": "code",
      "metadata": {
        "id": "p54Uw-8YdxGs",
        "colab": {
          "base_uri": "https://localhost:8080/"
        },
        "outputId": "be6d4cff-06ae-4a37-c7be-3433eb98a76a"
      },
      "source": [
        "r2_score(y_val, y_pred)"
      ],
      "execution_count": null,
      "outputs": [
        {
          "output_type": "execute_result",
          "data": {
            "text/plain": [
              "0.9082384486498692"
            ]
          },
          "metadata": {
            "tags": []
          },
          "execution_count": 486
        }
      ]
    },
    {
      "cell_type": "code",
      "metadata": {
        "id": "-Fl4cvcViIL0",
        "colab": {
          "base_uri": "https://localhost:8080/"
        },
        "outputId": "a970db76-ed40-4bf7-8a09-08dc1eea935c"
      },
      "source": [
        "reg.score(X_val, y_val)"
      ],
      "execution_count": null,
      "outputs": [
        {
          "output_type": "execute_result",
          "data": {
            "text/plain": [
              "0.9082384486498692"
            ]
          },
          "metadata": {
            "tags": []
          },
          "execution_count": 487
        }
      ]
    },
    {
      "cell_type": "code",
      "metadata": {
        "id": "5C25YjDangP9",
        "colab": {
          "base_uri": "https://localhost:8080/"
        },
        "outputId": "9be10fec-6621-486b-874a-ba97d39c0825"
      },
      "source": [
        "reg.score(X_test, y_test)"
      ],
      "execution_count": null,
      "outputs": [
        {
          "output_type": "execute_result",
          "data": {
            "text/plain": [
              "0.914845261241182"
            ]
          },
          "metadata": {
            "tags": []
          },
          "execution_count": 488
        }
      ]
    },
    {
      "cell_type": "code",
      "metadata": {
        "id": "wreadqmNo-uK",
        "colab": {
          "base_uri": "https://localhost:8080/"
        },
        "outputId": "639360f8-03cb-4377-8fda-24dd1ddbe716"
      },
      "source": [
        "reg.score(X_train, y_train)"
      ],
      "execution_count": null,
      "outputs": [
        {
          "output_type": "execute_result",
          "data": {
            "text/plain": [
              "0.9162702746280349"
            ]
          },
          "metadata": {
            "tags": []
          },
          "execution_count": 489
        }
      ]
    },
    {
      "cell_type": "code",
      "metadata": {
        "id": "Ruvt2dyNpL_G"
      },
      "source": [
        "# Random Forest\n",
        "\n",
        "reg = RandomForestRegressor()"
      ],
      "execution_count": null,
      "outputs": []
    },
    {
      "cell_type": "code",
      "metadata": {
        "id": "WiQgaRV-qeCw",
        "colab": {
          "base_uri": "https://localhost:8080/"
        },
        "outputId": "604605a1-8442-44a5-9685-6184458a85ad"
      },
      "source": [
        "reg.fit(X_train, y_train)"
      ],
      "execution_count": null,
      "outputs": [
        {
          "output_type": "execute_result",
          "data": {
            "text/plain": [
              "RandomForestRegressor(bootstrap=True, ccp_alpha=0.0, criterion='mse',\n",
              "                      max_depth=None, max_features='auto', max_leaf_nodes=None,\n",
              "                      max_samples=None, min_impurity_decrease=0.0,\n",
              "                      min_impurity_split=None, min_samples_leaf=1,\n",
              "                      min_samples_split=2, min_weight_fraction_leaf=0.0,\n",
              "                      n_estimators=100, n_jobs=None, oob_score=False,\n",
              "                      random_state=None, verbose=0, warm_start=False)"
            ]
          },
          "metadata": {
            "tags": []
          },
          "execution_count": 491
        }
      ]
    },
    {
      "cell_type": "code",
      "metadata": {
        "id": "uhPpVOHIqen9",
        "colab": {
          "base_uri": "https://localhost:8080/"
        },
        "outputId": "7b6e1898-929a-4af3-f17a-31b0608d14a9"
      },
      "source": [
        "reg.score(X_val, y_val)"
      ],
      "execution_count": null,
      "outputs": [
        {
          "output_type": "execute_result",
          "data": {
            "text/plain": [
              "1.0"
            ]
          },
          "metadata": {
            "tags": []
          },
          "execution_count": 492
        }
      ]
    },
    {
      "cell_type": "code",
      "metadata": {
        "id": "WQSGlRd6q-cN",
        "colab": {
          "base_uri": "https://localhost:8080/"
        },
        "outputId": "40b63963-818f-4f31-bcb0-f31ac0c2f726"
      },
      "source": [
        "reg.score(X_train, y_train)"
      ],
      "execution_count": null,
      "outputs": [
        {
          "output_type": "execute_result",
          "data": {
            "text/plain": [
              "1.0"
            ]
          },
          "metadata": {
            "tags": []
          },
          "execution_count": 493
        }
      ]
    },
    {
      "cell_type": "code",
      "metadata": {
        "id": "fl8Roj00rGE0",
        "colab": {
          "base_uri": "https://localhost:8080/"
        },
        "outputId": "50bdff6d-733d-4bf0-e39e-1ee30507f76e"
      },
      "source": [
        "reg.score(X_test, y_test)"
      ],
      "execution_count": null,
      "outputs": [
        {
          "output_type": "execute_result",
          "data": {
            "text/plain": [
              "1.0"
            ]
          },
          "metadata": {
            "tags": []
          },
          "execution_count": 494
        }
      ]
    },
    {
      "cell_type": "code",
      "metadata": {
        "id": "SuHLelB0s1uW"
      },
      "source": [
        "# Regressão fictícia\n",
        "\n",
        "reg = DummyRegressor(strategy=\"median\")"
      ],
      "execution_count": null,
      "outputs": []
    },
    {
      "cell_type": "code",
      "metadata": {
        "id": "NSb-TXU_rMsJ",
        "colab": {
          "base_uri": "https://localhost:8080/"
        },
        "outputId": "0c40a4d1-ffae-4880-d475-f4d2289bcb17"
      },
      "source": [
        "reg.fit(X_train, y_train)"
      ],
      "execution_count": null,
      "outputs": [
        {
          "output_type": "execute_result",
          "data": {
            "text/plain": [
              "DummyRegressor(constant=None, quantile=None, strategy='median')"
            ]
          },
          "metadata": {
            "tags": []
          },
          "execution_count": 496
        }
      ]
    },
    {
      "cell_type": "code",
      "metadata": {
        "id": "c7ZAOtZwtA4z",
        "colab": {
          "base_uri": "https://localhost:8080/"
        },
        "outputId": "e209222e-2bf4-4360-b6f2-f581eb77a056"
      },
      "source": [
        "reg.score(X_train, y_train)"
      ],
      "execution_count": null,
      "outputs": [
        {
          "output_type": "execute_result",
          "data": {
            "text/plain": [
              "-0.21912328634990885"
            ]
          },
          "metadata": {
            "tags": []
          },
          "execution_count": 497
        }
      ]
    },
    {
      "cell_type": "code",
      "metadata": {
        "id": "JJPDLfTttBGb",
        "colab": {
          "base_uri": "https://localhost:8080/"
        },
        "outputId": "f444a2ca-e473-4d84-cbce-9d633a13565e"
      },
      "source": [
        "reg.score(X_val, y_val)"
      ],
      "execution_count": null,
      "outputs": [
        {
          "output_type": "execute_result",
          "data": {
            "text/plain": [
              "-0.21209561695234294"
            ]
          },
          "metadata": {
            "tags": []
          },
          "execution_count": 498
        }
      ]
    },
    {
      "cell_type": "code",
      "metadata": {
        "id": "kfO2ZiAVtF94",
        "colab": {
          "base_uri": "https://localhost:8080/"
        },
        "outputId": "14a36f34-792b-4795-f242-fc07f116e0c4"
      },
      "source": [
        "reg.score(X_test, y_test)"
      ],
      "execution_count": null,
      "outputs": [
        {
          "output_type": "execute_result",
          "data": {
            "text/plain": [
              "-0.21758821389694738"
            ]
          },
          "metadata": {
            "tags": []
          },
          "execution_count": 499
        }
      ]
    },
    {
      "cell_type": "code",
      "metadata": {
        "id": "sWtLW2qQzgfw"
      },
      "source": [
        "# Comparar Estimadores\n",
        "\n",
        "from sklearn.linear_model import Ridge, Lasso, ElasticNet, LassoLars, HuberRegressor\n",
        "from sklearn.svm import SVR\n",
        "from sklearn.neighbors import KNeighborsRegressor\n",
        "from sklearn.ensemble import GradientBoostingRegressor, AdaBoostRegressor\n",
        "from sklearn.neural_network import MLPRegressor "
      ],
      "execution_count": null,
      "outputs": []
    },
    {
      "cell_type": "code",
      "metadata": {
        "id": "RXgESY1ZzLxA"
      },
      "source": [
        "reg_list = [Ridge(),\n",
        "            Lasso(),\n",
        "            ElasticNet(),\n",
        "            LassoLars(),\n",
        "            HuberRegressor(),\n",
        "            LGBMRegressor(), \n",
        "            XGBRegressor(objective='reg:squarederror'),\n",
        "            SVR(),\n",
        "            KNeighborsRegressor(),\n",
        "            AdaBoostRegressor(),\n",
        "            GradientBoostingRegressor(),\n",
        "            MLPRegressor()\n",
        "            ]"
      ],
      "execution_count": null,
      "outputs": []
    },
    {
      "cell_type": "code",
      "metadata": {
        "id": "ikr6lYba1s3g",
        "colab": {
          "base_uri": "https://localhost:8080/",
          "height": 841
        },
        "outputId": "d6f2515b-2e3a-4459-a97b-619ac2fd467d"
      },
      "source": [
        "for reg in reg_list:\n",
        "    print(f'Treinando Modelo {reg.__class__.__name__}')\n",
        "    reg.fit(X_train, y_train)\n",
        "    valid_score = reg.score(X_val, y_val)\n",
        "    train_score = reg.score(X_train, y_train)\n",
        "    print(f\"R2 Score Train: {train_score}\")\n",
        "    print(f\"R2 Score Validation: {valid_score}\")\n",
        "    print('='*80)"
      ],
      "execution_count": null,
      "outputs": [
        {
          "output_type": "stream",
          "text": [
            "Treinando Modelo Ridge\n",
            "R2 Score Train: 0.9162662381738231\n",
            "R2 Score Validation: 0.9082220557151577\n",
            "================================================================================\n",
            "Treinando Modelo Lasso\n",
            "R2 Score Train: 0.8238960246864713\n",
            "R2 Score Validation: 0.8066380570348848\n",
            "================================================================================\n",
            "Treinando Modelo ElasticNet\n",
            "R2 Score Train: 0.8237803027742526\n",
            "R2 Score Validation: 0.8065598352126568\n",
            "================================================================================\n",
            "Treinando Modelo LassoLars\n",
            "R2 Score Train: 0.0\n",
            "R2 Score Validation: -0.0015508857270898346\n",
            "================================================================================\n",
            "Treinando Modelo HuberRegressor\n",
            "R2 Score Train: 0.912532991597503\n",
            "R2 Score Validation: 0.9015384926049441\n",
            "================================================================================\n",
            "Treinando Modelo LGBMRegressor\n"
          ],
          "name": "stdout"
        },
        {
          "output_type": "stream",
          "text": [
            "/usr/local/lib/python3.7/dist-packages/sklearn/linear_model/_huber.py:296: ConvergenceWarning: lbfgs failed to converge (status=1):\n",
            "STOP: TOTAL NO. of ITERATIONS REACHED LIMIT.\n",
            "\n",
            "Increase the number of iterations (max_iter) or scale the data as shown in:\n",
            "    https://scikit-learn.org/stable/modules/preprocessing.html\n",
            "  self.n_iter_ = _check_optimize_result(\"lbfgs\", opt_res, self.max_iter)\n"
          ],
          "name": "stderr"
        },
        {
          "output_type": "error",
          "ename": "ValueError",
          "evalue": "ignored",
          "traceback": [
            "\u001b[0;31m---------------------------------------------------------------------------\u001b[0m",
            "\u001b[0;31mValueError\u001b[0m                                Traceback (most recent call last)",
            "\u001b[0;32m<ipython-input-502-00b8cff1d5bb>\u001b[0m in \u001b[0;36m<module>\u001b[0;34m()\u001b[0m\n\u001b[1;32m      1\u001b[0m \u001b[0;32mfor\u001b[0m \u001b[0mreg\u001b[0m \u001b[0;32min\u001b[0m \u001b[0mreg_list\u001b[0m\u001b[0;34m:\u001b[0m\u001b[0;34m\u001b[0m\u001b[0;34m\u001b[0m\u001b[0m\n\u001b[1;32m      2\u001b[0m     \u001b[0mprint\u001b[0m\u001b[0;34m(\u001b[0m\u001b[0;34mf'Treinando Modelo {reg.__class__.__name__}'\u001b[0m\u001b[0;34m)\u001b[0m\u001b[0;34m\u001b[0m\u001b[0;34m\u001b[0m\u001b[0m\n\u001b[0;32m----> 3\u001b[0;31m     \u001b[0mreg\u001b[0m\u001b[0;34m.\u001b[0m\u001b[0mfit\u001b[0m\u001b[0;34m(\u001b[0m\u001b[0mX_train\u001b[0m\u001b[0;34m,\u001b[0m \u001b[0my_train\u001b[0m\u001b[0;34m)\u001b[0m\u001b[0;34m\u001b[0m\u001b[0;34m\u001b[0m\u001b[0m\n\u001b[0m\u001b[1;32m      4\u001b[0m     \u001b[0mvalid_score\u001b[0m \u001b[0;34m=\u001b[0m \u001b[0mreg\u001b[0m\u001b[0;34m.\u001b[0m\u001b[0mscore\u001b[0m\u001b[0;34m(\u001b[0m\u001b[0mX_val\u001b[0m\u001b[0;34m,\u001b[0m \u001b[0my_val\u001b[0m\u001b[0;34m)\u001b[0m\u001b[0;34m\u001b[0m\u001b[0;34m\u001b[0m\u001b[0m\n\u001b[1;32m      5\u001b[0m     \u001b[0mtrain_score\u001b[0m \u001b[0;34m=\u001b[0m \u001b[0mreg\u001b[0m\u001b[0;34m.\u001b[0m\u001b[0mscore\u001b[0m\u001b[0;34m(\u001b[0m\u001b[0mX_train\u001b[0m\u001b[0;34m,\u001b[0m \u001b[0my_train\u001b[0m\u001b[0;34m)\u001b[0m\u001b[0;34m\u001b[0m\u001b[0;34m\u001b[0m\u001b[0m\n",
            "\u001b[0;32m/usr/local/lib/python3.7/dist-packages/lightgbm/sklearn.py\u001b[0m in \u001b[0;36mfit\u001b[0;34m(self, X, y, sample_weight, init_score, eval_set, eval_names, eval_sample_weight, eval_init_score, eval_metric, early_stopping_rounds, verbose, feature_name, categorical_feature, callbacks)\u001b[0m\n\u001b[1;32m    683\u001b[0m                                        \u001b[0mverbose\u001b[0m\u001b[0;34m=\u001b[0m\u001b[0mverbose\u001b[0m\u001b[0;34m,\u001b[0m \u001b[0mfeature_name\u001b[0m\u001b[0;34m=\u001b[0m\u001b[0mfeature_name\u001b[0m\u001b[0;34m,\u001b[0m\u001b[0;34m\u001b[0m\u001b[0;34m\u001b[0m\u001b[0m\n\u001b[1;32m    684\u001b[0m                                        \u001b[0mcategorical_feature\u001b[0m\u001b[0;34m=\u001b[0m\u001b[0mcategorical_feature\u001b[0m\u001b[0;34m,\u001b[0m\u001b[0;34m\u001b[0m\u001b[0;34m\u001b[0m\u001b[0m\n\u001b[0;32m--> 685\u001b[0;31m                                        callbacks=callbacks)\n\u001b[0m\u001b[1;32m    686\u001b[0m         \u001b[0;32mreturn\u001b[0m \u001b[0mself\u001b[0m\u001b[0;34m\u001b[0m\u001b[0;34m\u001b[0m\u001b[0m\n\u001b[1;32m    687\u001b[0m \u001b[0;34m\u001b[0m\u001b[0m\n",
            "\u001b[0;32m/usr/local/lib/python3.7/dist-packages/lightgbm/sklearn.py\u001b[0m in \u001b[0;36mfit\u001b[0;34m(self, X, y, sample_weight, init_score, group, eval_set, eval_names, eval_sample_weight, eval_class_weight, eval_init_score, eval_group, eval_metric, early_stopping_rounds, verbose, feature_name, categorical_feature, callbacks)\u001b[0m\n\u001b[1;32m    542\u001b[0m                               \u001b[0mverbose_eval\u001b[0m\u001b[0;34m=\u001b[0m\u001b[0mverbose\u001b[0m\u001b[0;34m,\u001b[0m \u001b[0mfeature_name\u001b[0m\u001b[0;34m=\u001b[0m\u001b[0mfeature_name\u001b[0m\u001b[0;34m,\u001b[0m\u001b[0;34m\u001b[0m\u001b[0;34m\u001b[0m\u001b[0m\n\u001b[1;32m    543\u001b[0m                               \u001b[0mcategorical_feature\u001b[0m\u001b[0;34m=\u001b[0m\u001b[0mcategorical_feature\u001b[0m\u001b[0;34m,\u001b[0m\u001b[0;34m\u001b[0m\u001b[0;34m\u001b[0m\u001b[0m\n\u001b[0;32m--> 544\u001b[0;31m                               callbacks=callbacks)\n\u001b[0m\u001b[1;32m    545\u001b[0m \u001b[0;34m\u001b[0m\u001b[0m\n\u001b[1;32m    546\u001b[0m         \u001b[0;32mif\u001b[0m \u001b[0mevals_result\u001b[0m\u001b[0;34m:\u001b[0m\u001b[0;34m\u001b[0m\u001b[0;34m\u001b[0m\u001b[0m\n",
            "\u001b[0;32m/usr/local/lib/python3.7/dist-packages/lightgbm/engine.py\u001b[0m in \u001b[0;36mtrain\u001b[0;34m(params, train_set, num_boost_round, valid_sets, valid_names, fobj, feval, init_model, feature_name, categorical_feature, early_stopping_rounds, evals_result, verbose_eval, learning_rates, keep_training_booster, callbacks)\u001b[0m\n\u001b[1;32m    195\u001b[0m     \u001b[0;31m# construct booster\u001b[0m\u001b[0;34m\u001b[0m\u001b[0;34m\u001b[0m\u001b[0;34m\u001b[0m\u001b[0m\n\u001b[1;32m    196\u001b[0m     \u001b[0;32mtry\u001b[0m\u001b[0;34m:\u001b[0m\u001b[0;34m\u001b[0m\u001b[0;34m\u001b[0m\u001b[0m\n\u001b[0;32m--> 197\u001b[0;31m         \u001b[0mbooster\u001b[0m \u001b[0;34m=\u001b[0m \u001b[0mBooster\u001b[0m\u001b[0;34m(\u001b[0m\u001b[0mparams\u001b[0m\u001b[0;34m=\u001b[0m\u001b[0mparams\u001b[0m\u001b[0;34m,\u001b[0m \u001b[0mtrain_set\u001b[0m\u001b[0;34m=\u001b[0m\u001b[0mtrain_set\u001b[0m\u001b[0;34m)\u001b[0m\u001b[0;34m\u001b[0m\u001b[0;34m\u001b[0m\u001b[0m\n\u001b[0m\u001b[1;32m    198\u001b[0m         \u001b[0;32mif\u001b[0m \u001b[0mis_valid_contain_train\u001b[0m\u001b[0;34m:\u001b[0m\u001b[0;34m\u001b[0m\u001b[0;34m\u001b[0m\u001b[0m\n\u001b[1;32m    199\u001b[0m             \u001b[0mbooster\u001b[0m\u001b[0;34m.\u001b[0m\u001b[0mset_train_data_name\u001b[0m\u001b[0;34m(\u001b[0m\u001b[0mtrain_data_name\u001b[0m\u001b[0;34m)\u001b[0m\u001b[0;34m\u001b[0m\u001b[0;34m\u001b[0m\u001b[0m\n",
            "\u001b[0;32m/usr/local/lib/python3.7/dist-packages/lightgbm/basic.py\u001b[0m in \u001b[0;36m__init__\u001b[0;34m(self, params, train_set, model_file, silent)\u001b[0m\n\u001b[1;32m   1550\u001b[0m             \u001b[0mself\u001b[0m\u001b[0;34m.\u001b[0m\u001b[0mhandle\u001b[0m \u001b[0;34m=\u001b[0m \u001b[0mctypes\u001b[0m\u001b[0;34m.\u001b[0m\u001b[0mc_void_p\u001b[0m\u001b[0;34m(\u001b[0m\u001b[0;34m)\u001b[0m\u001b[0;34m\u001b[0m\u001b[0;34m\u001b[0m\u001b[0m\n\u001b[1;32m   1551\u001b[0m             _safe_call(_LIB.LGBM_BoosterCreate(\n\u001b[0;32m-> 1552\u001b[0;31m                 \u001b[0mtrain_set\u001b[0m\u001b[0;34m.\u001b[0m\u001b[0mconstruct\u001b[0m\u001b[0;34m(\u001b[0m\u001b[0;34m)\u001b[0m\u001b[0;34m.\u001b[0m\u001b[0mhandle\u001b[0m\u001b[0;34m,\u001b[0m\u001b[0;34m\u001b[0m\u001b[0;34m\u001b[0m\u001b[0m\n\u001b[0m\u001b[1;32m   1553\u001b[0m                 \u001b[0mc_str\u001b[0m\u001b[0;34m(\u001b[0m\u001b[0mparams_str\u001b[0m\u001b[0;34m)\u001b[0m\u001b[0;34m,\u001b[0m\u001b[0;34m\u001b[0m\u001b[0;34m\u001b[0m\u001b[0m\n\u001b[1;32m   1554\u001b[0m                 ctypes.byref(self.handle)))\n",
            "\u001b[0;32m/usr/local/lib/python3.7/dist-packages/lightgbm/basic.py\u001b[0m in \u001b[0;36mconstruct\u001b[0;34m(self)\u001b[0m\n\u001b[1;32m    999\u001b[0m                                 \u001b[0minit_score\u001b[0m\u001b[0;34m=\u001b[0m\u001b[0mself\u001b[0m\u001b[0;34m.\u001b[0m\u001b[0minit_score\u001b[0m\u001b[0;34m,\u001b[0m \u001b[0mpredictor\u001b[0m\u001b[0;34m=\u001b[0m\u001b[0mself\u001b[0m\u001b[0;34m.\u001b[0m\u001b[0m_predictor\u001b[0m\u001b[0;34m,\u001b[0m\u001b[0;34m\u001b[0m\u001b[0;34m\u001b[0m\u001b[0m\n\u001b[1;32m   1000\u001b[0m                                 \u001b[0msilent\u001b[0m\u001b[0;34m=\u001b[0m\u001b[0mself\u001b[0m\u001b[0;34m.\u001b[0m\u001b[0msilent\u001b[0m\u001b[0;34m,\u001b[0m \u001b[0mfeature_name\u001b[0m\u001b[0;34m=\u001b[0m\u001b[0mself\u001b[0m\u001b[0;34m.\u001b[0m\u001b[0mfeature_name\u001b[0m\u001b[0;34m,\u001b[0m\u001b[0;34m\u001b[0m\u001b[0;34m\u001b[0m\u001b[0m\n\u001b[0;32m-> 1001\u001b[0;31m                                 categorical_feature=self.categorical_feature, params=self.params)\n\u001b[0m\u001b[1;32m   1002\u001b[0m             \u001b[0;32mif\u001b[0m \u001b[0mself\u001b[0m\u001b[0;34m.\u001b[0m\u001b[0mfree_raw_data\u001b[0m\u001b[0;34m:\u001b[0m\u001b[0;34m\u001b[0m\u001b[0;34m\u001b[0m\u001b[0m\n\u001b[1;32m   1003\u001b[0m                 \u001b[0mself\u001b[0m\u001b[0;34m.\u001b[0m\u001b[0mdata\u001b[0m \u001b[0;34m=\u001b[0m \u001b[0;32mNone\u001b[0m\u001b[0;34m\u001b[0m\u001b[0;34m\u001b[0m\u001b[0m\n",
            "\u001b[0;32m/usr/local/lib/python3.7/dist-packages/lightgbm/basic.py\u001b[0m in \u001b[0;36m_lazy_init\u001b[0;34m(self, data, label, reference, weight, group, init_score, predictor, silent, feature_name, categorical_feature, params)\u001b[0m\n\u001b[1;32m    727\u001b[0m                                                                                              \u001b[0mfeature_name\u001b[0m\u001b[0;34m,\u001b[0m\u001b[0;34m\u001b[0m\u001b[0;34m\u001b[0m\u001b[0m\n\u001b[1;32m    728\u001b[0m                                                                                              \u001b[0mcategorical_feature\u001b[0m\u001b[0;34m,\u001b[0m\u001b[0;34m\u001b[0m\u001b[0;34m\u001b[0m\u001b[0m\n\u001b[0;32m--> 729\u001b[0;31m                                                                                              self.pandas_categorical)\n\u001b[0m\u001b[1;32m    730\u001b[0m         \u001b[0mlabel\u001b[0m \u001b[0;34m=\u001b[0m \u001b[0m_label_from_pandas\u001b[0m\u001b[0;34m(\u001b[0m\u001b[0mlabel\u001b[0m\u001b[0;34m)\u001b[0m\u001b[0;34m\u001b[0m\u001b[0;34m\u001b[0m\u001b[0m\n\u001b[1;32m    731\u001b[0m         \u001b[0mself\u001b[0m\u001b[0;34m.\u001b[0m\u001b[0mdata_has_header\u001b[0m \u001b[0;34m=\u001b[0m \u001b[0;32mFalse\u001b[0m\u001b[0;34m\u001b[0m\u001b[0;34m\u001b[0m\u001b[0m\n",
            "\u001b[0;32m/usr/local/lib/python3.7/dist-packages/lightgbm/basic.py\u001b[0m in \u001b[0;36m_data_from_pandas\u001b[0;34m(data, feature_name, categorical_feature, pandas_categorical)\u001b[0m\n\u001b[1;32m    275\u001b[0m             msg = (\"DataFrame.dtypes for data must be int, float or bool.\\n\"\n\u001b[1;32m    276\u001b[0m                    \"Did not expect the data types in fields \")\n\u001b[0;32m--> 277\u001b[0;31m             \u001b[0;32mraise\u001b[0m \u001b[0mValueError\u001b[0m\u001b[0;34m(\u001b[0m\u001b[0mmsg\u001b[0m \u001b[0;34m+\u001b[0m \u001b[0;34m', '\u001b[0m\u001b[0;34m.\u001b[0m\u001b[0mjoin\u001b[0m\u001b[0;34m(\u001b[0m\u001b[0mbad_fields\u001b[0m\u001b[0;34m)\u001b[0m\u001b[0;34m)\u001b[0m\u001b[0;34m\u001b[0m\u001b[0;34m\u001b[0m\u001b[0m\n\u001b[0m\u001b[1;32m    278\u001b[0m         \u001b[0mdata\u001b[0m \u001b[0;34m=\u001b[0m \u001b[0mdata\u001b[0m\u001b[0;34m.\u001b[0m\u001b[0mvalues\u001b[0m\u001b[0;34m.\u001b[0m\u001b[0mastype\u001b[0m\u001b[0;34m(\u001b[0m\u001b[0;34m'float'\u001b[0m\u001b[0;34m)\u001b[0m\u001b[0;34m\u001b[0m\u001b[0;34m\u001b[0m\u001b[0m\n\u001b[1;32m    279\u001b[0m     \u001b[0;32melse\u001b[0m\u001b[0;34m:\u001b[0m\u001b[0;34m\u001b[0m\u001b[0;34m\u001b[0m\u001b[0m\n",
            "\u001b[0;31mValueError\u001b[0m: DataFrame.dtypes for data must be int, float or bool.\nDid not expect the data types in fields banheiro"
          ]
        }
      ]
    },
    {
      "cell_type": "code",
      "metadata": {
        "id": "8uceoC_TwzYQ"
      },
      "source": [
        "reg_list = [LGBMRegressor(),\n",
        "            SVR(),\n",
        "            MLPRegressor()\n",
        "            ]"
      ],
      "execution_count": null,
      "outputs": []
    },
    {
      "cell_type": "code",
      "metadata": {
        "id": "diuFX9r347SZ"
      },
      "source": [
        "for reg in reg_list:\n",
        "    print(f'Treinando Modelo {reg.__class__.__name__}')\n",
        "    reg.fit(X_train, y_train)\n",
        "    valid_score = reg.score(X_val, y_val)\n",
        "    train_score = reg.score(X_train, y_train)\n",
        "    test_score = reg.score(X_test, y_test)\n",
        "    print(f\"R2 Score Train: {train_score}\")\n",
        "    print(f\"R2 Score Validation: {valid_score}\")\n",
        "    print(f\"R2 Score Test: {test_score}\")\n",
        "    print('='*80)"
      ],
      "execution_count": null,
      "outputs": []
    },
    {
      "cell_type": "code",
      "metadata": {
        "id": "ZYpeNrkjmza9"
      },
      "source": [
        "# GridSearchCV\n",
        "\n",
        "from sklearn.model_selection import GridSearchCV"
      ],
      "execution_count": null,
      "outputs": []
    },
    {
      "cell_type": "code",
      "metadata": {
        "id": "lvHjTcmH8LOY"
      },
      "source": [
        "X = imoveis.drop('aluguel', axis=1)\n",
        "y = imoveis['aluguel']"
      ],
      "execution_count": null,
      "outputs": []
    },
    {
      "cell_type": "code",
      "metadata": {
        "id": "l6A5qZRr7inJ"
      },
      "source": [
        "param = {'kernel' : ('linear', 'poly', 'rbf'),\n",
        "         'C' : [1,5,10]},\n",
        "\n",
        "modelsvr = SVR()\n",
        "\n",
        "grids = GridSearchCV(modelsvr,param,cv=5)\n",
        "\n",
        "grids.fit(X,y)"
      ],
      "execution_count": null,
      "outputs": []
    },
    {
      "cell_type": "code",
      "metadata": {
        "id": "EzQpx2C57isO"
      },
      "source": [
        "grids.best_params_"
      ],
      "execution_count": null,
      "outputs": []
    },
    {
      "cell_type": "code",
      "metadata": {
        "id": "qdJBnNd07iqN"
      },
      "source": [
        "SVR()"
      ],
      "execution_count": null,
      "outputs": []
    },
    {
      "cell_type": "code",
      "metadata": {
        "id": "hYmfBxHL9F-u"
      },
      "source": [
        "grids.score(X_test, y_test)"
      ],
      "execution_count": null,
      "outputs": []
    },
    {
      "cell_type": "code",
      "metadata": {
        "id": "CApfw1769OtB"
      },
      "source": [
        "# LightGBM\n",
        "\n",
        "gridParams = {\n",
        "    'learning_rate': [0.01, 0.1, 1],\n",
        "    'n_estimators': [20, 40, 100],\n",
        "    'num_leaves': [6, 16, 31],\n",
        "    #'boosting_type' : ['gbdt'],\n",
        "    #'objective' : ['binary'],\n",
        "    #'random_state' : [501], # Updated from 'seed'\n",
        "    #'colsample_bytree' : [0.65, 0.66],\n",
        "    #'subsample' : [0.7,0.75],\n",
        "    #'reg_alpha' : [1,1.2],\n",
        "    #'reg_lambda' : [1,1.2,1.4],\n",
        "    }\n",
        "\n",
        "param_grid = {\n",
        "    'learning_rate': [0.01, 0.1, 1],\n",
        "    'n_estimators': [20, 40]\n",
        "}"
      ],
      "execution_count": null,
      "outputs": []
    },
    {
      "cell_type": "code",
      "metadata": {
        "id": "dzms9Amf9vXp"
      },
      "source": [
        "estimator = LGBMRegressor()"
      ],
      "execution_count": null,
      "outputs": []
    },
    {
      "cell_type": "code",
      "metadata": {
        "id": "wvPwKyxK9waV"
      },
      "source": [
        "gbm = GridSearchCV(estimator, gridParams, cv=5)\n",
        "gbm.fit(X, y)"
      ],
      "execution_count": null,
      "outputs": []
    },
    {
      "cell_type": "code",
      "metadata": {
        "id": "84rTdu0Q93Bm"
      },
      "source": [
        "gbm.best_params_"
      ],
      "execution_count": null,
      "outputs": []
    },
    {
      "cell_type": "code",
      "metadata": {
        "id": "uLaLvzK6972-"
      },
      "source": [
        "LGBMRegressor()"
      ],
      "execution_count": null,
      "outputs": []
    },
    {
      "cell_type": "code",
      "metadata": {
        "id": "EqwXvuWw9_mb"
      },
      "source": [
        "gbm.score(X_test, y_test)"
      ],
      "execution_count": null,
      "outputs": []
    },
    {
      "cell_type": "code",
      "metadata": {
        "id": "5QQQtpu-_S57"
      },
      "source": [
        "# MLP\n",
        "\n",
        "param = {\n",
        "         'learning_rate_init' : [0.0001,0.001,0.01],\n",
        "         'hidden_layer_sizes':[(50,), (100,), (200,)]\n",
        "         }\n",
        "\n",
        "mlp = MLPRegressor()\n",
        "\n",
        "gmlp = GridSearchCV(mlp,param,cv=5)\n",
        "\n",
        "gmlp.fit(X,y)"
      ],
      "execution_count": null,
      "outputs": []
    },
    {
      "cell_type": "code",
      "metadata": {
        "id": "iYKiWE4F-HtR"
      },
      "source": [
        "gmlp.best_params_"
      ],
      "execution_count": null,
      "outputs": []
    },
    {
      "cell_type": "code",
      "metadata": {
        "id": "2YTKjFtiBRmD"
      },
      "source": [
        "gmlp.score(X_test, y_test)"
      ],
      "execution_count": null,
      "outputs": []
    },
    {
      "cell_type": "markdown",
      "metadata": {
        "id": "YqmMLAHNETAW"
      },
      "source": [
        "### Stacking"
      ]
    },
    {
      "cell_type": "code",
      "metadata": {
        "id": "U4s3JQ9vBklY"
      },
      "source": [
        "from sklearn.ensemble import StackingRegressor"
      ],
      "execution_count": null,
      "outputs": []
    },
    {
      "cell_type": "code",
      "metadata": {
        "id": "Xe0y8ZgpEVgs"
      },
      "source": [
        "estimators = [\n",
        "    ('svr', SVR(C=5.0,\n",
        "               kernel='rbf')\n",
        "    ),\n",
        "    ('lgb', LGBMRegressor(learning_rate=0.1,\n",
        "                          n_estimators=40,\n",
        "                          num_leaves=16)\n",
        "    \n",
        "    ),\n",
        "    ('mlp',MLPRegressor(hidden_layer_sizes=(200,),\n",
        "                        learning_rate='adaptive',\n",
        "                        learning_rate_init=0.01\n",
        "                        )\n",
        "    )\n",
        "]\n",
        "reg = StackingRegressor(\n",
        "    estimators=estimators\n",
        ")\n",
        "\n",
        "reg.fit(X, y)\n"
      ],
      "execution_count": null,
      "outputs": []
    },
    {
      "cell_type": "code",
      "metadata": {
        "id": "9hcBk14tIAHr"
      },
      "source": [
        "estimators = [\n",
        "    ('svr', SVR()\n",
        "    ),\n",
        "    ('lgb', LGBMRegressor()\n",
        "    \n",
        "    ),\n",
        "    ('mlp',MLPRegressor()\n",
        "    )\n",
        "]\n",
        "reg = StackingRegressor(\n",
        "    estimators=estimators\n",
        ")\n",
        "\n",
        "reg.fit(X, y)\n"
      ],
      "execution_count": null,
      "outputs": []
    },
    {
      "cell_type": "code",
      "metadata": {
        "id": "ita7jgQHGE94"
      },
      "source": [
        "reg.score(X_test, y_test)"
      ],
      "execution_count": null,
      "outputs": []
    },
    {
      "cell_type": "code",
      "metadata": {
        "id": "Ze24-3ocGMKM"
      },
      "source": [
        "# Relacionando\n",
        "\n",
        "regs = [grids, gbm, gmlp] #SVR, LGB, MLP\n",
        "\n",
        "all_preds = []\n",
        "for reg in regs:\n",
        "    all_preds.append(reg.predict(X_test))"
      ],
      "execution_count": null,
      "outputs": []
    },
    {
      "cell_type": "code",
      "metadata": {
        "id": "HmgQ0HWEGmfk"
      },
      "source": [
        "y_pred = np.median(all_preds, axis=0)"
      ],
      "execution_count": null,
      "outputs": []
    },
    {
      "cell_type": "code",
      "metadata": {
        "id": "GJqO9FfSHcrv"
      },
      "source": [
        "r2_score(y_test, y_pred)"
      ],
      "execution_count": null,
      "outputs": []
    },
    {
      "cell_type": "code",
      "metadata": {
        "id": "igLgjMO0HmfL"
      },
      "source": [
        "y_pred = np.mean(all_preds, axis=0)\n",
        "r2_score(y_test, y_pred)"
      ],
      "execution_count": null,
      "outputs": []
    },
    {
      "cell_type": "code",
      "metadata": {
        "id": "cL2rEhIWHyc-"
      },
      "source": [
        "# Validação Avançada\n",
        "\n",
        "reg_list = [Ridge(),\n",
        "            Lasso(),\n",
        "            ElasticNet(),\n",
        "            LassoLars(),\n",
        "            HuberRegressor(),\n",
        "            LGBMRegressor(), \n",
        "            XGBRegressor(objective='reg:squarederror'),\n",
        "            SVR(),\n",
        "            KNeighborsRegressor(),\n",
        "            AdaBoostRegressor(),\n",
        "            GradientBoostingRegressor(),\n",
        "            MLPRegressor()\n",
        "            ]"
      ],
      "execution_count": null,
      "outputs": []
    },
    {
      "cell_type": "code",
      "metadata": {
        "id": "2FQft3naGg1U"
      },
      "source": [
        "from sklearn.model_selection import cross_val_score, cross_val_predict\n",
        "import warnings\n",
        "warnings.filterwarnings(\"ignore\", message=\"ConvergenceWarning\")"
      ],
      "execution_count": null,
      "outputs": []
    },
    {
      "cell_type": "code",
      "metadata": {
        "id": "B05V15_oFlfF"
      },
      "source": [
        "for reg in reg_list:\n",
        "    print(f'Treinando Modelo {reg.__class__.__name__}')\n",
        "    cv_score = cross_val_score(reg, X, y)\n",
        "    #y_pred = cross_val_predict(reg, X_test, y_test)\n",
        "    print(f\"Cross Validated R2 Score: {np.mean(cv_score):.3f} +/- {np.std(cv_score):.3f}\")\n",
        "    #print(f\"Test Score: {r2_score(y_test, y_pred)}\")\n",
        "    print('='*80)"
      ],
      "execution_count": null,
      "outputs": []
    },
    {
      "cell_type": "code",
      "metadata": {
        "id": "N_6LPr3tKJzt"
      },
      "source": [
        "# Validação Cruzada Aninhada\n",
        "\n",
        "regs = [grids, gbm, gmlp] #SVR, LGB, MLP\n",
        "\n",
        "for reg in regs:\n",
        "    print(f'Treinando Modelo {reg.__class__.__name__}')\n",
        "    scores = cross_val_score(reg, X, y)\n",
        "    print(f\"Cross Validated R2 Score: {np.mean(scores):.3f} +/- {np.std(scores):.3f}\")\n",
        "    print('='*80)"
      ],
      "execution_count": null,
      "outputs": []
    }
  ]
}