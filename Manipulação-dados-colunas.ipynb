{
 "cells": [
  {
   "cell_type": "code",
   "execution_count": 1,
   "metadata": {},
   "outputs": [],
   "source": [
    "import pandas as pd\n",
    "dados = pd.read_csv('banco_imoveis.csv')"
   ]
  },
  {
   "cell_type": "code",
   "execution_count": 2,
   "metadata": {},
   "outputs": [
    {
     "data": {
      "text/html": [
       "<div>\n",
       "<style scoped>\n",
       "    .dataframe tbody tr th:only-of-type {\n",
       "        vertical-align: middle;\n",
       "    }\n",
       "\n",
       "    .dataframe tbody tr th {\n",
       "        vertical-align: top;\n",
       "    }\n",
       "\n",
       "    .dataframe thead th {\n",
       "        text-align: right;\n",
       "    }\n",
       "</style>\n",
       "<table border=\"1\" class=\"dataframe\">\n",
       "  <thead>\n",
       "    <tr style=\"text-align: right;\">\n",
       "      <th></th>\n",
       "      <th>Unnamed: 0</th>\n",
       "      <th>aluguel</th>\n",
       "      <th>quartos</th>\n",
       "      <th>endereco</th>\n",
       "      <th>banheiro</th>\n",
       "      <th>vaga</th>\n",
       "      <th>area</th>\n",
       "      <th>bairro</th>\n",
       "      <th>rua</th>\n",
       "    </tr>\n",
       "  </thead>\n",
       "  <tbody>\n",
       "    <tr>\n",
       "      <th>0</th>\n",
       "      <td>0</td>\n",
       "      <td>R$ 11.500 /Mês</td>\n",
       "      <td>--   Quarto</td>\n",
       "      <td>Rua Cantagalo, 74 - Tatuapé, São Paulo - SP</td>\n",
       "      <td>4   Banheiros</td>\n",
       "      <td>5   Vagas</td>\n",
       "      <td>236   m²</td>\n",
       "      <td>Tatuapé</td>\n",
       "      <td>Rua Cantagalo, 74</td>\n",
       "    </tr>\n",
       "    <tr>\n",
       "      <th>1</th>\n",
       "      <td>1</td>\n",
       "      <td>R$ 6.900 /Mês</td>\n",
       "      <td>3   Quartos</td>\n",
       "      <td>Rua Alonso Calhamares, 244 - Jardim Anália Fra...</td>\n",
       "      <td>3   Banheiros</td>\n",
       "      <td>2   Vagas</td>\n",
       "      <td>100   m²</td>\n",
       "      <td>Jardim Anália Franco</td>\n",
       "      <td>Rua Alonso Calhamares, 244</td>\n",
       "    </tr>\n",
       "    <tr>\n",
       "      <th>2</th>\n",
       "      <td>2</td>\n",
       "      <td>R$ 3.500 /Mês</td>\n",
       "      <td>2   Quartos</td>\n",
       "      <td>Rua Manuel da Nóbrega, 638 - Paraíso, São Paul...</td>\n",
       "      <td>2   Banheiros</td>\n",
       "      <td>2   Vagas</td>\n",
       "      <td>80   m²</td>\n",
       "      <td>Paraíso</td>\n",
       "      <td>Rua Manuel da Nóbrega, 638</td>\n",
       "    </tr>\n",
       "    <tr>\n",
       "      <th>3</th>\n",
       "      <td>3</td>\n",
       "      <td>R$ 1.990 /Mês</td>\n",
       "      <td>1   Quarto</td>\n",
       "      <td>Rua Pires da Mota, 80 - Aclimação, São Paulo - SP</td>\n",
       "      <td>1   Banheiro</td>\n",
       "      <td>1   Vaga</td>\n",
       "      <td>44   m²</td>\n",
       "      <td>Aclimação</td>\n",
       "      <td>Rua Pires da Mota, 80</td>\n",
       "    </tr>\n",
       "    <tr>\n",
       "      <th>4</th>\n",
       "      <td>4</td>\n",
       "      <td>R$ 1.800 /Mês</td>\n",
       "      <td>--   Quarto</td>\n",
       "      <td>Alameda dos Maracatins, 992 - Indianópolis, Sã...</td>\n",
       "      <td>2   Banheiros</td>\n",
       "      <td>1   Vaga</td>\n",
       "      <td>50   m²</td>\n",
       "      <td>Indianópolis</td>\n",
       "      <td>Alameda dos Maracatins, 992</td>\n",
       "    </tr>\n",
       "  </tbody>\n",
       "</table>\n",
       "</div>"
      ],
      "text/plain": [
       "   Unnamed: 0              aluguel          quartos  \\\n",
       "0           0     R$ 11.500 /Mês      --   Quarto     \n",
       "1           1      R$ 6.900 /Mês      3   Quartos     \n",
       "2           2      R$ 3.500 /Mês      2   Quartos     \n",
       "3           3      R$ 1.990 /Mês       1   Quarto     \n",
       "4           4      R$ 1.800 /Mês      --   Quarto     \n",
       "\n",
       "                                            endereco           banheiro  \\\n",
       "0        Rua Cantagalo, 74 - Tatuapé, São Paulo - SP    4   Banheiros     \n",
       "1  Rua Alonso Calhamares, 244 - Jardim Anália Fra...    3   Banheiros     \n",
       "2  Rua Manuel da Nóbrega, 638 - Paraíso, São Paul...    2   Banheiros     \n",
       "3  Rua Pires da Mota, 80 - Aclimação, São Paulo - SP     1   Banheiro     \n",
       "4  Alameda dos Maracatins, 992 - Indianópolis, Sã...    2   Banheiros     \n",
       "\n",
       "            vaga          area                 bairro  \\\n",
       "0    5   Vagas      236   m²                  Tatuapé   \n",
       "1    2   Vagas      100   m²     Jardim Anália Franco   \n",
       "2    2   Vagas       80   m²                  Paraíso   \n",
       "3     1   Vaga       44   m²                Aclimação   \n",
       "4     1   Vaga       50   m²             Indianópolis   \n",
       "\n",
       "                           rua  \n",
       "0            Rua Cantagalo, 74  \n",
       "1   Rua Alonso Calhamares, 244  \n",
       "2   Rua Manuel da Nóbrega, 638  \n",
       "3        Rua Pires da Mota, 80  \n",
       "4  Alameda dos Maracatins, 992  "
      ]
     },
     "execution_count": 2,
     "metadata": {},
     "output_type": "execute_result"
    }
   ],
   "source": [
    "dados.head()"
   ]
  },
  {
   "cell_type": "code",
   "execution_count": 7,
   "metadata": {},
   "outputs": [],
   "source": [
    "dados.rename(columns={'aluguel':'Aluguel', 'quartos':'Quarto', 'endereco':'Endereco', 'banheiro':'Banheiro', 'vaga':'Vaga', 'area':'Area', 'bairro':'Bairro', 'rua':'Rua'}, inplace = True)"
   ]
  },
  {
   "cell_type": "code",
   "execution_count": 8,
   "metadata": {},
   "outputs": [
    {
     "data": {
      "text/html": [
       "<div>\n",
       "<style scoped>\n",
       "    .dataframe tbody tr th:only-of-type {\n",
       "        vertical-align: middle;\n",
       "    }\n",
       "\n",
       "    .dataframe tbody tr th {\n",
       "        vertical-align: top;\n",
       "    }\n",
       "\n",
       "    .dataframe thead th {\n",
       "        text-align: right;\n",
       "    }\n",
       "</style>\n",
       "<table border=\"1\" class=\"dataframe\">\n",
       "  <thead>\n",
       "    <tr style=\"text-align: right;\">\n",
       "      <th></th>\n",
       "      <th>Unnamed: 0</th>\n",
       "      <th>Aluguel</th>\n",
       "      <th>Quarto</th>\n",
       "      <th>Endereco</th>\n",
       "      <th>Banheiro</th>\n",
       "      <th>Vaga</th>\n",
       "      <th>Area</th>\n",
       "      <th>Bairro</th>\n",
       "      <th>Rua</th>\n",
       "    </tr>\n",
       "  </thead>\n",
       "  <tbody>\n",
       "    <tr>\n",
       "      <th>0</th>\n",
       "      <td>0</td>\n",
       "      <td>R$ 11.500 /Mês</td>\n",
       "      <td>--   Quarto</td>\n",
       "      <td>Rua Cantagalo, 74 - Tatuapé, São Paulo - SP</td>\n",
       "      <td>4   Banheiros</td>\n",
       "      <td>5   Vagas</td>\n",
       "      <td>236   m²</td>\n",
       "      <td>Tatuapé</td>\n",
       "      <td>Rua Cantagalo, 74</td>\n",
       "    </tr>\n",
       "    <tr>\n",
       "      <th>1</th>\n",
       "      <td>1</td>\n",
       "      <td>R$ 6.900 /Mês</td>\n",
       "      <td>3   Quartos</td>\n",
       "      <td>Rua Alonso Calhamares, 244 - Jardim Anália Fra...</td>\n",
       "      <td>3   Banheiros</td>\n",
       "      <td>2   Vagas</td>\n",
       "      <td>100   m²</td>\n",
       "      <td>Jardim Anália Franco</td>\n",
       "      <td>Rua Alonso Calhamares, 244</td>\n",
       "    </tr>\n",
       "    <tr>\n",
       "      <th>2</th>\n",
       "      <td>2</td>\n",
       "      <td>R$ 3.500 /Mês</td>\n",
       "      <td>2   Quartos</td>\n",
       "      <td>Rua Manuel da Nóbrega, 638 - Paraíso, São Paul...</td>\n",
       "      <td>2   Banheiros</td>\n",
       "      <td>2   Vagas</td>\n",
       "      <td>80   m²</td>\n",
       "      <td>Paraíso</td>\n",
       "      <td>Rua Manuel da Nóbrega, 638</td>\n",
       "    </tr>\n",
       "    <tr>\n",
       "      <th>3</th>\n",
       "      <td>3</td>\n",
       "      <td>R$ 1.990 /Mês</td>\n",
       "      <td>1   Quarto</td>\n",
       "      <td>Rua Pires da Mota, 80 - Aclimação, São Paulo - SP</td>\n",
       "      <td>1   Banheiro</td>\n",
       "      <td>1   Vaga</td>\n",
       "      <td>44   m²</td>\n",
       "      <td>Aclimação</td>\n",
       "      <td>Rua Pires da Mota, 80</td>\n",
       "    </tr>\n",
       "    <tr>\n",
       "      <th>4</th>\n",
       "      <td>4</td>\n",
       "      <td>R$ 1.800 /Mês</td>\n",
       "      <td>--   Quarto</td>\n",
       "      <td>Alameda dos Maracatins, 992 - Indianópolis, Sã...</td>\n",
       "      <td>2   Banheiros</td>\n",
       "      <td>1   Vaga</td>\n",
       "      <td>50   m²</td>\n",
       "      <td>Indianópolis</td>\n",
       "      <td>Alameda dos Maracatins, 992</td>\n",
       "    </tr>\n",
       "  </tbody>\n",
       "</table>\n",
       "</div>"
      ],
      "text/plain": [
       "   Unnamed: 0              Aluguel           Quarto  \\\n",
       "0           0     R$ 11.500 /Mês      --   Quarto     \n",
       "1           1      R$ 6.900 /Mês      3   Quartos     \n",
       "2           2      R$ 3.500 /Mês      2   Quartos     \n",
       "3           3      R$ 1.990 /Mês       1   Quarto     \n",
       "4           4      R$ 1.800 /Mês      --   Quarto     \n",
       "\n",
       "                                            Endereco           Banheiro  \\\n",
       "0        Rua Cantagalo, 74 - Tatuapé, São Paulo - SP    4   Banheiros     \n",
       "1  Rua Alonso Calhamares, 244 - Jardim Anália Fra...    3   Banheiros     \n",
       "2  Rua Manuel da Nóbrega, 638 - Paraíso, São Paul...    2   Banheiros     \n",
       "3  Rua Pires da Mota, 80 - Aclimação, São Paulo - SP     1   Banheiro     \n",
       "4  Alameda dos Maracatins, 992 - Indianópolis, Sã...    2   Banheiros     \n",
       "\n",
       "            Vaga          Area                 Bairro  \\\n",
       "0    5   Vagas      236   m²                  Tatuapé   \n",
       "1    2   Vagas      100   m²     Jardim Anália Franco   \n",
       "2    2   Vagas       80   m²                  Paraíso   \n",
       "3     1   Vaga       44   m²                Aclimação   \n",
       "4     1   Vaga       50   m²             Indianópolis   \n",
       "\n",
       "                           Rua  \n",
       "0            Rua Cantagalo, 74  \n",
       "1   Rua Alonso Calhamares, 244  \n",
       "2   Rua Manuel da Nóbrega, 638  \n",
       "3        Rua Pires da Mota, 80  \n",
       "4  Alameda dos Maracatins, 992  "
      ]
     },
     "execution_count": 8,
     "metadata": {},
     "output_type": "execute_result"
    }
   ],
   "source": [
    "dados.head()"
   ]
  },
  {
   "cell_type": "code",
   "execution_count": 9,
   "metadata": {},
   "outputs": [
    {
     "data": {
      "text/plain": [
       "0          R$ 11.500 /Mês  \n",
       "1           R$ 6.900 /Mês  \n",
       "2           R$ 3.500 /Mês  \n",
       "3           R$ 1.990 /Mês  \n",
       "4           R$ 1.800 /Mês  \n",
       "               ...         \n",
       "1795        R$ 1.999 /Mês  \n",
       "1796       R$ 16.950 /Mês  \n",
       "1797        R$ 1.000 /Mês  \n",
       "1798        R$ 3.200 /Mês  \n",
       "1799        R$ 3.000 /Mês  \n",
       "Name: Aluguel, Length: 1800, dtype: object"
      ]
     },
     "execution_count": 9,
     "metadata": {},
     "output_type": "execute_result"
    }
   ],
   "source": [
    "# Para verificar cada coluna, uso este código abaixo. Como exemplo, puxei a coluna 'Aluguel'\n",
    "dados['Aluguel']"
   ]
  },
  {
   "cell_type": "code",
   "execution_count": 10,
   "metadata": {},
   "outputs": [],
   "source": [
    "# Simplificando todo o código que identifica a coluna 'Aluguel', em uma única palavra = Aluguel, para identificar a coluna quando eu precisar \n",
    "Aluguel = dados['Aluguel']"
   ]
  },
  {
   "cell_type": "code",
   "execution_count": 11,
   "metadata": {},
   "outputs": [
    {
     "data": {
      "text/plain": [
       "pandas.core.series.Series"
      ]
     },
     "execution_count": 11,
     "metadata": {},
     "output_type": "execute_result"
    }
   ],
   "source": [
    "# Identificação do modelo da coluna\n",
    "type(Aluguel)"
   ]
  },
  {
   "cell_type": "code",
   "execution_count": 12,
   "metadata": {},
   "outputs": [
    {
     "data": {
      "text/plain": [
       "  1   Quarto       550\n",
       "  --   Quarto      500\n",
       "  2   Quartos      400\n",
       "  3   Quartos      300\n",
       "  4   Quartos       50\n",
       "Name: Quarto, dtype: int64"
      ]
     },
     "execution_count": 12,
     "metadata": {},
     "output_type": "execute_result"
    }
   ],
   "source": [
    "# Contabiliza quantas vezes os valores aparecem nesta coluna, como por exemplo 'Quarto'. Permitindo sabermos quantos dados estão distribuidos\n",
    "dados['Quarto'].value_counts()"
   ]
  },
  {
   "cell_type": "code",
   "execution_count": 14,
   "metadata": {},
   "outputs": [
    {
     "data": {
      "text/html": [
       "<div>\n",
       "<style scoped>\n",
       "    .dataframe tbody tr th:only-of-type {\n",
       "        vertical-align: middle;\n",
       "    }\n",
       "\n",
       "    .dataframe tbody tr th {\n",
       "        vertical-align: top;\n",
       "    }\n",
       "\n",
       "    .dataframe thead th {\n",
       "        text-align: right;\n",
       "    }\n",
       "</style>\n",
       "<table border=\"1\" class=\"dataframe\">\n",
       "  <thead>\n",
       "    <tr style=\"text-align: right;\">\n",
       "      <th></th>\n",
       "      <th>Unnamed: 0</th>\n",
       "    </tr>\n",
       "  </thead>\n",
       "  <tbody>\n",
       "    <tr>\n",
       "      <th>count</th>\n",
       "      <td>1800.000000</td>\n",
       "    </tr>\n",
       "    <tr>\n",
       "      <th>mean</th>\n",
       "      <td>17.500000</td>\n",
       "    </tr>\n",
       "    <tr>\n",
       "      <th>std</th>\n",
       "      <td>10.391182</td>\n",
       "    </tr>\n",
       "    <tr>\n",
       "      <th>min</th>\n",
       "      <td>0.000000</td>\n",
       "    </tr>\n",
       "    <tr>\n",
       "      <th>25%</th>\n",
       "      <td>8.750000</td>\n",
       "    </tr>\n",
       "    <tr>\n",
       "      <th>50%</th>\n",
       "      <td>17.500000</td>\n",
       "    </tr>\n",
       "    <tr>\n",
       "      <th>75%</th>\n",
       "      <td>26.250000</td>\n",
       "    </tr>\n",
       "    <tr>\n",
       "      <th>max</th>\n",
       "      <td>35.000000</td>\n",
       "    </tr>\n",
       "  </tbody>\n",
       "</table>\n",
       "</div>"
      ],
      "text/plain": [
       "        Unnamed: 0\n",
       "count  1800.000000\n",
       "mean     17.500000\n",
       "std      10.391182\n",
       "min       0.000000\n",
       "25%       8.750000\n",
       "50%      17.500000\n",
       "75%      26.250000\n",
       "max      35.000000"
      ]
     },
     "execution_count": 14,
     "metadata": {},
     "output_type": "execute_result"
    }
   ],
   "source": [
    "# Identifica todas as colunas que possuem números para fazer cálculo, identificando valores, média, desvio padrão, o valor mínimo, percentis, valor máximo de cada coluna\n",
    "dados.describe()"
   ]
  }
 ],
 "metadata": {
  "kernelspec": {
   "display_name": "Python 3",
   "language": "python",
   "name": "python3"
  },
  "language_info": {
   "codemirror_mode": {
    "name": "ipython",
    "version": 3
   },
   "file_extension": ".py",
   "mimetype": "text/x-python",
   "name": "python",
   "nbconvert_exporter": "python",
   "pygments_lexer": "ipython3",
   "version": "3.8.5"
  }
 },
 "nbformat": 4,
 "nbformat_minor": 4
}
