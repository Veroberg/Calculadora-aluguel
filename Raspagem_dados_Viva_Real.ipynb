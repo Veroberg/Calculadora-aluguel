{
  "nbformat": 4,
  "nbformat_minor": 0,
  "metadata": {
    "colab": {
      "name": "Raspagem_dados_Viva Real.ipynb",
      "provenance": [],
      "collapsed_sections": [],
      "authorship_tag": "ABX9TyN+PzeJI4w5RaXS7l4TrDzf",
      "include_colab_link": true
    },
    "kernelspec": {
      "name": "python3",
      "display_name": "Python 3"
    }
  },
  "cells": [
    {
      "cell_type": "markdown",
      "metadata": {
        "id": "view-in-github",
        "colab_type": "text"
      },
      "source": [
        "<a href=\"https://colab.research.google.com/github/Veroberg/coleta-dados-calculadora-aluguel/blob/main/Raspagem_dados_Viva_Real.ipynb\" target=\"_parent\"><img src=\"https://colab.research.google.com/assets/colab-badge.svg\" alt=\"Open In Colab\"/></a>"
      ]
    },
    {
      "cell_type": "code",
      "metadata": {
        "id": "hseDod2erNPR"
      },
      "source": [
        "import pandas as pd\r\n",
        "import requests\r\n",
        "from bs4 import BeautifulSoup\r\n",
        "import pandas as pd"
      ],
      "execution_count": null,
      "outputs": []
    },
    {
      "cell_type": "code",
      "metadata": {
        "colab": {
          "base_uri": "https://localhost:8080/"
        },
        "id": "7pVSa2hau8g_",
        "outputId": "d7b7851a-c8e3-4ed5-8c09-0e8a7d1d4376"
      },
      "source": [
        "paginas = ['']\r\n",
        "for i in range(1,50):\r\n",
        "    a = '?pagina='+str(i)\r\n",
        "    print(a)\r\n",
        "    paginas.append(a)"
      ],
      "execution_count": null,
      "outputs": [
        {
          "output_type": "stream",
          "text": [
            "?pagina=1\n",
            "?pagina=2\n",
            "?pagina=3\n",
            "?pagina=4\n",
            "?pagina=5\n",
            "?pagina=6\n",
            "?pagina=7\n",
            "?pagina=8\n",
            "?pagina=9\n",
            "?pagina=10\n",
            "?pagina=11\n",
            "?pagina=12\n",
            "?pagina=13\n",
            "?pagina=14\n",
            "?pagina=15\n",
            "?pagina=16\n",
            "?pagina=17\n",
            "?pagina=18\n",
            "?pagina=19\n",
            "?pagina=20\n",
            "?pagina=21\n",
            "?pagina=22\n",
            "?pagina=23\n",
            "?pagina=24\n",
            "?pagina=25\n",
            "?pagina=26\n",
            "?pagina=27\n",
            "?pagina=28\n",
            "?pagina=29\n",
            "?pagina=30\n",
            "?pagina=31\n",
            "?pagina=32\n",
            "?pagina=33\n",
            "?pagina=34\n",
            "?pagina=35\n",
            "?pagina=36\n",
            "?pagina=37\n",
            "?pagina=38\n",
            "?pagina=39\n",
            "?pagina=40\n",
            "?pagina=41\n",
            "?pagina=42\n",
            "?pagina=43\n",
            "?pagina=44\n",
            "?pagina=45\n",
            "?pagina=46\n",
            "?pagina=47\n",
            "?pagina=48\n",
            "?pagina=49\n"
          ],
          "name": "stdout"
        }
      ]
    },
    {
      "cell_type": "code",
      "metadata": {
        "colab": {
          "base_uri": "https://localhost:8080/"
        },
        "id": "wdpXs2OSvA2Z",
        "outputId": "b2a7e6a1-adc4-413e-9629-c88f07e26100"
      },
      "source": [
        "paginas"
      ],
      "execution_count": null,
      "outputs": [
        {
          "output_type": "execute_result",
          "data": {
            "text/plain": [
              "['',\n",
              " '?pagina=1',\n",
              " '?pagina=2',\n",
              " '?pagina=3',\n",
              " '?pagina=4',\n",
              " '?pagina=5',\n",
              " '?pagina=6',\n",
              " '?pagina=7',\n",
              " '?pagina=8',\n",
              " '?pagina=9',\n",
              " '?pagina=10',\n",
              " '?pagina=11',\n",
              " '?pagina=12',\n",
              " '?pagina=13',\n",
              " '?pagina=14',\n",
              " '?pagina=15',\n",
              " '?pagina=16',\n",
              " '?pagina=17',\n",
              " '?pagina=18',\n",
              " '?pagina=19',\n",
              " '?pagina=20',\n",
              " '?pagina=21',\n",
              " '?pagina=22',\n",
              " '?pagina=23',\n",
              " '?pagina=24',\n",
              " '?pagina=25',\n",
              " '?pagina=26',\n",
              " '?pagina=27',\n",
              " '?pagina=28',\n",
              " '?pagina=29',\n",
              " '?pagina=30',\n",
              " '?pagina=31',\n",
              " '?pagina=32',\n",
              " '?pagina=33',\n",
              " '?pagina=34',\n",
              " '?pagina=35',\n",
              " '?pagina=36',\n",
              " '?pagina=37',\n",
              " '?pagina=38',\n",
              " '?pagina=39',\n",
              " '?pagina=40',\n",
              " '?pagina=41',\n",
              " '?pagina=42',\n",
              " '?pagina=43',\n",
              " '?pagina=44',\n",
              " '?pagina=45',\n",
              " '?pagina=46',\n",
              " '?pagina=47',\n",
              " '?pagina=48',\n",
              " '?pagina=49']"
            ]
          },
          "metadata": {
            "tags": []
          },
          "execution_count": 24
        }
      ]
    },
    {
      "cell_type": "code",
      "metadata": {
        "id": "pVhfUshhvGHg"
      },
      "source": [
        "import pandas as pd\r\n",
        "def converter_df(aluguel_lista,quartos_lista,endereco_lista,banheiro_lista,vaga_lista,area_lista):\r\n",
        "    data = {'aluguel':aluguel_lista,\r\n",
        "           'quartos':quartos_lista,\r\n",
        "           'endereco':endereco_lista,\r\n",
        "           'banheiro':banheiro_lista,\r\n",
        "            'vaga':vaga_lista,\r\n",
        "            'area':area_lista}\r\n",
        "    df = pd.DataFrame(data)\r\n",
        "    return df"
      ],
      "execution_count": null,
      "outputs": []
    },
    {
      "cell_type": "code",
      "metadata": {
        "id": "w6ZONnYvvPmS"
      },
      "source": [
        "def scrap(url):\r\n",
        "    c = requests.get(url).content\r\n",
        "    soup = BeautifulSoup(c)\r\n",
        "    \r\n",
        "    #Lista de aluguel\r\n",
        "    aluguel_tag = soup.find_all('div', {'class':'property-card__price js-property-card-prices js-property-card__price-small'}) \r\n",
        "    aluguel_lista = [p.text for p in aluguel_tag] \r\n",
        "     \r\n",
        "    #Lista de quartos\r\n",
        "    quartos_tag = soup.find_all('li', {'class': 'property-card__detail-item property-card__detail-room js-property-detail-rooms'}) \r\n",
        "    quartos_lista = [en.text for en in quartos_tag] \r\n",
        "   \r\n",
        "    #Lista de endereço\r\n",
        "    endereco_tag = soup.find_all('span', {'class': 'property-card__address'}) \r\n",
        "    endereco_lista = [fg.text for fg in endereco_tag] \r\n",
        "    \r\n",
        "    #Lista de banheiro\r\n",
        "    banheiro_tag = soup.find_all('li', {'class': 'property-card__detail-item property-card__detail-bathroom js-property-detail-bathroom'}) \r\n",
        "    banheiro_lista = [yp.text for yp in banheiro_tag] \r\n",
        "  \r\n",
        "\r\n",
        "    vaga_tag = soup.find_all('li', {'class': 'property-card__detail-item property-card__detail-garage js-property-detail-garages'}) \r\n",
        "    vaga_lista = [yp.text for yp in vaga_tag] \r\n",
        "\r\n",
        "    area_tag = soup.find_all('li', {'class': 'property-card__detail-item property-card__detail-area'}) \r\n",
        "    area_lista = [yp.text for yp in area_tag] \r\n",
        "\r\n",
        "\r\n",
        "   #Listas transfromadas em df\r\n",
        "    df=converter_df(aluguel_lista,quartos_lista,endereco_lista,banheiro_lista,vaga_lista,area_lista)\r\n",
        "    \r\n",
        "    return df"
      ],
      "execution_count": null,
      "outputs": []
    },
    {
      "cell_type": "code",
      "metadata": {
        "colab": {
          "base_uri": "https://localhost:8080/"
        },
        "id": "IGvK1SYGvXVo",
        "outputId": "98a590cc-2366-4625-8338-2f2527d730b2"
      },
      "source": [
        "paginas"
      ],
      "execution_count": null,
      "outputs": [
        {
          "output_type": "execute_result",
          "data": {
            "text/plain": [
              "['',\n",
              " '?pagina=1',\n",
              " '?pagina=2',\n",
              " '?pagina=3',\n",
              " '?pagina=4',\n",
              " '?pagina=5',\n",
              " '?pagina=6',\n",
              " '?pagina=7',\n",
              " '?pagina=8',\n",
              " '?pagina=9',\n",
              " '?pagina=10',\n",
              " '?pagina=11',\n",
              " '?pagina=12',\n",
              " '?pagina=13',\n",
              " '?pagina=14',\n",
              " '?pagina=15',\n",
              " '?pagina=16',\n",
              " '?pagina=17',\n",
              " '?pagina=18',\n",
              " '?pagina=19',\n",
              " '?pagina=20',\n",
              " '?pagina=21',\n",
              " '?pagina=22',\n",
              " '?pagina=23',\n",
              " '?pagina=24',\n",
              " '?pagina=25',\n",
              " '?pagina=26',\n",
              " '?pagina=27',\n",
              " '?pagina=28',\n",
              " '?pagina=29',\n",
              " '?pagina=30',\n",
              " '?pagina=31',\n",
              " '?pagina=32',\n",
              " '?pagina=33',\n",
              " '?pagina=34',\n",
              " '?pagina=35',\n",
              " '?pagina=36',\n",
              " '?pagina=37',\n",
              " '?pagina=38',\n",
              " '?pagina=39',\n",
              " '?pagina=40',\n",
              " '?pagina=41',\n",
              " '?pagina=42',\n",
              " '?pagina=43',\n",
              " '?pagina=44',\n",
              " '?pagina=45',\n",
              " '?pagina=46',\n",
              " '?pagina=47',\n",
              " '?pagina=48',\n",
              " '?pagina=49']"
            ]
          },
          "metadata": {
            "tags": []
          },
          "execution_count": 19
        }
      ]
    },
    {
      "cell_type": "code",
      "metadata": {
        "colab": {
          "base_uri": "https://localhost:8080/"
        },
        "id": "FtydvXMaxwiU",
        "outputId": "b7924c6f-9b3e-4681-ad61-56a6106c1e49"
      },
      "source": [
        "#Coletando dados de imóveis do site Viva Real\r\n",
        "df_lista = []\r\n",
        "for pg in paginas:\r\n",
        "    URL = 'https://www.vivareal.com.br/venda/?pagina=2'.format(pg)\r\n",
        "    print('Coletando URL:', URL)\r\n",
        "    #try:\r\n",
        "    df = scrap(URL)\r\n",
        "    #print(df)\r\n",
        "    #print('Coletando URL:', URL)\r\n",
        "    #except Exception as e:\r\n",
        "    #    print('Erro ao coletar dados na url:', url)\r\n",
        "    #    print(e)\r\n",
        "    df_lista.append(df)\r\n",
        "    \r\n",
        "#df_final = pd.concat(df_lista)"
      ],
      "execution_count": null,
      "outputs": [
        {
          "output_type": "stream",
          "text": [
            "Coletando URL: https://www.vivareal.com.br/venda/?pagina=2\n",
            "Coletando URL: https://www.vivareal.com.br/venda/?pagina=2\n",
            "Coletando URL: https://www.vivareal.com.br/venda/?pagina=2\n",
            "Coletando URL: https://www.vivareal.com.br/venda/?pagina=2\n",
            "Coletando URL: https://www.vivareal.com.br/venda/?pagina=2\n",
            "Coletando URL: https://www.vivareal.com.br/venda/?pagina=2\n",
            "Coletando URL: https://www.vivareal.com.br/venda/?pagina=2\n",
            "Coletando URL: https://www.vivareal.com.br/venda/?pagina=2\n",
            "Coletando URL: https://www.vivareal.com.br/venda/?pagina=2\n",
            "Coletando URL: https://www.vivareal.com.br/venda/?pagina=2\n",
            "Coletando URL: https://www.vivareal.com.br/venda/?pagina=2\n",
            "Coletando URL: https://www.vivareal.com.br/venda/?pagina=2\n",
            "Coletando URL: https://www.vivareal.com.br/venda/?pagina=2\n",
            "Coletando URL: https://www.vivareal.com.br/venda/?pagina=2\n",
            "Coletando URL: https://www.vivareal.com.br/venda/?pagina=2\n",
            "Coletando URL: https://www.vivareal.com.br/venda/?pagina=2\n",
            "Coletando URL: https://www.vivareal.com.br/venda/?pagina=2\n",
            "Coletando URL: https://www.vivareal.com.br/venda/?pagina=2\n",
            "Coletando URL: https://www.vivareal.com.br/venda/?pagina=2\n",
            "Coletando URL: https://www.vivareal.com.br/venda/?pagina=2\n",
            "Coletando URL: https://www.vivareal.com.br/venda/?pagina=2\n",
            "Coletando URL: https://www.vivareal.com.br/venda/?pagina=2\n",
            "Coletando URL: https://www.vivareal.com.br/venda/?pagina=2\n",
            "Coletando URL: https://www.vivareal.com.br/venda/?pagina=2\n",
            "Coletando URL: https://www.vivareal.com.br/venda/?pagina=2\n",
            "Coletando URL: https://www.vivareal.com.br/venda/?pagina=2\n",
            "Coletando URL: https://www.vivareal.com.br/venda/?pagina=2\n",
            "Coletando URL: https://www.vivareal.com.br/venda/?pagina=2\n",
            "Coletando URL: https://www.vivareal.com.br/venda/?pagina=2\n",
            "Coletando URL: https://www.vivareal.com.br/venda/?pagina=2\n",
            "Coletando URL: https://www.vivareal.com.br/venda/?pagina=2\n",
            "Coletando URL: https://www.vivareal.com.br/venda/?pagina=2\n",
            "Coletando URL: https://www.vivareal.com.br/venda/?pagina=2\n",
            "Coletando URL: https://www.vivareal.com.br/venda/?pagina=2\n",
            "Coletando URL: https://www.vivareal.com.br/venda/?pagina=2\n",
            "Coletando URL: https://www.vivareal.com.br/venda/?pagina=2\n",
            "Coletando URL: https://www.vivareal.com.br/venda/?pagina=2\n",
            "Coletando URL: https://www.vivareal.com.br/venda/?pagina=2\n",
            "Coletando URL: https://www.vivareal.com.br/venda/?pagina=2\n",
            "Coletando URL: https://www.vivareal.com.br/venda/?pagina=2\n",
            "Coletando URL: https://www.vivareal.com.br/venda/?pagina=2\n",
            "Coletando URL: https://www.vivareal.com.br/venda/?pagina=2\n",
            "Coletando URL: https://www.vivareal.com.br/venda/?pagina=2\n",
            "Coletando URL: https://www.vivareal.com.br/venda/?pagina=2\n",
            "Coletando URL: https://www.vivareal.com.br/venda/?pagina=2\n",
            "Coletando URL: https://www.vivareal.com.br/venda/?pagina=2\n",
            "Coletando URL: https://www.vivareal.com.br/venda/?pagina=2\n",
            "Coletando URL: https://www.vivareal.com.br/venda/?pagina=2\n",
            "Coletando URL: https://www.vivareal.com.br/venda/?pagina=2\n",
            "Coletando URL: https://www.vivareal.com.br/venda/?pagina=2\n"
          ],
          "name": "stdout"
        }
      ]
    },
    {
      "cell_type": "code",
      "metadata": {
        "colab": {
          "base_uri": "https://localhost:8080/",
          "height": 419
        },
        "id": "vjF9i_JixwwN",
        "outputId": "207da9f1-dc2d-4df5-c361-2a626cfa6afb"
      },
      "source": [
        "#Visualização de valores de aluguél, quarto e endereço\r\n",
        "df2=pd.concat(df_lista)\r\n",
        "df2.head(104)"
      ],
      "execution_count": null,
      "outputs": [
        {
          "output_type": "execute_result",
          "data": {
            "text/html": [
              "<div>\n",
              "<style scoped>\n",
              "    .dataframe tbody tr th:only-of-type {\n",
              "        vertical-align: middle;\n",
              "    }\n",
              "\n",
              "    .dataframe tbody tr th {\n",
              "        vertical-align: top;\n",
              "    }\n",
              "\n",
              "    .dataframe thead th {\n",
              "        text-align: right;\n",
              "    }\n",
              "</style>\n",
              "<table border=\"1\" class=\"dataframe\">\n",
              "  <thead>\n",
              "    <tr style=\"text-align: right;\">\n",
              "      <th></th>\n",
              "      <th>aluguel</th>\n",
              "      <th>quartos</th>\n",
              "      <th>endereco</th>\n",
              "      <th>banheiro</th>\n",
              "      <th>vaga</th>\n",
              "      <th>area</th>\n",
              "    </tr>\n",
              "  </thead>\n",
              "  <tbody>\n",
              "    <tr>\n",
              "      <th>0</th>\n",
              "      <td>R$ 152.000</td>\n",
              "      <td>2   Quartos</td>\n",
              "      <td>Rua João José Martins, 1668 - Real Parque, São...</td>\n",
              "      <td>1   Banheiro</td>\n",
              "      <td>1   Vaga</td>\n",
              "      <td>53   m²</td>\n",
              "    </tr>\n",
              "    <tr>\n",
              "      <th>1</th>\n",
              "      <td>R$ 215.000</td>\n",
              "      <td>2   Quartos</td>\n",
              "      <td>Avenida São Miguel, 1453 - Penha, São Paulo - SP</td>\n",
              "      <td>1   Banheiro</td>\n",
              "      <td>1   Vaga</td>\n",
              "      <td>56   m²</td>\n",
              "    </tr>\n",
              "    <tr>\n",
              "      <th>2</th>\n",
              "      <td>R$ 369.000</td>\n",
              "      <td>2   Quartos</td>\n",
              "      <td>Rua Engenheiro Guilherme Cristiano Frender, 12...</td>\n",
              "      <td>1   Banheiro</td>\n",
              "      <td>1   Vaga</td>\n",
              "      <td>49   m²</td>\n",
              "    </tr>\n",
              "    <tr>\n",
              "      <th>3</th>\n",
              "      <td>R$ 203.000</td>\n",
              "      <td>3   Quartos</td>\n",
              "      <td>Avenida Padre Francisco de Toledo, 31 - Artur ...</td>\n",
              "      <td>1   Banheiro</td>\n",
              "      <td>1   Vaga</td>\n",
              "      <td>68   m²</td>\n",
              "    </tr>\n",
              "    <tr>\n",
              "      <th>4</th>\n",
              "      <td>R$ 635.000</td>\n",
              "      <td>3   Quartos</td>\n",
              "      <td>Rua Rui Barbosa, 133 - Santo Antônio, São Caet...</td>\n",
              "      <td>3   Banheiros</td>\n",
              "      <td>2   Vagas</td>\n",
              "      <td>91   m²</td>\n",
              "    </tr>\n",
              "    <tr>\n",
              "      <th>...</th>\n",
              "      <td>...</td>\n",
              "      <td>...</td>\n",
              "      <td>...</td>\n",
              "      <td>...</td>\n",
              "      <td>...</td>\n",
              "      <td>...</td>\n",
              "    </tr>\n",
              "    <tr>\n",
              "      <th>27</th>\n",
              "      <td>R$ 2.300.000</td>\n",
              "      <td>3   Quartos</td>\n",
              "      <td>Rua Humberto de Campos - Leblon, Rio de Janeir...</td>\n",
              "      <td>3   Banheiros</td>\n",
              "      <td>1   Vaga</td>\n",
              "      <td>90   m²</td>\n",
              "    </tr>\n",
              "    <tr>\n",
              "      <th>28</th>\n",
              "      <td>R$ 1.950.000</td>\n",
              "      <td>3   Quartos</td>\n",
              "      <td>Rua Almirante Guilhem, 262 - Leblon, Rio de Ja...</td>\n",
              "      <td>2   Banheiros</td>\n",
              "      <td>1   Vaga</td>\n",
              "      <td>108   m²</td>\n",
              "    </tr>\n",
              "    <tr>\n",
              "      <th>29</th>\n",
              "      <td>R$ 260.000</td>\n",
              "      <td>2   Quartos</td>\n",
              "      <td>Rua Planeta Mercúrio, 101 - Mailasqui, São Roq...</td>\n",
              "      <td>1   Banheiro</td>\n",
              "      <td>2   Vagas</td>\n",
              "      <td>75   m²</td>\n",
              "    </tr>\n",
              "    <tr>\n",
              "      <th>30</th>\n",
              "      <td>R$ 600.000</td>\n",
              "      <td>3   Quartos</td>\n",
              "      <td>Estrada do Guanumbi, 306 - Freguesia- Jacarepa...</td>\n",
              "      <td>2   Banheiros</td>\n",
              "      <td>1   Vaga</td>\n",
              "      <td>94   m²</td>\n",
              "    </tr>\n",
              "    <tr>\n",
              "      <th>31</th>\n",
              "      <td>R$ 390.000</td>\n",
              "      <td>2   Quartos</td>\n",
              "      <td>Rua Geraldo Costa, 121 - Manaíra, João Pessoa ...</td>\n",
              "      <td>2   Banheiros</td>\n",
              "      <td>1   Vaga</td>\n",
              "      <td>60   m²</td>\n",
              "    </tr>\n",
              "  </tbody>\n",
              "</table>\n",
              "<p>104 rows × 6 columns</p>\n",
              "</div>"
            ],
            "text/plain": [
              "               aluguel          quartos  ...           vaga          area\n",
              "0        R$ 152.000       2   Quartos    ...     1   Vaga       53   m²  \n",
              "1        R$ 215.000       2   Quartos    ...     1   Vaga       56   m²  \n",
              "2        R$ 369.000       2   Quartos    ...     1   Vaga       49   m²  \n",
              "3        R$ 203.000       3   Quartos    ...     1   Vaga       68   m²  \n",
              "4        R$ 635.000       3   Quartos    ...    2   Vagas       91   m²  \n",
              "..                 ...              ...  ...            ...           ...\n",
              "27     R$ 2.300.000       3   Quartos    ...     1   Vaga       90   m²  \n",
              "28     R$ 1.950.000       3   Quartos    ...     1   Vaga      108   m²  \n",
              "29       R$ 260.000       2   Quartos    ...    2   Vagas       75   m²  \n",
              "30       R$ 600.000       3   Quartos    ...     1   Vaga       94   m²  \n",
              "31       R$ 390.000       2   Quartos    ...     1   Vaga       60   m²  \n",
              "\n",
              "[104 rows x 6 columns]"
            ]
          },
          "metadata": {
            "tags": []
          },
          "execution_count": 22
        }
      ]
    },
    {
      "cell_type": "code",
      "metadata": {
        "colab": {
          "base_uri": "https://localhost:8080/",
          "height": 204
        },
        "id": "5jFQv4u2zaVV",
        "outputId": "6a646ff2-49e9-451b-a9ad-b715900ffecc"
      },
      "source": [
        "#Visualização de endereço completo\r\n",
        "df2['bairro'] = df2.endereco.str.split('\\s-').str[1]\r\n",
        "df2['rua'] = df2.endereco.str.split('\\s-').str[0]\r\n",
        "df2['bairro'] = df2.bairro.str.split(',').str[0]\r\n",
        "\r\n",
        "df2.head()"
      ],
      "execution_count": null,
      "outputs": [
        {
          "output_type": "execute_result",
          "data": {
            "text/html": [
              "<div>\n",
              "<style scoped>\n",
              "    .dataframe tbody tr th:only-of-type {\n",
              "        vertical-align: middle;\n",
              "    }\n",
              "\n",
              "    .dataframe tbody tr th {\n",
              "        vertical-align: top;\n",
              "    }\n",
              "\n",
              "    .dataframe thead th {\n",
              "        text-align: right;\n",
              "    }\n",
              "</style>\n",
              "<table border=\"1\" class=\"dataframe\">\n",
              "  <thead>\n",
              "    <tr style=\"text-align: right;\">\n",
              "      <th></th>\n",
              "      <th>aluguel</th>\n",
              "      <th>quartos</th>\n",
              "      <th>endereco</th>\n",
              "      <th>banheiro</th>\n",
              "      <th>vaga</th>\n",
              "      <th>area</th>\n",
              "      <th>bairro</th>\n",
              "      <th>rua</th>\n",
              "    </tr>\n",
              "  </thead>\n",
              "  <tbody>\n",
              "    <tr>\n",
              "      <th>0</th>\n",
              "      <td>R$ 152.000</td>\n",
              "      <td>2   Quartos</td>\n",
              "      <td>Rua João José Martins, 1668 - Real Parque, São...</td>\n",
              "      <td>1   Banheiro</td>\n",
              "      <td>1   Vaga</td>\n",
              "      <td>53   m²</td>\n",
              "      <td>Real Parque</td>\n",
              "      <td>Rua João José Martins, 1668</td>\n",
              "    </tr>\n",
              "    <tr>\n",
              "      <th>1</th>\n",
              "      <td>R$ 215.000</td>\n",
              "      <td>2   Quartos</td>\n",
              "      <td>Avenida São Miguel, 1453 - Penha, São Paulo - SP</td>\n",
              "      <td>1   Banheiro</td>\n",
              "      <td>1   Vaga</td>\n",
              "      <td>56   m²</td>\n",
              "      <td>Penha</td>\n",
              "      <td>Avenida São Miguel, 1453</td>\n",
              "    </tr>\n",
              "    <tr>\n",
              "      <th>2</th>\n",
              "      <td>R$ 369.000</td>\n",
              "      <td>2   Quartos</td>\n",
              "      <td>Rua Engenheiro Guilherme Cristiano Frender, 12...</td>\n",
              "      <td>1   Banheiro</td>\n",
              "      <td>1   Vaga</td>\n",
              "      <td>49   m²</td>\n",
              "      <td>Aricanduva</td>\n",
              "      <td>Rua Engenheiro Guilherme Cristiano Frender, 1275</td>\n",
              "    </tr>\n",
              "    <tr>\n",
              "      <th>3</th>\n",
              "      <td>R$ 203.000</td>\n",
              "      <td>3   Quartos</td>\n",
              "      <td>Avenida Padre Francisco de Toledo, 31 - Artur ...</td>\n",
              "      <td>1   Banheiro</td>\n",
              "      <td>1   Vaga</td>\n",
              "      <td>68   m²</td>\n",
              "      <td>Artur Alvim</td>\n",
              "      <td>Avenida Padre Francisco de Toledo, 31</td>\n",
              "    </tr>\n",
              "    <tr>\n",
              "      <th>4</th>\n",
              "      <td>R$ 635.000</td>\n",
              "      <td>3   Quartos</td>\n",
              "      <td>Rua Rui Barbosa, 133 - Santo Antônio, São Caet...</td>\n",
              "      <td>3   Banheiros</td>\n",
              "      <td>2   Vagas</td>\n",
              "      <td>91   m²</td>\n",
              "      <td>Santo Antônio</td>\n",
              "      <td>Rua Rui Barbosa, 133</td>\n",
              "    </tr>\n",
              "  </tbody>\n",
              "</table>\n",
              "</div>"
            ],
            "text/plain": [
              "            aluguel  ...                                               rua\n",
              "0     R$ 152.000     ...                       Rua João José Martins, 1668\n",
              "1     R$ 215.000     ...                          Avenida São Miguel, 1453\n",
              "2     R$ 369.000     ...  Rua Engenheiro Guilherme Cristiano Frender, 1275\n",
              "3     R$ 203.000     ...             Avenida Padre Francisco de Toledo, 31\n",
              "4     R$ 635.000     ...                              Rua Rui Barbosa, 133\n",
              "\n",
              "[5 rows x 8 columns]"
            ]
          },
          "metadata": {
            "tags": []
          },
          "execution_count": 23
        }
      ]
    },
    {
      "cell_type": "code",
      "metadata": {
        "colab": {
          "base_uri": "https://localhost:8080/"
        },
        "id": "I-awkq6h0uMj",
        "outputId": "3ddd95ea-69d2-4da8-ef53-dd564ebce78b"
      },
      "source": [
        "df2.shape"
      ],
      "execution_count": null,
      "outputs": [
        {
          "output_type": "execute_result",
          "data": {
            "text/plain": [
              "(1800, 8)"
            ]
          },
          "metadata": {
            "tags": []
          },
          "execution_count": 24
        }
      ]
    },
    {
      "cell_type": "code",
      "metadata": {
        "colab": {
          "base_uri": "https://localhost:8080/"
        },
        "id": "88gjAz1S0xh5",
        "outputId": "32d9d1a3-f53a-4439-eca4-a2fa85ed80ec"
      },
      "source": [
        "df2.rua.unique()"
      ],
      "execution_count": null,
      "outputs": [
        {
          "output_type": "execute_result",
          "data": {
            "text/plain": [
              "array(['Rua João José Martins, 1668', 'Avenida São Miguel, 1453',\n",
              "       'Rua Engenheiro Guilherme Cristiano Frender, 1275',\n",
              "       'Avenida Padre Francisco de Toledo, 31', 'Rua Rui Barbosa, 133',\n",
              "       'Rua Dom Vilares, 1801', 'Rua Enrico Colantonio, 101',\n",
              "       'Rua Maria Figueiredo, 343', 'Avenida Osvaldo Reis, 2000',\n",
              "       'Avenida Raimundo Pereira de Magalhães, 909', 'Rua Tatuí, 507',\n",
              "       'Rua Santa Isabela, 100', 'Rua Atílio Piffer, 120',\n",
              "       'Rua Joaquim Nabuco, quadra praia ipanema', 'Rua Natal, 38',\n",
              "       'Rua Itajuba, 88', 'Rua Coronel Quirino, 1835',\n",
              "       'Rua Pastor Hugo Gegembauer, 899', 'Rua Carlos Von Koseritz, 865',\n",
              "       'Rua Coronel Aristarco Pessoa, 161',\n",
              "       'Caminho do Lago, Caldas Novas', 'Rua Passo Fundo, 25',\n",
              "       'Quadra 4 Conjunto 7, 4', 'Avenida Juracy Magalhães Júnior, 1855',\n",
              "       'Rua Vilela, 267', 'Rua Mário Covas Júnior, 190',\n",
              "       'Avenida Itacira, 255', 'Rua Humberto de Campos',\n",
              "       'Rua Almirante Guilhem, 262', 'Rua Planeta Mercúrio, 101',\n",
              "       'Estrada do Guanumbi, 306', 'Rua Geraldo Costa, 121',\n",
              "       'Rua Comendador Queirós, 176', 'Rua Tijucas do Sul, 2057',\n",
              "       'Rua Leonardo Cerveira Varandas, 50',\n",
              "       'Estrada da Barra da Tijuca, 4001'], dtype=object)"
            ]
          },
          "metadata": {
            "tags": []
          },
          "execution_count": 25
        }
      ]
    }
  ]
}