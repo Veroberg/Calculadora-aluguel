{
  "nbformat": 4,
  "nbformat_minor": 0,
  "metadata": {
    "colab": {
      "name": "Raspagem_dados_Viva Real.ipynb",
      "provenance": [],
      "collapsed_sections": [],
      "authorship_tag": "ABX9TyN8bgJmNtXSdd9YbdnwnZ4y",
      "include_colab_link": true
    },
    "kernelspec": {
      "name": "python3",
      "display_name": "Python 3"
    }
  },
  "cells": [
    {
      "cell_type": "markdown",
      "metadata": {
        "id": "view-in-github",
        "colab_type": "text"
      },
      "source": [
        "<a href=\"https://colab.research.google.com/github/Veroberg/coleta-dados-calculadora-aluguel/blob/main/Raspagem_dados_Viva_Real.ipynb\" target=\"_parent\"><img src=\"https://colab.research.google.com/assets/colab-badge.svg\" alt=\"Open In Colab\"/></a>"
      ]
    },
    {
      "cell_type": "code",
      "metadata": {
        "id": "hseDod2erNPR"
      },
      "source": [
        "import pandas as pd\r\n",
        "import requests\r\n",
        "from bs4 import BeautifulSoup\r\n",
        "import pandas as pd"
      ],
      "execution_count": 1,
      "outputs": []
    },
    {
      "cell_type": "code",
      "metadata": {
        "colab": {
          "base_uri": "https://localhost:8080/"
        },
        "id": "7pVSa2hau8g_",
        "outputId": "fd328632-3710-418b-98cb-0961f6410999"
      },
      "source": [
        "paginas = ['']\r\n",
        "for i in range(1,50):\r\n",
        "    a = '?pagina='+str(i)\r\n",
        "    print(a)\r\n",
        "    paginas.append(a)"
      ],
      "execution_count": 2,
      "outputs": [
        {
          "output_type": "stream",
          "text": [
            "?pagina=1\n",
            "?pagina=2\n",
            "?pagina=3\n",
            "?pagina=4\n",
            "?pagina=5\n",
            "?pagina=6\n",
            "?pagina=7\n",
            "?pagina=8\n",
            "?pagina=9\n",
            "?pagina=10\n",
            "?pagina=11\n",
            "?pagina=12\n",
            "?pagina=13\n",
            "?pagina=14\n",
            "?pagina=15\n",
            "?pagina=16\n",
            "?pagina=17\n",
            "?pagina=18\n",
            "?pagina=19\n",
            "?pagina=20\n",
            "?pagina=21\n",
            "?pagina=22\n",
            "?pagina=23\n",
            "?pagina=24\n",
            "?pagina=25\n",
            "?pagina=26\n",
            "?pagina=27\n",
            "?pagina=28\n",
            "?pagina=29\n",
            "?pagina=30\n",
            "?pagina=31\n",
            "?pagina=32\n",
            "?pagina=33\n",
            "?pagina=34\n",
            "?pagina=35\n",
            "?pagina=36\n",
            "?pagina=37\n",
            "?pagina=38\n",
            "?pagina=39\n",
            "?pagina=40\n",
            "?pagina=41\n",
            "?pagina=42\n",
            "?pagina=43\n",
            "?pagina=44\n",
            "?pagina=45\n",
            "?pagina=46\n",
            "?pagina=47\n",
            "?pagina=48\n",
            "?pagina=49\n"
          ],
          "name": "stdout"
        }
      ]
    },
    {
      "cell_type": "code",
      "metadata": {
        "colab": {
          "base_uri": "https://localhost:8080/"
        },
        "id": "wdpXs2OSvA2Z",
        "outputId": "afdbf125-b130-416c-9c6c-d31091d61a1b"
      },
      "source": [
        "paginas"
      ],
      "execution_count": 3,
      "outputs": [
        {
          "output_type": "execute_result",
          "data": {
            "text/plain": [
              "['',\n",
              " '?pagina=1',\n",
              " '?pagina=2',\n",
              " '?pagina=3',\n",
              " '?pagina=4',\n",
              " '?pagina=5',\n",
              " '?pagina=6',\n",
              " '?pagina=7',\n",
              " '?pagina=8',\n",
              " '?pagina=9',\n",
              " '?pagina=10',\n",
              " '?pagina=11',\n",
              " '?pagina=12',\n",
              " '?pagina=13',\n",
              " '?pagina=14',\n",
              " '?pagina=15',\n",
              " '?pagina=16',\n",
              " '?pagina=17',\n",
              " '?pagina=18',\n",
              " '?pagina=19',\n",
              " '?pagina=20',\n",
              " '?pagina=21',\n",
              " '?pagina=22',\n",
              " '?pagina=23',\n",
              " '?pagina=24',\n",
              " '?pagina=25',\n",
              " '?pagina=26',\n",
              " '?pagina=27',\n",
              " '?pagina=28',\n",
              " '?pagina=29',\n",
              " '?pagina=30',\n",
              " '?pagina=31',\n",
              " '?pagina=32',\n",
              " '?pagina=33',\n",
              " '?pagina=34',\n",
              " '?pagina=35',\n",
              " '?pagina=36',\n",
              " '?pagina=37',\n",
              " '?pagina=38',\n",
              " '?pagina=39',\n",
              " '?pagina=40',\n",
              " '?pagina=41',\n",
              " '?pagina=42',\n",
              " '?pagina=43',\n",
              " '?pagina=44',\n",
              " '?pagina=45',\n",
              " '?pagina=46',\n",
              " '?pagina=47',\n",
              " '?pagina=48',\n",
              " '?pagina=49']"
            ]
          },
          "metadata": {
            "tags": []
          },
          "execution_count": 3
        }
      ]
    },
    {
      "cell_type": "code",
      "metadata": {
        "id": "pVhfUshhvGHg"
      },
      "source": [
        "import pandas as pd\r\n",
        "def converter_df(aluguel_lista,quartos_lista,endereco_lista,banheiro_lista,vaga_lista,area_lista):\r\n",
        "    data = {'aluguel':aluguel_lista,\r\n",
        "           'quartos':quartos_lista,\r\n",
        "           'endereco':endereco_lista,\r\n",
        "           'banheiro':banheiro_lista,\r\n",
        "            'vaga':vaga_lista,\r\n",
        "            'area':area_lista}\r\n",
        "    df = pd.DataFrame(data)\r\n",
        "    return df"
      ],
      "execution_count": 4,
      "outputs": []
    },
    {
      "cell_type": "code",
      "metadata": {
        "id": "w6ZONnYvvPmS"
      },
      "source": [
        "def scrap(url):\r\n",
        "    c = requests.get(url).content\r\n",
        "    soup = BeautifulSoup(c)\r\n",
        "    \r\n",
        "    #Lista de aluguel\r\n",
        "    aluguel_tag = soup.find_all('div', {'class':'property-card__price js-property-card-prices js-property-card__price-small'}) \r\n",
        "    aluguel_lista = [p.text for p in aluguel_tag] \r\n",
        "     \r\n",
        "    #Lista de quartos\r\n",
        "    quartos_tag = soup.find_all('li', {'class': 'property-card__detail-item property-card__detail-room js-property-detail-rooms'}) \r\n",
        "    quartos_lista = [en.text for en in quartos_tag] \r\n",
        "   \r\n",
        "    #Lista de endereço\r\n",
        "    endereco_tag = soup.find_all('span', {'class': 'property-card__address'}) \r\n",
        "    endereco_lista = [fg.text for fg in endereco_tag] \r\n",
        "    \r\n",
        "    #Lista de banheiro\r\n",
        "    banheiro_tag = soup.find_all('li', {'class': 'property-card__detail-item property-card__detail-bathroom js-property-detail-bathroom'}) \r\n",
        "    banheiro_lista = [yp.text for yp in banheiro_tag] \r\n",
        "  \r\n",
        "\r\n",
        "    vaga_tag = soup.find_all('li', {'class': 'property-card__detail-item property-card__detail-garage js-property-detail-garages'}) \r\n",
        "    vaga_lista = [yp.text for yp in vaga_tag] \r\n",
        "\r\n",
        "    area_tag = soup.find_all('li', {'class': 'property-card__detail-item property-card__detail-area'}) \r\n",
        "    area_lista = [yp.text for yp in area_tag] \r\n",
        "\r\n",
        "\r\n",
        "   #Listas transfromadas em df\r\n",
        "    df=converter_df(aluguel_lista,quartos_lista,endereco_lista,banheiro_lista,vaga_lista,area_lista)\r\n",
        "    \r\n",
        "    return df"
      ],
      "execution_count": 5,
      "outputs": []
    },
    {
      "cell_type": "code",
      "metadata": {
        "colab": {
          "base_uri": "https://localhost:8080/"
        },
        "id": "IGvK1SYGvXVo",
        "outputId": "43d69efd-9583-41ea-c39b-bda139d300b9"
      },
      "source": [
        "paginas"
      ],
      "execution_count": 6,
      "outputs": [
        {
          "output_type": "execute_result",
          "data": {
            "text/plain": [
              "['',\n",
              " '?pagina=1',\n",
              " '?pagina=2',\n",
              " '?pagina=3',\n",
              " '?pagina=4',\n",
              " '?pagina=5',\n",
              " '?pagina=6',\n",
              " '?pagina=7',\n",
              " '?pagina=8',\n",
              " '?pagina=9',\n",
              " '?pagina=10',\n",
              " '?pagina=11',\n",
              " '?pagina=12',\n",
              " '?pagina=13',\n",
              " '?pagina=14',\n",
              " '?pagina=15',\n",
              " '?pagina=16',\n",
              " '?pagina=17',\n",
              " '?pagina=18',\n",
              " '?pagina=19',\n",
              " '?pagina=20',\n",
              " '?pagina=21',\n",
              " '?pagina=22',\n",
              " '?pagina=23',\n",
              " '?pagina=24',\n",
              " '?pagina=25',\n",
              " '?pagina=26',\n",
              " '?pagina=27',\n",
              " '?pagina=28',\n",
              " '?pagina=29',\n",
              " '?pagina=30',\n",
              " '?pagina=31',\n",
              " '?pagina=32',\n",
              " '?pagina=33',\n",
              " '?pagina=34',\n",
              " '?pagina=35',\n",
              " '?pagina=36',\n",
              " '?pagina=37',\n",
              " '?pagina=38',\n",
              " '?pagina=39',\n",
              " '?pagina=40',\n",
              " '?pagina=41',\n",
              " '?pagina=42',\n",
              " '?pagina=43',\n",
              " '?pagina=44',\n",
              " '?pagina=45',\n",
              " '?pagina=46',\n",
              " '?pagina=47',\n",
              " '?pagina=48',\n",
              " '?pagina=49']"
            ]
          },
          "metadata": {
            "tags": []
          },
          "execution_count": 6
        }
      ]
    },
    {
      "cell_type": "code",
      "metadata": {
        "colab": {
          "base_uri": "https://localhost:8080/"
        },
        "id": "FtydvXMaxwiU",
        "outputId": "84ba96a1-d459-49cf-a763-ac2fa9532ffe"
      },
      "source": [
        "#Coletando dados de imóveis do site Viva Real\r\n",
        "df_lista = []\r\n",
        "for pg in paginas:\r\n",
        "    URL = 'https://www.vivareal.com.br/aluguel/sp/sao-paulo/?pagina=7'.format(pg)\r\n",
        "    print('Coletando URL:', URL)\r\n",
        "    #try:\r\n",
        "    df = scrap(URL)\r\n",
        "    #print(df)\r\n",
        "    #print('Coletando URL:', URL)\r\n",
        "    #except Exception as e:\r\n",
        "    #    print('Erro ao coletar dados na url:', url)\r\n",
        "    #    print(e)\r\n",
        "    df_lista.append(df)\r\n",
        "    \r\n",
        "#df_final = pd.concat(df_lista)"
      ],
      "execution_count": 8,
      "outputs": [
        {
          "output_type": "stream",
          "text": [
            "Coletando URL: https://www.vivareal.com.br/aluguel/sp/sao-paulo/?pagina=7\n",
            "Coletando URL: https://www.vivareal.com.br/aluguel/sp/sao-paulo/?pagina=7\n",
            "Coletando URL: https://www.vivareal.com.br/aluguel/sp/sao-paulo/?pagina=7\n",
            "Coletando URL: https://www.vivareal.com.br/aluguel/sp/sao-paulo/?pagina=7\n",
            "Coletando URL: https://www.vivareal.com.br/aluguel/sp/sao-paulo/?pagina=7\n",
            "Coletando URL: https://www.vivareal.com.br/aluguel/sp/sao-paulo/?pagina=7\n",
            "Coletando URL: https://www.vivareal.com.br/aluguel/sp/sao-paulo/?pagina=7\n",
            "Coletando URL: https://www.vivareal.com.br/aluguel/sp/sao-paulo/?pagina=7\n",
            "Coletando URL: https://www.vivareal.com.br/aluguel/sp/sao-paulo/?pagina=7\n",
            "Coletando URL: https://www.vivareal.com.br/aluguel/sp/sao-paulo/?pagina=7\n",
            "Coletando URL: https://www.vivareal.com.br/aluguel/sp/sao-paulo/?pagina=7\n",
            "Coletando URL: https://www.vivareal.com.br/aluguel/sp/sao-paulo/?pagina=7\n",
            "Coletando URL: https://www.vivareal.com.br/aluguel/sp/sao-paulo/?pagina=7\n",
            "Coletando URL: https://www.vivareal.com.br/aluguel/sp/sao-paulo/?pagina=7\n",
            "Coletando URL: https://www.vivareal.com.br/aluguel/sp/sao-paulo/?pagina=7\n",
            "Coletando URL: https://www.vivareal.com.br/aluguel/sp/sao-paulo/?pagina=7\n",
            "Coletando URL: https://www.vivareal.com.br/aluguel/sp/sao-paulo/?pagina=7\n",
            "Coletando URL: https://www.vivareal.com.br/aluguel/sp/sao-paulo/?pagina=7\n",
            "Coletando URL: https://www.vivareal.com.br/aluguel/sp/sao-paulo/?pagina=7\n",
            "Coletando URL: https://www.vivareal.com.br/aluguel/sp/sao-paulo/?pagina=7\n",
            "Coletando URL: https://www.vivareal.com.br/aluguel/sp/sao-paulo/?pagina=7\n",
            "Coletando URL: https://www.vivareal.com.br/aluguel/sp/sao-paulo/?pagina=7\n",
            "Coletando URL: https://www.vivareal.com.br/aluguel/sp/sao-paulo/?pagina=7\n",
            "Coletando URL: https://www.vivareal.com.br/aluguel/sp/sao-paulo/?pagina=7\n",
            "Coletando URL: https://www.vivareal.com.br/aluguel/sp/sao-paulo/?pagina=7\n",
            "Coletando URL: https://www.vivareal.com.br/aluguel/sp/sao-paulo/?pagina=7\n",
            "Coletando URL: https://www.vivareal.com.br/aluguel/sp/sao-paulo/?pagina=7\n",
            "Coletando URL: https://www.vivareal.com.br/aluguel/sp/sao-paulo/?pagina=7\n",
            "Coletando URL: https://www.vivareal.com.br/aluguel/sp/sao-paulo/?pagina=7\n",
            "Coletando URL: https://www.vivareal.com.br/aluguel/sp/sao-paulo/?pagina=7\n",
            "Coletando URL: https://www.vivareal.com.br/aluguel/sp/sao-paulo/?pagina=7\n",
            "Coletando URL: https://www.vivareal.com.br/aluguel/sp/sao-paulo/?pagina=7\n",
            "Coletando URL: https://www.vivareal.com.br/aluguel/sp/sao-paulo/?pagina=7\n",
            "Coletando URL: https://www.vivareal.com.br/aluguel/sp/sao-paulo/?pagina=7\n",
            "Coletando URL: https://www.vivareal.com.br/aluguel/sp/sao-paulo/?pagina=7\n",
            "Coletando URL: https://www.vivareal.com.br/aluguel/sp/sao-paulo/?pagina=7\n",
            "Coletando URL: https://www.vivareal.com.br/aluguel/sp/sao-paulo/?pagina=7\n",
            "Coletando URL: https://www.vivareal.com.br/aluguel/sp/sao-paulo/?pagina=7\n",
            "Coletando URL: https://www.vivareal.com.br/aluguel/sp/sao-paulo/?pagina=7\n",
            "Coletando URL: https://www.vivareal.com.br/aluguel/sp/sao-paulo/?pagina=7\n",
            "Coletando URL: https://www.vivareal.com.br/aluguel/sp/sao-paulo/?pagina=7\n",
            "Coletando URL: https://www.vivareal.com.br/aluguel/sp/sao-paulo/?pagina=7\n",
            "Coletando URL: https://www.vivareal.com.br/aluguel/sp/sao-paulo/?pagina=7\n",
            "Coletando URL: https://www.vivareal.com.br/aluguel/sp/sao-paulo/?pagina=7\n",
            "Coletando URL: https://www.vivareal.com.br/aluguel/sp/sao-paulo/?pagina=7\n",
            "Coletando URL: https://www.vivareal.com.br/aluguel/sp/sao-paulo/?pagina=7\n",
            "Coletando URL: https://www.vivareal.com.br/aluguel/sp/sao-paulo/?pagina=7\n",
            "Coletando URL: https://www.vivareal.com.br/aluguel/sp/sao-paulo/?pagina=7\n",
            "Coletando URL: https://www.vivareal.com.br/aluguel/sp/sao-paulo/?pagina=7\n",
            "Coletando URL: https://www.vivareal.com.br/aluguel/sp/sao-paulo/?pagina=7\n"
          ],
          "name": "stdout"
        }
      ]
    },
    {
      "cell_type": "code",
      "metadata": {
        "colab": {
          "base_uri": "https://localhost:8080/",
          "height": 419
        },
        "id": "vjF9i_JixwwN",
        "outputId": "0b77cb48-a0d0-40cf-e5f3-1cf40bc08e06"
      },
      "source": [
        "#Visualização de valores de aluguél, quarto e endereço\r\n",
        "df2=pd.concat(df_lista)\r\n",
        "df2.head(104)"
      ],
      "execution_count": 9,
      "outputs": [
        {
          "output_type": "execute_result",
          "data": {
            "text/html": [
              "<div>\n",
              "<style scoped>\n",
              "    .dataframe tbody tr th:only-of-type {\n",
              "        vertical-align: middle;\n",
              "    }\n",
              "\n",
              "    .dataframe tbody tr th {\n",
              "        vertical-align: top;\n",
              "    }\n",
              "\n",
              "    .dataframe thead th {\n",
              "        text-align: right;\n",
              "    }\n",
              "</style>\n",
              "<table border=\"1\" class=\"dataframe\">\n",
              "  <thead>\n",
              "    <tr style=\"text-align: right;\">\n",
              "      <th></th>\n",
              "      <th>aluguel</th>\n",
              "      <th>quartos</th>\n",
              "      <th>endereco</th>\n",
              "      <th>banheiro</th>\n",
              "      <th>vaga</th>\n",
              "      <th>area</th>\n",
              "    </tr>\n",
              "  </thead>\n",
              "  <tbody>\n",
              "    <tr>\n",
              "      <th>0</th>\n",
              "      <td>R$ 3.450 /Mês</td>\n",
              "      <td>3   Quartos</td>\n",
              "      <td>Rua Dom Armando Lombardi, 701 - Jardim Guedala...</td>\n",
              "      <td>4   Banheiros</td>\n",
              "      <td>2   Vagas</td>\n",
              "      <td>100   m²</td>\n",
              "    </tr>\n",
              "    <tr>\n",
              "      <th>1</th>\n",
              "      <td>R$ 1.150 /Mês</td>\n",
              "      <td>--   Quarto</td>\n",
              "      <td>Alameda Olga, 422 - Barra Funda, São Paulo - SP</td>\n",
              "      <td>2   Banheiros</td>\n",
              "      <td>1   Vaga</td>\n",
              "      <td>37   m²</td>\n",
              "    </tr>\n",
              "    <tr>\n",
              "      <th>2</th>\n",
              "      <td>R$ 2.900 /Mês</td>\n",
              "      <td>1   Quarto</td>\n",
              "      <td>Rua Manuel de Paiva, 76 - Vila Mariana, São Pa...</td>\n",
              "      <td>1   Banheiro</td>\n",
              "      <td>1   Vaga</td>\n",
              "      <td>45   m²</td>\n",
              "    </tr>\n",
              "    <tr>\n",
              "      <th>3</th>\n",
              "      <td>R$ 4.200 /Mês</td>\n",
              "      <td>3   Quartos</td>\n",
              "      <td>Alameda Joaquim Eugênio de Lima, 1094 - Jardim...</td>\n",
              "      <td>3   Banheiros</td>\n",
              "      <td>2   Vagas</td>\n",
              "      <td>104   m²</td>\n",
              "    </tr>\n",
              "    <tr>\n",
              "      <th>4</th>\n",
              "      <td>R$ 3.800 /Mês</td>\n",
              "      <td>3   Quartos</td>\n",
              "      <td>Rua Cantagalo, 980 - Vila Gomes Cardim, São Pa...</td>\n",
              "      <td>3   Banheiros</td>\n",
              "      <td>2   Vagas</td>\n",
              "      <td>93   m²</td>\n",
              "    </tr>\n",
              "    <tr>\n",
              "      <th>...</th>\n",
              "      <td>...</td>\n",
              "      <td>...</td>\n",
              "      <td>...</td>\n",
              "      <td>...</td>\n",
              "      <td>...</td>\n",
              "      <td>...</td>\n",
              "    </tr>\n",
              "    <tr>\n",
              "      <th>27</th>\n",
              "      <td>R$ 900 /Mês</td>\n",
              "      <td>1   Quarto</td>\n",
              "      <td>Travessa Professor José Frederico de Borba, 20...</td>\n",
              "      <td>1   Banheiro</td>\n",
              "      <td>--   Vaga</td>\n",
              "      <td>50   m²</td>\n",
              "    </tr>\n",
              "    <tr>\n",
              "      <th>28</th>\n",
              "      <td>R$ 2.800 /Mês</td>\n",
              "      <td>1   Quarto</td>\n",
              "      <td>Rua Henri Dunant, 1066 - Santo Amaro, São Paul...</td>\n",
              "      <td>1   Banheiro</td>\n",
              "      <td>1   Vaga</td>\n",
              "      <td>33   m²</td>\n",
              "    </tr>\n",
              "    <tr>\n",
              "      <th>29</th>\n",
              "      <td>R$ 1.900 /Mês</td>\n",
              "      <td>--   Quarto</td>\n",
              "      <td>Avenida Vital Brasil, 305 - Butantã, São Paulo...</td>\n",
              "      <td>1   Banheiro</td>\n",
              "      <td>1   Vaga</td>\n",
              "      <td>47   m²</td>\n",
              "    </tr>\n",
              "    <tr>\n",
              "      <th>30</th>\n",
              "      <td>R$ 2.500 /Mês</td>\n",
              "      <td>--   Quarto</td>\n",
              "      <td>Rua Pedroso Alvarenga, 1046 - Itaim Bibi, São ...</td>\n",
              "      <td>2   Banheiros</td>\n",
              "      <td>1   Vaga</td>\n",
              "      <td>45   m²</td>\n",
              "    </tr>\n",
              "    <tr>\n",
              "      <th>31</th>\n",
              "      <td>R$ 1.700 /Mês</td>\n",
              "      <td>3   Quartos</td>\n",
              "      <td>Avenida Antártica, 568 - Água Branca, São Paul...</td>\n",
              "      <td>2   Banheiros</td>\n",
              "      <td>--   Vaga</td>\n",
              "      <td>65   m²</td>\n",
              "    </tr>\n",
              "  </tbody>\n",
              "</table>\n",
              "<p>104 rows × 6 columns</p>\n",
              "</div>"
            ],
            "text/plain": [
              "               aluguel          quartos  ...           vaga          area\n",
              "0      R$ 3.450 /Mês      3   Quartos    ...    2   Vagas      100   m²  \n",
              "1      R$ 1.150 /Mês      --   Quarto    ...     1   Vaga       37   m²  \n",
              "2      R$ 2.900 /Mês       1   Quarto    ...     1   Vaga       45   m²  \n",
              "3      R$ 4.200 /Mês      3   Quartos    ...    2   Vagas      104   m²  \n",
              "4      R$ 3.800 /Mês      3   Quartos    ...    2   Vagas       93   m²  \n",
              "..                 ...              ...  ...            ...           ...\n",
              "27       R$ 900 /Mês       1   Quarto    ...    --   Vaga       50   m²  \n",
              "28     R$ 2.800 /Mês       1   Quarto    ...     1   Vaga       33   m²  \n",
              "29     R$ 1.900 /Mês      --   Quarto    ...     1   Vaga       47   m²  \n",
              "30     R$ 2.500 /Mês      --   Quarto    ...     1   Vaga       45   m²  \n",
              "31     R$ 1.700 /Mês      3   Quartos    ...    --   Vaga       65   m²  \n",
              "\n",
              "[104 rows x 6 columns]"
            ]
          },
          "metadata": {
            "tags": []
          },
          "execution_count": 9
        }
      ]
    },
    {
      "cell_type": "code",
      "metadata": {
        "colab": {
          "base_uri": "https://localhost:8080/",
          "height": 204
        },
        "id": "5jFQv4u2zaVV",
        "outputId": "5b320e71-1303-4b80-ca0a-d9ebbb0ace5c"
      },
      "source": [
        "#Visualização de endereço completo\r\n",
        "df2['bairro'] = df2.endereco.str.split('\\s-').str[1]\r\n",
        "df2['rua'] = df2.endereco.str.split('\\s-').str[0]\r\n",
        "df2['bairro'] = df2.bairro.str.split(',').str[0]\r\n",
        "\r\n",
        "df2.head()"
      ],
      "execution_count": 10,
      "outputs": [
        {
          "output_type": "execute_result",
          "data": {
            "text/html": [
              "<div>\n",
              "<style scoped>\n",
              "    .dataframe tbody tr th:only-of-type {\n",
              "        vertical-align: middle;\n",
              "    }\n",
              "\n",
              "    .dataframe tbody tr th {\n",
              "        vertical-align: top;\n",
              "    }\n",
              "\n",
              "    .dataframe thead th {\n",
              "        text-align: right;\n",
              "    }\n",
              "</style>\n",
              "<table border=\"1\" class=\"dataframe\">\n",
              "  <thead>\n",
              "    <tr style=\"text-align: right;\">\n",
              "      <th></th>\n",
              "      <th>aluguel</th>\n",
              "      <th>quartos</th>\n",
              "      <th>endereco</th>\n",
              "      <th>banheiro</th>\n",
              "      <th>vaga</th>\n",
              "      <th>area</th>\n",
              "      <th>bairro</th>\n",
              "      <th>rua</th>\n",
              "    </tr>\n",
              "  </thead>\n",
              "  <tbody>\n",
              "    <tr>\n",
              "      <th>0</th>\n",
              "      <td>R$ 3.450 /Mês</td>\n",
              "      <td>3   Quartos</td>\n",
              "      <td>Rua Dom Armando Lombardi, 701 - Jardim Guedala...</td>\n",
              "      <td>4   Banheiros</td>\n",
              "      <td>2   Vagas</td>\n",
              "      <td>100   m²</td>\n",
              "      <td>Jardim Guedala</td>\n",
              "      <td>Rua Dom Armando Lombardi, 701</td>\n",
              "    </tr>\n",
              "    <tr>\n",
              "      <th>1</th>\n",
              "      <td>R$ 1.150 /Mês</td>\n",
              "      <td>--   Quarto</td>\n",
              "      <td>Alameda Olga, 422 - Barra Funda, São Paulo - SP</td>\n",
              "      <td>2   Banheiros</td>\n",
              "      <td>1   Vaga</td>\n",
              "      <td>37   m²</td>\n",
              "      <td>Barra Funda</td>\n",
              "      <td>Alameda Olga, 422</td>\n",
              "    </tr>\n",
              "    <tr>\n",
              "      <th>2</th>\n",
              "      <td>R$ 2.900 /Mês</td>\n",
              "      <td>1   Quarto</td>\n",
              "      <td>Rua Manuel de Paiva, 76 - Vila Mariana, São Pa...</td>\n",
              "      <td>1   Banheiro</td>\n",
              "      <td>1   Vaga</td>\n",
              "      <td>45   m²</td>\n",
              "      <td>Vila Mariana</td>\n",
              "      <td>Rua Manuel de Paiva, 76</td>\n",
              "    </tr>\n",
              "    <tr>\n",
              "      <th>3</th>\n",
              "      <td>R$ 4.200 /Mês</td>\n",
              "      <td>3   Quartos</td>\n",
              "      <td>Alameda Joaquim Eugênio de Lima, 1094 - Jardim...</td>\n",
              "      <td>3   Banheiros</td>\n",
              "      <td>2   Vagas</td>\n",
              "      <td>104   m²</td>\n",
              "      <td>Jardim Paulista</td>\n",
              "      <td>Alameda Joaquim Eugênio de Lima, 1094</td>\n",
              "    </tr>\n",
              "    <tr>\n",
              "      <th>4</th>\n",
              "      <td>R$ 3.800 /Mês</td>\n",
              "      <td>3   Quartos</td>\n",
              "      <td>Rua Cantagalo, 980 - Vila Gomes Cardim, São Pa...</td>\n",
              "      <td>3   Banheiros</td>\n",
              "      <td>2   Vagas</td>\n",
              "      <td>93   m²</td>\n",
              "      <td>Vila Gomes Cardim</td>\n",
              "      <td>Rua Cantagalo, 980</td>\n",
              "    </tr>\n",
              "  </tbody>\n",
              "</table>\n",
              "</div>"
            ],
            "text/plain": [
              "              aluguel  ...                                    rua\n",
              "0     R$ 3.450 /Mês    ...          Rua Dom Armando Lombardi, 701\n",
              "1     R$ 1.150 /Mês    ...                      Alameda Olga, 422\n",
              "2     R$ 2.900 /Mês    ...                Rua Manuel de Paiva, 76\n",
              "3     R$ 4.200 /Mês    ...  Alameda Joaquim Eugênio de Lima, 1094\n",
              "4     R$ 3.800 /Mês    ...                     Rua Cantagalo, 980\n",
              "\n",
              "[5 rows x 8 columns]"
            ]
          },
          "metadata": {
            "tags": []
          },
          "execution_count": 10
        }
      ]
    },
    {
      "cell_type": "code",
      "metadata": {
        "colab": {
          "base_uri": "https://localhost:8080/"
        },
        "id": "I-awkq6h0uMj",
        "outputId": "d3b97b9c-593c-40c1-ca4a-e4571a7011ae"
      },
      "source": [
        "df2.shape"
      ],
      "execution_count": 12,
      "outputs": [
        {
          "output_type": "execute_result",
          "data": {
            "text/plain": [
              "(1800, 8)"
            ]
          },
          "metadata": {
            "tags": []
          },
          "execution_count": 12
        }
      ]
    },
    {
      "cell_type": "code",
      "metadata": {
        "colab": {
          "base_uri": "https://localhost:8080/"
        },
        "id": "88gjAz1S0xh5",
        "outputId": "d6656768-58d4-430d-eb2f-f7490a23e777"
      },
      "source": [
        "df2.rua.unique()"
      ],
      "execution_count": 13,
      "outputs": [
        {
          "output_type": "execute_result",
          "data": {
            "text/plain": [
              "array(['Rua Dom Armando Lombardi, 701', 'Alameda Olga, 422',\n",
              "       'Rua Manuel de Paiva, 76', 'Alameda Joaquim Eugênio de Lima, 1094',\n",
              "       'Rua Cantagalo, 980', 'Rua Tamandaré', 'Rua José de Magalhães, 20',\n",
              "       'Avenida Mofarrej, 1500', 'Avenida Duque de Caxias, 525',\n",
              "       'Avenida Rouxinol, 60', 'Avenida Barão do Rego Barros',\n",
              "       'Alameda dos Guaramomis, 362', 'Rua Pensilvânia, 1342',\n",
              "       'Rua São Venceslau, 243', 'Rua Constantino de Sousa, 914',\n",
              "       'Rua Sansão Alves dos Santos, 343', 'Rua Santo Arcádio, 43',\n",
              "       'Rua Treze de Maio, 1838', 'Rua Oscar Freire, 1758',\n",
              "       'Rua Ambrizette', 'Rua Alcides Ricardini Neves, 12',\n",
              "       'Rua Heitor Penteado, 2050', 'Avenida Nove de Julho, 5143',\n",
              "       'Rua Alvorada, 676', 'Rua Alcino Braga, 180', 'Rua Tamandaré, 464',\n",
              "       'Rua Manuel da Nóbrega, 646',\n",
              "       'Travessa Professor José Frederico de Borba, 204',\n",
              "       'Rua Henri Dunant, 1066', 'Avenida Vital Brasil, 305',\n",
              "       'Rua Pedroso Alvarenga, 1046', 'Avenida Antártica, 568',\n",
              "       'Rua Pais Leme, 215', 'Rua Santa Elvira, 244',\n",
              "       'Rua Manuel Borba, 163', 'Rua Salatiel de Campos'], dtype=object)"
            ]
          },
          "metadata": {
            "tags": []
          },
          "execution_count": 13
        }
      ]
    },
    {
      "cell_type": "code",
      "metadata": {
        "colab": {
          "base_uri": "https://localhost:8080/",
          "height": 204
        },
        "id": "rfsdLKHKEBbb",
        "outputId": "82c7b7f0-2d07-47d3-e5ab-52e4902804b6"
      },
      "source": [
        "df2.head()"
      ],
      "execution_count": 14,
      "outputs": [
        {
          "output_type": "execute_result",
          "data": {
            "text/html": [
              "<div>\n",
              "<style scoped>\n",
              "    .dataframe tbody tr th:only-of-type {\n",
              "        vertical-align: middle;\n",
              "    }\n",
              "\n",
              "    .dataframe tbody tr th {\n",
              "        vertical-align: top;\n",
              "    }\n",
              "\n",
              "    .dataframe thead th {\n",
              "        text-align: right;\n",
              "    }\n",
              "</style>\n",
              "<table border=\"1\" class=\"dataframe\">\n",
              "  <thead>\n",
              "    <tr style=\"text-align: right;\">\n",
              "      <th></th>\n",
              "      <th>aluguel</th>\n",
              "      <th>quartos</th>\n",
              "      <th>endereco</th>\n",
              "      <th>banheiro</th>\n",
              "      <th>vaga</th>\n",
              "      <th>area</th>\n",
              "      <th>bairro</th>\n",
              "      <th>rua</th>\n",
              "    </tr>\n",
              "  </thead>\n",
              "  <tbody>\n",
              "    <tr>\n",
              "      <th>0</th>\n",
              "      <td>R$ 3.450 /Mês</td>\n",
              "      <td>3   Quartos</td>\n",
              "      <td>Rua Dom Armando Lombardi, 701 - Jardim Guedala...</td>\n",
              "      <td>4   Banheiros</td>\n",
              "      <td>2   Vagas</td>\n",
              "      <td>100   m²</td>\n",
              "      <td>Jardim Guedala</td>\n",
              "      <td>Rua Dom Armando Lombardi, 701</td>\n",
              "    </tr>\n",
              "    <tr>\n",
              "      <th>1</th>\n",
              "      <td>R$ 1.150 /Mês</td>\n",
              "      <td>--   Quarto</td>\n",
              "      <td>Alameda Olga, 422 - Barra Funda, São Paulo - SP</td>\n",
              "      <td>2   Banheiros</td>\n",
              "      <td>1   Vaga</td>\n",
              "      <td>37   m²</td>\n",
              "      <td>Barra Funda</td>\n",
              "      <td>Alameda Olga, 422</td>\n",
              "    </tr>\n",
              "    <tr>\n",
              "      <th>2</th>\n",
              "      <td>R$ 2.900 /Mês</td>\n",
              "      <td>1   Quarto</td>\n",
              "      <td>Rua Manuel de Paiva, 76 - Vila Mariana, São Pa...</td>\n",
              "      <td>1   Banheiro</td>\n",
              "      <td>1   Vaga</td>\n",
              "      <td>45   m²</td>\n",
              "      <td>Vila Mariana</td>\n",
              "      <td>Rua Manuel de Paiva, 76</td>\n",
              "    </tr>\n",
              "    <tr>\n",
              "      <th>3</th>\n",
              "      <td>R$ 4.200 /Mês</td>\n",
              "      <td>3   Quartos</td>\n",
              "      <td>Alameda Joaquim Eugênio de Lima, 1094 - Jardim...</td>\n",
              "      <td>3   Banheiros</td>\n",
              "      <td>2   Vagas</td>\n",
              "      <td>104   m²</td>\n",
              "      <td>Jardim Paulista</td>\n",
              "      <td>Alameda Joaquim Eugênio de Lima, 1094</td>\n",
              "    </tr>\n",
              "    <tr>\n",
              "      <th>4</th>\n",
              "      <td>R$ 3.800 /Mês</td>\n",
              "      <td>3   Quartos</td>\n",
              "      <td>Rua Cantagalo, 980 - Vila Gomes Cardim, São Pa...</td>\n",
              "      <td>3   Banheiros</td>\n",
              "      <td>2   Vagas</td>\n",
              "      <td>93   m²</td>\n",
              "      <td>Vila Gomes Cardim</td>\n",
              "      <td>Rua Cantagalo, 980</td>\n",
              "    </tr>\n",
              "  </tbody>\n",
              "</table>\n",
              "</div>"
            ],
            "text/plain": [
              "              aluguel  ...                                    rua\n",
              "0     R$ 3.450 /Mês    ...          Rua Dom Armando Lombardi, 701\n",
              "1     R$ 1.150 /Mês    ...                      Alameda Olga, 422\n",
              "2     R$ 2.900 /Mês    ...                Rua Manuel de Paiva, 76\n",
              "3     R$ 4.200 /Mês    ...  Alameda Joaquim Eugênio de Lima, 1094\n",
              "4     R$ 3.800 /Mês    ...                     Rua Cantagalo, 980\n",
              "\n",
              "[5 rows x 8 columns]"
            ]
          },
          "metadata": {
            "tags": []
          },
          "execution_count": 14
        }
      ]
    },
    {
      "cell_type": "code",
      "metadata": {
        "id": "kzyj3dWgKXWO"
      },
      "source": [
        "df2.to_csv('banco_imoveis.csv')"
      ],
      "execution_count": 16,
      "outputs": []
    }
  ]
}