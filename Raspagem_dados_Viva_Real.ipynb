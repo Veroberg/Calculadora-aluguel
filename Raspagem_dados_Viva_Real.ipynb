{
  "nbformat": 4,
  "nbformat_minor": 0,
  "metadata": {
    "colab": {
      "name": "Raspagem_dados_Viva Real.ipynb",
      "provenance": [],
      "collapsed_sections": [],
      "authorship_tag": "ABX9TyNg3PoFpD/4EgfymytHw3pZ",
      "include_colab_link": true
    },
    "kernelspec": {
      "name": "python3",
      "display_name": "Python 3"
    }
  },
  "cells": [
    {
      "cell_type": "markdown",
      "metadata": {
        "id": "view-in-github",
        "colab_type": "text"
      },
      "source": [
        "<a href=\"https://colab.research.google.com/github/Veroberg/coleta-dados-calculadora-aluguel/blob/main/Raspagem_dados_Viva_Real.ipynb\" target=\"_parent\"><img src=\"https://colab.research.google.com/assets/colab-badge.svg\" alt=\"Open In Colab\"/></a>"
      ]
    },
    {
      "cell_type": "code",
      "metadata": {
        "id": "hseDod2erNPR"
      },
      "source": [
        "import pandas as pd\r\n",
        "import requests\r\n",
        "from bs4 import BeautifulSoup\r\n",
        "import pandas as pd"
      ],
      "execution_count": 32,
      "outputs": []
    },
    {
      "cell_type": "code",
      "metadata": {
        "colab": {
          "base_uri": "https://localhost:8080/"
        },
        "id": "7pVSa2hau8g_",
        "outputId": "36c39b08-c44c-4bc7-a5a0-a2e5c1045a5d"
      },
      "source": [
        "paginas = ['']\r\n",
        "for i in range(1,50):\r\n",
        "    a = '?pagina='+str(i)\r\n",
        "    print(a)\r\n",
        "    paginas.append(a)"
      ],
      "execution_count": 33,
      "outputs": [
        {
          "output_type": "stream",
          "text": [
            "?pagina=1\n",
            "?pagina=2\n",
            "?pagina=3\n",
            "?pagina=4\n",
            "?pagina=5\n",
            "?pagina=6\n",
            "?pagina=7\n",
            "?pagina=8\n",
            "?pagina=9\n",
            "?pagina=10\n",
            "?pagina=11\n",
            "?pagina=12\n",
            "?pagina=13\n",
            "?pagina=14\n",
            "?pagina=15\n",
            "?pagina=16\n",
            "?pagina=17\n",
            "?pagina=18\n",
            "?pagina=19\n",
            "?pagina=20\n",
            "?pagina=21\n",
            "?pagina=22\n",
            "?pagina=23\n",
            "?pagina=24\n",
            "?pagina=25\n",
            "?pagina=26\n",
            "?pagina=27\n",
            "?pagina=28\n",
            "?pagina=29\n",
            "?pagina=30\n",
            "?pagina=31\n",
            "?pagina=32\n",
            "?pagina=33\n",
            "?pagina=34\n",
            "?pagina=35\n",
            "?pagina=36\n",
            "?pagina=37\n",
            "?pagina=38\n",
            "?pagina=39\n",
            "?pagina=40\n",
            "?pagina=41\n",
            "?pagina=42\n",
            "?pagina=43\n",
            "?pagina=44\n",
            "?pagina=45\n",
            "?pagina=46\n",
            "?pagina=47\n",
            "?pagina=48\n",
            "?pagina=49\n"
          ],
          "name": "stdout"
        }
      ]
    },
    {
      "cell_type": "code",
      "metadata": {
        "colab": {
          "base_uri": "https://localhost:8080/"
        },
        "id": "wdpXs2OSvA2Z",
        "outputId": "6bcd0642-b7ba-4d31-b53c-aa57f18df596"
      },
      "source": [
        "paginas"
      ],
      "execution_count": 34,
      "outputs": [
        {
          "output_type": "execute_result",
          "data": {
            "text/plain": [
              "['',\n",
              " '?pagina=1',\n",
              " '?pagina=2',\n",
              " '?pagina=3',\n",
              " '?pagina=4',\n",
              " '?pagina=5',\n",
              " '?pagina=6',\n",
              " '?pagina=7',\n",
              " '?pagina=8',\n",
              " '?pagina=9',\n",
              " '?pagina=10',\n",
              " '?pagina=11',\n",
              " '?pagina=12',\n",
              " '?pagina=13',\n",
              " '?pagina=14',\n",
              " '?pagina=15',\n",
              " '?pagina=16',\n",
              " '?pagina=17',\n",
              " '?pagina=18',\n",
              " '?pagina=19',\n",
              " '?pagina=20',\n",
              " '?pagina=21',\n",
              " '?pagina=22',\n",
              " '?pagina=23',\n",
              " '?pagina=24',\n",
              " '?pagina=25',\n",
              " '?pagina=26',\n",
              " '?pagina=27',\n",
              " '?pagina=28',\n",
              " '?pagina=29',\n",
              " '?pagina=30',\n",
              " '?pagina=31',\n",
              " '?pagina=32',\n",
              " '?pagina=33',\n",
              " '?pagina=34',\n",
              " '?pagina=35',\n",
              " '?pagina=36',\n",
              " '?pagina=37',\n",
              " '?pagina=38',\n",
              " '?pagina=39',\n",
              " '?pagina=40',\n",
              " '?pagina=41',\n",
              " '?pagina=42',\n",
              " '?pagina=43',\n",
              " '?pagina=44',\n",
              " '?pagina=45',\n",
              " '?pagina=46',\n",
              " '?pagina=47',\n",
              " '?pagina=48',\n",
              " '?pagina=49']"
            ]
          },
          "metadata": {
            "tags": []
          },
          "execution_count": 34
        }
      ]
    },
    {
      "cell_type": "code",
      "metadata": {
        "id": "pVhfUshhvGHg"
      },
      "source": [
        "import pandas as pd\r\n",
        "def converter_df(aluguel_lista,quartos_lista,endereco_lista,banheiro_lista,vaga_lista,area_lista):\r\n",
        "    data = {'aluguel':aluguel_lista,\r\n",
        "           'quartos':quartos_lista,\r\n",
        "           'endereco':endereco_lista,\r\n",
        "           'banheiro':banheiro_lista,\r\n",
        "            'vaga':vaga_lista,\r\n",
        "            'area':area_lista}\r\n",
        "    df = pd.DataFrame(data)\r\n",
        "    return df"
      ],
      "execution_count": 35,
      "outputs": []
    },
    {
      "cell_type": "code",
      "metadata": {
        "id": "w6ZONnYvvPmS"
      },
      "source": [
        "def scrap(url):\r\n",
        "    c = requests.get(url).content\r\n",
        "    soup = BeautifulSoup(c)\r\n",
        "    \r\n",
        "    #Lista de aluguel\r\n",
        "    aluguel_tag = soup.find_all('div', {'class':'property-card__price js-property-card-prices js-property-card__price-small'}) \r\n",
        "    aluguel_lista = [p.text for p in aluguel_tag] \r\n",
        "     \r\n",
        "    #Lista de quartos\r\n",
        "    quartos_tag = soup.find_all('li', {'class': 'property-card__detail-item property-card__detail-room js-property-detail-rooms'}) \r\n",
        "    quartos_lista = [en.text for en in quartos_tag] \r\n",
        "   \r\n",
        "    #Lista de endereço\r\n",
        "    endereco_tag = soup.find_all('span', {'class': 'property-card__address'}) \r\n",
        "    endereco_lista = [fg.text for fg in endereco_tag] \r\n",
        "    \r\n",
        "    #Lista de banheiro\r\n",
        "    banheiro_tag = soup.find_all('li', {'class': 'property-card__detail-item property-card__detail-bathroom js-property-detail-bathroom'}) \r\n",
        "    banheiro_lista = [yp.text for yp in banheiro_tag] \r\n",
        "  \r\n",
        "\r\n",
        "    vaga_tag = soup.find_all('li', {'class': 'property-card__detail-item property-card__detail-garage js-property-detail-garages'}) \r\n",
        "    vaga_lista = [yp.text for yp in vaga_tag] \r\n",
        "\r\n",
        "    area_tag = soup.find_all('li', {'class': 'property-card__detail-item property-card__detail-area'}) \r\n",
        "    area_lista = [yp.text for yp in area_tag] \r\n",
        "\r\n",
        "\r\n",
        "   #Listas transfromadas em df\r\n",
        "    df=converter_df(aluguel_lista,quartos_lista,endereco_lista,banheiro_lista,vaga_lista,area_lista)\r\n",
        "    \r\n",
        "    return df"
      ],
      "execution_count": 36,
      "outputs": []
    },
    {
      "cell_type": "code",
      "metadata": {
        "colab": {
          "base_uri": "https://localhost:8080/"
        },
        "id": "IGvK1SYGvXVo",
        "outputId": "85072b61-28da-45e5-e4ae-9262a9139ce6"
      },
      "source": [
        "paginas"
      ],
      "execution_count": 37,
      "outputs": [
        {
          "output_type": "execute_result",
          "data": {
            "text/plain": [
              "['',\n",
              " '?pagina=1',\n",
              " '?pagina=2',\n",
              " '?pagina=3',\n",
              " '?pagina=4',\n",
              " '?pagina=5',\n",
              " '?pagina=6',\n",
              " '?pagina=7',\n",
              " '?pagina=8',\n",
              " '?pagina=9',\n",
              " '?pagina=10',\n",
              " '?pagina=11',\n",
              " '?pagina=12',\n",
              " '?pagina=13',\n",
              " '?pagina=14',\n",
              " '?pagina=15',\n",
              " '?pagina=16',\n",
              " '?pagina=17',\n",
              " '?pagina=18',\n",
              " '?pagina=19',\n",
              " '?pagina=20',\n",
              " '?pagina=21',\n",
              " '?pagina=22',\n",
              " '?pagina=23',\n",
              " '?pagina=24',\n",
              " '?pagina=25',\n",
              " '?pagina=26',\n",
              " '?pagina=27',\n",
              " '?pagina=28',\n",
              " '?pagina=29',\n",
              " '?pagina=30',\n",
              " '?pagina=31',\n",
              " '?pagina=32',\n",
              " '?pagina=33',\n",
              " '?pagina=34',\n",
              " '?pagina=35',\n",
              " '?pagina=36',\n",
              " '?pagina=37',\n",
              " '?pagina=38',\n",
              " '?pagina=39',\n",
              " '?pagina=40',\n",
              " '?pagina=41',\n",
              " '?pagina=42',\n",
              " '?pagina=43',\n",
              " '?pagina=44',\n",
              " '?pagina=45',\n",
              " '?pagina=46',\n",
              " '?pagina=47',\n",
              " '?pagina=48',\n",
              " '?pagina=49']"
            ]
          },
          "metadata": {
            "tags": []
          },
          "execution_count": 37
        }
      ]
    },
    {
      "cell_type": "code",
      "metadata": {
        "colab": {
          "base_uri": "https://localhost:8080/"
        },
        "id": "FtydvXMaxwiU",
        "outputId": "c3fe7e08-ddbf-4c91-9831-46e93c24cf0a"
      },
      "source": [
        "#Coletando dados de imóveis do site Viva Real\r\n",
        "df_lista = []\r\n",
        "for pg in paginas:\r\n",
        "    URL = 'https://www.vivareal.com.br/aluguel/sp/sao-paulo/casa_residencial/{}#tipos=casa_residencial,condominio_residencial'.format(pg)\r\n",
        "    print('Coletando URL:', URL)\r\n",
        "    #try:\r\n",
        "    df = scrap(URL)\r\n",
        "    #print(df)\r\n",
        "    #print('Coletando URL:', URL)\r\n",
        "    #except Exception as e:\r\n",
        "    #    print('Erro ao coletar dados na url:', url)\r\n",
        "    #    print(e)\r\n",
        "    df_lista.append(df)\r\n",
        "    \r\n",
        "#df_final = pd.concat(df_lista)"
      ],
      "execution_count": 40,
      "outputs": [
        {
          "output_type": "stream",
          "text": [
            "Coletando URL: https://www.vivareal.com.br/aluguel/sp/sao-paulo/casa_residencial/#tipos=casa_residencial,condominio_residencial\n",
            "Coletando URL: https://www.vivareal.com.br/aluguel/sp/sao-paulo/casa_residencial/?pagina=1#tipos=casa_residencial,condominio_residencial\n",
            "Coletando URL: https://www.vivareal.com.br/aluguel/sp/sao-paulo/casa_residencial/?pagina=2#tipos=casa_residencial,condominio_residencial\n",
            "Coletando URL: https://www.vivareal.com.br/aluguel/sp/sao-paulo/casa_residencial/?pagina=3#tipos=casa_residencial,condominio_residencial\n",
            "Coletando URL: https://www.vivareal.com.br/aluguel/sp/sao-paulo/casa_residencial/?pagina=4#tipos=casa_residencial,condominio_residencial\n",
            "Coletando URL: https://www.vivareal.com.br/aluguel/sp/sao-paulo/casa_residencial/?pagina=5#tipos=casa_residencial,condominio_residencial\n",
            "Coletando URL: https://www.vivareal.com.br/aluguel/sp/sao-paulo/casa_residencial/?pagina=6#tipos=casa_residencial,condominio_residencial\n",
            "Coletando URL: https://www.vivareal.com.br/aluguel/sp/sao-paulo/casa_residencial/?pagina=7#tipos=casa_residencial,condominio_residencial\n",
            "Coletando URL: https://www.vivareal.com.br/aluguel/sp/sao-paulo/casa_residencial/?pagina=8#tipos=casa_residencial,condominio_residencial\n",
            "Coletando URL: https://www.vivareal.com.br/aluguel/sp/sao-paulo/casa_residencial/?pagina=9#tipos=casa_residencial,condominio_residencial\n",
            "Coletando URL: https://www.vivareal.com.br/aluguel/sp/sao-paulo/casa_residencial/?pagina=10#tipos=casa_residencial,condominio_residencial\n",
            "Coletando URL: https://www.vivareal.com.br/aluguel/sp/sao-paulo/casa_residencial/?pagina=11#tipos=casa_residencial,condominio_residencial\n",
            "Coletando URL: https://www.vivareal.com.br/aluguel/sp/sao-paulo/casa_residencial/?pagina=12#tipos=casa_residencial,condominio_residencial\n",
            "Coletando URL: https://www.vivareal.com.br/aluguel/sp/sao-paulo/casa_residencial/?pagina=13#tipos=casa_residencial,condominio_residencial\n",
            "Coletando URL: https://www.vivareal.com.br/aluguel/sp/sao-paulo/casa_residencial/?pagina=14#tipos=casa_residencial,condominio_residencial\n",
            "Coletando URL: https://www.vivareal.com.br/aluguel/sp/sao-paulo/casa_residencial/?pagina=15#tipos=casa_residencial,condominio_residencial\n",
            "Coletando URL: https://www.vivareal.com.br/aluguel/sp/sao-paulo/casa_residencial/?pagina=16#tipos=casa_residencial,condominio_residencial\n",
            "Coletando URL: https://www.vivareal.com.br/aluguel/sp/sao-paulo/casa_residencial/?pagina=17#tipos=casa_residencial,condominio_residencial\n",
            "Coletando URL: https://www.vivareal.com.br/aluguel/sp/sao-paulo/casa_residencial/?pagina=18#tipos=casa_residencial,condominio_residencial\n",
            "Coletando URL: https://www.vivareal.com.br/aluguel/sp/sao-paulo/casa_residencial/?pagina=19#tipos=casa_residencial,condominio_residencial\n",
            "Coletando URL: https://www.vivareal.com.br/aluguel/sp/sao-paulo/casa_residencial/?pagina=20#tipos=casa_residencial,condominio_residencial\n",
            "Coletando URL: https://www.vivareal.com.br/aluguel/sp/sao-paulo/casa_residencial/?pagina=21#tipos=casa_residencial,condominio_residencial\n",
            "Coletando URL: https://www.vivareal.com.br/aluguel/sp/sao-paulo/casa_residencial/?pagina=22#tipos=casa_residencial,condominio_residencial\n",
            "Coletando URL: https://www.vivareal.com.br/aluguel/sp/sao-paulo/casa_residencial/?pagina=23#tipos=casa_residencial,condominio_residencial\n",
            "Coletando URL: https://www.vivareal.com.br/aluguel/sp/sao-paulo/casa_residencial/?pagina=24#tipos=casa_residencial,condominio_residencial\n",
            "Coletando URL: https://www.vivareal.com.br/aluguel/sp/sao-paulo/casa_residencial/?pagina=25#tipos=casa_residencial,condominio_residencial\n",
            "Coletando URL: https://www.vivareal.com.br/aluguel/sp/sao-paulo/casa_residencial/?pagina=26#tipos=casa_residencial,condominio_residencial\n",
            "Coletando URL: https://www.vivareal.com.br/aluguel/sp/sao-paulo/casa_residencial/?pagina=27#tipos=casa_residencial,condominio_residencial\n",
            "Coletando URL: https://www.vivareal.com.br/aluguel/sp/sao-paulo/casa_residencial/?pagina=28#tipos=casa_residencial,condominio_residencial\n",
            "Coletando URL: https://www.vivareal.com.br/aluguel/sp/sao-paulo/casa_residencial/?pagina=29#tipos=casa_residencial,condominio_residencial\n",
            "Coletando URL: https://www.vivareal.com.br/aluguel/sp/sao-paulo/casa_residencial/?pagina=30#tipos=casa_residencial,condominio_residencial\n",
            "Coletando URL: https://www.vivareal.com.br/aluguel/sp/sao-paulo/casa_residencial/?pagina=31#tipos=casa_residencial,condominio_residencial\n",
            "Coletando URL: https://www.vivareal.com.br/aluguel/sp/sao-paulo/casa_residencial/?pagina=32#tipos=casa_residencial,condominio_residencial\n",
            "Coletando URL: https://www.vivareal.com.br/aluguel/sp/sao-paulo/casa_residencial/?pagina=33#tipos=casa_residencial,condominio_residencial\n",
            "Coletando URL: https://www.vivareal.com.br/aluguel/sp/sao-paulo/casa_residencial/?pagina=34#tipos=casa_residencial,condominio_residencial\n",
            "Coletando URL: https://www.vivareal.com.br/aluguel/sp/sao-paulo/casa_residencial/?pagina=35#tipos=casa_residencial,condominio_residencial\n",
            "Coletando URL: https://www.vivareal.com.br/aluguel/sp/sao-paulo/casa_residencial/?pagina=36#tipos=casa_residencial,condominio_residencial\n",
            "Coletando URL: https://www.vivareal.com.br/aluguel/sp/sao-paulo/casa_residencial/?pagina=37#tipos=casa_residencial,condominio_residencial\n",
            "Coletando URL: https://www.vivareal.com.br/aluguel/sp/sao-paulo/casa_residencial/?pagina=38#tipos=casa_residencial,condominio_residencial\n",
            "Coletando URL: https://www.vivareal.com.br/aluguel/sp/sao-paulo/casa_residencial/?pagina=39#tipos=casa_residencial,condominio_residencial\n",
            "Coletando URL: https://www.vivareal.com.br/aluguel/sp/sao-paulo/casa_residencial/?pagina=40#tipos=casa_residencial,condominio_residencial\n",
            "Coletando URL: https://www.vivareal.com.br/aluguel/sp/sao-paulo/casa_residencial/?pagina=41#tipos=casa_residencial,condominio_residencial\n",
            "Coletando URL: https://www.vivareal.com.br/aluguel/sp/sao-paulo/casa_residencial/?pagina=42#tipos=casa_residencial,condominio_residencial\n",
            "Coletando URL: https://www.vivareal.com.br/aluguel/sp/sao-paulo/casa_residencial/?pagina=43#tipos=casa_residencial,condominio_residencial\n",
            "Coletando URL: https://www.vivareal.com.br/aluguel/sp/sao-paulo/casa_residencial/?pagina=44#tipos=casa_residencial,condominio_residencial\n",
            "Coletando URL: https://www.vivareal.com.br/aluguel/sp/sao-paulo/casa_residencial/?pagina=45#tipos=casa_residencial,condominio_residencial\n",
            "Coletando URL: https://www.vivareal.com.br/aluguel/sp/sao-paulo/casa_residencial/?pagina=46#tipos=casa_residencial,condominio_residencial\n",
            "Coletando URL: https://www.vivareal.com.br/aluguel/sp/sao-paulo/casa_residencial/?pagina=47#tipos=casa_residencial,condominio_residencial\n",
            "Coletando URL: https://www.vivareal.com.br/aluguel/sp/sao-paulo/casa_residencial/?pagina=48#tipos=casa_residencial,condominio_residencial\n",
            "Coletando URL: https://www.vivareal.com.br/aluguel/sp/sao-paulo/casa_residencial/?pagina=49#tipos=casa_residencial,condominio_residencial\n"
          ],
          "name": "stdout"
        }
      ]
    },
    {
      "cell_type": "code",
      "metadata": {
        "colab": {
          "base_uri": "https://localhost:8080/",
          "height": 419
        },
        "id": "vjF9i_JixwwN",
        "outputId": "3b46579d-688b-4c84-9579-1fc0254cb3be"
      },
      "source": [
        "#Visualização de valores de aluguél, quarto e endereço\r\n",
        "df2=pd.concat(df_lista)\r\n",
        "df2.head(104)"
      ],
      "execution_count": 41,
      "outputs": [
        {
          "output_type": "execute_result",
          "data": {
            "text/html": [
              "<div>\n",
              "<style scoped>\n",
              "    .dataframe tbody tr th:only-of-type {\n",
              "        vertical-align: middle;\n",
              "    }\n",
              "\n",
              "    .dataframe tbody tr th {\n",
              "        vertical-align: top;\n",
              "    }\n",
              "\n",
              "    .dataframe thead th {\n",
              "        text-align: right;\n",
              "    }\n",
              "</style>\n",
              "<table border=\"1\" class=\"dataframe\">\n",
              "  <thead>\n",
              "    <tr style=\"text-align: right;\">\n",
              "      <th></th>\n",
              "      <th>aluguel</th>\n",
              "      <th>quartos</th>\n",
              "      <th>endereco</th>\n",
              "      <th>banheiro</th>\n",
              "      <th>vaga</th>\n",
              "      <th>area</th>\n",
              "    </tr>\n",
              "  </thead>\n",
              "  <tbody>\n",
              "    <tr>\n",
              "      <th>0</th>\n",
              "      <td>R$ 2.500 /Mês</td>\n",
              "      <td>2   Quartos</td>\n",
              "      <td>Rua Fortaleza, 186 - Bela Vista, São Paulo - SP</td>\n",
              "      <td>1   Banheiro</td>\n",
              "      <td>--   Vaga</td>\n",
              "      <td>86   m²</td>\n",
              "    </tr>\n",
              "    <tr>\n",
              "      <th>1</th>\n",
              "      <td>R$ 850 /Mês</td>\n",
              "      <td>1   Quarto</td>\n",
              "      <td>Rua Soldado João Rodrigues, 112 - Jardim Japão...</td>\n",
              "      <td>1   Banheiro</td>\n",
              "      <td>--   Vaga</td>\n",
              "      <td>35   m²</td>\n",
              "    </tr>\n",
              "    <tr>\n",
              "      <th>2</th>\n",
              "      <td>R$ 16.000 /Mês</td>\n",
              "      <td>4   Quartos</td>\n",
              "      <td>Rua Nebraska - Brooklin, São Paulo - SP</td>\n",
              "      <td>5   Banheiros</td>\n",
              "      <td>4   Vagas</td>\n",
              "      <td>200   m²</td>\n",
              "    </tr>\n",
              "    <tr>\n",
              "      <th>3</th>\n",
              "      <td>R$ 2.900 /Mês</td>\n",
              "      <td>2   Quartos</td>\n",
              "      <td>Rua Rondinha, 101 - Chácara Inglesa, São Paulo...</td>\n",
              "      <td>3   Banheiros</td>\n",
              "      <td>1   Vaga</td>\n",
              "      <td>325   m²</td>\n",
              "    </tr>\n",
              "    <tr>\n",
              "      <th>4</th>\n",
              "      <td>R$ 3.700 /Mês</td>\n",
              "      <td>3   Quartos</td>\n",
              "      <td>Rua Moreira Cardoso - Jardim Aeroporto, São Pa...</td>\n",
              "      <td>3   Banheiros</td>\n",
              "      <td>2   Vagas</td>\n",
              "      <td>150   m²</td>\n",
              "    </tr>\n",
              "    <tr>\n",
              "      <th>...</th>\n",
              "      <td>...</td>\n",
              "      <td>...</td>\n",
              "      <td>...</td>\n",
              "      <td>...</td>\n",
              "      <td>...</td>\n",
              "      <td>...</td>\n",
              "    </tr>\n",
              "    <tr>\n",
              "      <th>27</th>\n",
              "      <td>R$ 20.000 /Mês    R$ 5.000.000</td>\n",
              "      <td>4   Quartos</td>\n",
              "      <td>Jardim Guedala, São Paulo - SP</td>\n",
              "      <td>7   Banheiros</td>\n",
              "      <td>4   Vagas</td>\n",
              "      <td>543   m²</td>\n",
              "    </tr>\n",
              "    <tr>\n",
              "      <th>28</th>\n",
              "      <td>R$ 1.000 /Mês    R$ 198.000</td>\n",
              "      <td>2   Quartos</td>\n",
              "      <td>Passagem Helena Level, 31 - Conjunto Promorar ...</td>\n",
              "      <td>2   Banheiros</td>\n",
              "      <td>--   Vaga</td>\n",
              "      <td>100   m²</td>\n",
              "    </tr>\n",
              "    <tr>\n",
              "      <th>29</th>\n",
              "      <td>R$ 10.900 /Mês    R$ 3.500.000</td>\n",
              "      <td>4   Quartos</td>\n",
              "      <td>Rua Abegoaria - Vila Madalena, São Paulo - SP</td>\n",
              "      <td>6   Banheiros</td>\n",
              "      <td>5   Vagas</td>\n",
              "      <td>420   m²</td>\n",
              "    </tr>\n",
              "    <tr>\n",
              "      <th>30</th>\n",
              "      <td>R$ 1.000 /Mês</td>\n",
              "      <td>2   Quartos</td>\n",
              "      <td>Rua Pastor Alcebíades Pereira Vasconcelos, 201...</td>\n",
              "      <td>1   Banheiro</td>\n",
              "      <td>--   Vaga</td>\n",
              "      <td>75   m²</td>\n",
              "    </tr>\n",
              "    <tr>\n",
              "      <th>31</th>\n",
              "      <td>R$ 1.500 /Mês</td>\n",
              "      <td>2   Quartos</td>\n",
              "      <td>Rua Maracá, 168 - Vila Guarani, São Paulo - SP</td>\n",
              "      <td>1   Banheiro</td>\n",
              "      <td>--   Vaga</td>\n",
              "      <td>72   m²</td>\n",
              "    </tr>\n",
              "  </tbody>\n",
              "</table>\n",
              "<p>104 rows × 6 columns</p>\n",
              "</div>"
            ],
            "text/plain": [
              "                                 aluguel  ...          area\n",
              "0                        R$ 2.500 /Mês    ...     86   m²  \n",
              "1                          R$ 850 /Mês    ...     35   m²  \n",
              "2                       R$ 16.000 /Mês    ...    200   m²  \n",
              "3                        R$ 2.900 /Mês    ...    325   m²  \n",
              "4                        R$ 3.700 /Mês    ...    150   m²  \n",
              "..                                   ...  ...           ...\n",
              "27     R$ 20.000 /Mês    R$ 5.000.000     ...    543   m²  \n",
              "28        R$ 1.000 /Mês    R$ 198.000     ...    100   m²  \n",
              "29     R$ 10.900 /Mês    R$ 3.500.000     ...    420   m²  \n",
              "30                       R$ 1.000 /Mês    ...     75   m²  \n",
              "31                       R$ 1.500 /Mês    ...     72   m²  \n",
              "\n",
              "[104 rows x 6 columns]"
            ]
          },
          "metadata": {
            "tags": []
          },
          "execution_count": 41
        }
      ]
    },
    {
      "cell_type": "code",
      "metadata": {
        "colab": {
          "base_uri": "https://localhost:8080/",
          "height": 204
        },
        "id": "5jFQv4u2zaVV",
        "outputId": "d74594f7-925b-4a6a-d8f4-03957ef3e720"
      },
      "source": [
        "#Visualização de endereço completo\r\n",
        "df2['bairro'] = df2.endereco.str.split('\\s-').str[1]\r\n",
        "df2['rua'] = df2.endereco.str.split('\\s-').str[0]\r\n",
        "df2['bairro'] = df2.bairro.str.split(',').str[0]\r\n",
        "\r\n",
        "df2.head()"
      ],
      "execution_count": 42,
      "outputs": [
        {
          "output_type": "execute_result",
          "data": {
            "text/html": [
              "<div>\n",
              "<style scoped>\n",
              "    .dataframe tbody tr th:only-of-type {\n",
              "        vertical-align: middle;\n",
              "    }\n",
              "\n",
              "    .dataframe tbody tr th {\n",
              "        vertical-align: top;\n",
              "    }\n",
              "\n",
              "    .dataframe thead th {\n",
              "        text-align: right;\n",
              "    }\n",
              "</style>\n",
              "<table border=\"1\" class=\"dataframe\">\n",
              "  <thead>\n",
              "    <tr style=\"text-align: right;\">\n",
              "      <th></th>\n",
              "      <th>aluguel</th>\n",
              "      <th>quartos</th>\n",
              "      <th>endereco</th>\n",
              "      <th>banheiro</th>\n",
              "      <th>vaga</th>\n",
              "      <th>area</th>\n",
              "      <th>bairro</th>\n",
              "      <th>rua</th>\n",
              "    </tr>\n",
              "  </thead>\n",
              "  <tbody>\n",
              "    <tr>\n",
              "      <th>0</th>\n",
              "      <td>R$ 2.500 /Mês</td>\n",
              "      <td>2   Quartos</td>\n",
              "      <td>Rua Fortaleza, 186 - Bela Vista, São Paulo - SP</td>\n",
              "      <td>1   Banheiro</td>\n",
              "      <td>--   Vaga</td>\n",
              "      <td>86   m²</td>\n",
              "      <td>Bela Vista</td>\n",
              "      <td>Rua Fortaleza, 186</td>\n",
              "    </tr>\n",
              "    <tr>\n",
              "      <th>1</th>\n",
              "      <td>R$ 850 /Mês</td>\n",
              "      <td>1   Quarto</td>\n",
              "      <td>Rua Soldado João Rodrigues, 112 - Jardim Japão...</td>\n",
              "      <td>1   Banheiro</td>\n",
              "      <td>--   Vaga</td>\n",
              "      <td>35   m²</td>\n",
              "      <td>Jardim Japão</td>\n",
              "      <td>Rua Soldado João Rodrigues, 112</td>\n",
              "    </tr>\n",
              "    <tr>\n",
              "      <th>2</th>\n",
              "      <td>R$ 16.000 /Mês</td>\n",
              "      <td>4   Quartos</td>\n",
              "      <td>Rua Nebraska - Brooklin, São Paulo - SP</td>\n",
              "      <td>5   Banheiros</td>\n",
              "      <td>4   Vagas</td>\n",
              "      <td>200   m²</td>\n",
              "      <td>Brooklin</td>\n",
              "      <td>Rua Nebraska</td>\n",
              "    </tr>\n",
              "    <tr>\n",
              "      <th>3</th>\n",
              "      <td>R$ 2.900 /Mês</td>\n",
              "      <td>2   Quartos</td>\n",
              "      <td>Rua Rondinha, 101 - Chácara Inglesa, São Paulo...</td>\n",
              "      <td>3   Banheiros</td>\n",
              "      <td>1   Vaga</td>\n",
              "      <td>325   m²</td>\n",
              "      <td>Chácara Inglesa</td>\n",
              "      <td>Rua Rondinha, 101</td>\n",
              "    </tr>\n",
              "    <tr>\n",
              "      <th>4</th>\n",
              "      <td>R$ 3.700 /Mês</td>\n",
              "      <td>3   Quartos</td>\n",
              "      <td>Rua Moreira Cardoso - Jardim Aeroporto, São Pa...</td>\n",
              "      <td>3   Banheiros</td>\n",
              "      <td>2   Vagas</td>\n",
              "      <td>150   m²</td>\n",
              "      <td>Jardim Aeroporto</td>\n",
              "      <td>Rua Moreira Cardoso</td>\n",
              "    </tr>\n",
              "  </tbody>\n",
              "</table>\n",
              "</div>"
            ],
            "text/plain": [
              "               aluguel  ...                              rua\n",
              "0      R$ 2.500 /Mês    ...               Rua Fortaleza, 186\n",
              "1        R$ 850 /Mês    ...  Rua Soldado João Rodrigues, 112\n",
              "2     R$ 16.000 /Mês    ...                     Rua Nebraska\n",
              "3      R$ 2.900 /Mês    ...                Rua Rondinha, 101\n",
              "4      R$ 3.700 /Mês    ...              Rua Moreira Cardoso\n",
              "\n",
              "[5 rows x 8 columns]"
            ]
          },
          "metadata": {
            "tags": []
          },
          "execution_count": 42
        }
      ]
    },
    {
      "cell_type": "code",
      "metadata": {
        "colab": {
          "base_uri": "https://localhost:8080/"
        },
        "id": "I-awkq6h0uMj",
        "outputId": "7d48d639-716c-4c1c-def4-59262a23ef7b"
      },
      "source": [
        "df2.shape"
      ],
      "execution_count": 43,
      "outputs": [
        {
          "output_type": "execute_result",
          "data": {
            "text/plain": [
              "(1800, 8)"
            ]
          },
          "metadata": {
            "tags": []
          },
          "execution_count": 43
        }
      ]
    },
    {
      "cell_type": "code",
      "metadata": {
        "colab": {
          "base_uri": "https://localhost:8080/"
        },
        "id": "88gjAz1S0xh5",
        "outputId": "dda5fea3-8458-42c3-8ced-89046b226756"
      },
      "source": [
        "df2.rua.unique()"
      ],
      "execution_count": 44,
      "outputs": [
        {
          "output_type": "execute_result",
          "data": {
            "text/plain": [
              "array(['Rua Fortaleza, 186', 'Rua Soldado João Rodrigues, 112',\n",
              "       'Rua Nebraska', 'Rua Rondinha, 101', 'Rua Moreira Cardoso',\n",
              "       'Rua Artur Thiré, 1085', 'Avenida Lineu de Paula Machado, 1054',\n",
              "       'Lapa, São Paulo', 'Rua Ouvidor Peleja, 792', 'Rua Ubajara',\n",
              "       'Rua Luís Pinto', 'Avenida Conselheiro Carrão',\n",
              "       'Jardins, São Paulo', 'Rua Doutor José de Queirós Aranha, 358',\n",
              "       'Rua Argentina, 563', 'Rua Júlio Verne, 258',\n",
              "       'Jardim Paulistano, São Paulo', 'Retiro Morumbi\\xa0, São Paulo',\n",
              "       'Rua Rita Joana de Sousa', 'Rua Pedro André, 8',\n",
              "       'Rua Pais Leme, 452', 'Rua Iraíba, 76', 'Rua Alves de Almeida',\n",
              "       'Rua Oliveira Pimentel', 'Rua Rafael Carrozzo, 69', 'Rua Ipurinas',\n",
              "       'Jardim Guedala, São Paulo', 'Passagem Helena Level, 31',\n",
              "       'Rua Abegoaria', 'Rua Pastor Alcebíades Pereira Vasconcelos, 201',\n",
              "       'Rua Maracá, 168', 'Rua Brazelisa Alves de Carvalho, 511',\n",
              "       'Jardim Luzitânia, São Paulo', 'Rua Piauí, 1164', 'Rua do Minho'],\n",
              "      dtype=object)"
            ]
          },
          "metadata": {
            "tags": []
          },
          "execution_count": 44
        }
      ]
    },
    {
      "cell_type": "code",
      "metadata": {
        "colab": {
          "base_uri": "https://localhost:8080/",
          "height": 408
        },
        "id": "rfsdLKHKEBbb",
        "outputId": "367c7454-5640-47a3-cf76-486037c2d0a3"
      },
      "source": [
        "df3 = pd.read_csv('quase_300.csv')\r\n",
        "data = [df3,df2]\r\n",
        "df4 = pd.concat(data)"
      ],
      "execution_count": 45,
      "outputs": [
        {
          "output_type": "error",
          "ename": "FileNotFoundError",
          "evalue": "ignored",
          "traceback": [
            "\u001b[0;31m---------------------------------------------------------------------------\u001b[0m",
            "\u001b[0;31mFileNotFoundError\u001b[0m                         Traceback (most recent call last)",
            "\u001b[0;32m<ipython-input-45-7703ab0c7c35>\u001b[0m in \u001b[0;36m<module>\u001b[0;34m()\u001b[0m\n\u001b[0;32m----> 1\u001b[0;31m \u001b[0mdf3\u001b[0m \u001b[0;34m=\u001b[0m \u001b[0mpd\u001b[0m\u001b[0;34m.\u001b[0m\u001b[0mread_csv\u001b[0m\u001b[0;34m(\u001b[0m\u001b[0;34m'quase_300.csv'\u001b[0m\u001b[0;34m)\u001b[0m\u001b[0;34m\u001b[0m\u001b[0;34m\u001b[0m\u001b[0m\n\u001b[0m\u001b[1;32m      2\u001b[0m \u001b[0mdata\u001b[0m \u001b[0;34m=\u001b[0m \u001b[0;34m[\u001b[0m\u001b[0mdf3\u001b[0m\u001b[0;34m,\u001b[0m\u001b[0mdf2\u001b[0m\u001b[0;34m]\u001b[0m\u001b[0;34m\u001b[0m\u001b[0;34m\u001b[0m\u001b[0m\n\u001b[1;32m      3\u001b[0m \u001b[0mdf4\u001b[0m \u001b[0;34m=\u001b[0m \u001b[0mpd\u001b[0m\u001b[0;34m.\u001b[0m\u001b[0mconcat\u001b[0m\u001b[0;34m(\u001b[0m\u001b[0mdata\u001b[0m\u001b[0;34m)\u001b[0m\u001b[0;34m\u001b[0m\u001b[0;34m\u001b[0m\u001b[0m\n",
            "\u001b[0;32m/usr/local/lib/python3.7/dist-packages/pandas/io/parsers.py\u001b[0m in \u001b[0;36mread_csv\u001b[0;34m(filepath_or_buffer, sep, delimiter, header, names, index_col, usecols, squeeze, prefix, mangle_dupe_cols, dtype, engine, converters, true_values, false_values, skipinitialspace, skiprows, skipfooter, nrows, na_values, keep_default_na, na_filter, verbose, skip_blank_lines, parse_dates, infer_datetime_format, keep_date_col, date_parser, dayfirst, cache_dates, iterator, chunksize, compression, thousands, decimal, lineterminator, quotechar, quoting, doublequote, escapechar, comment, encoding, dialect, error_bad_lines, warn_bad_lines, delim_whitespace, low_memory, memory_map, float_precision)\u001b[0m\n\u001b[1;32m    686\u001b[0m     )\n\u001b[1;32m    687\u001b[0m \u001b[0;34m\u001b[0m\u001b[0m\n\u001b[0;32m--> 688\u001b[0;31m     \u001b[0;32mreturn\u001b[0m \u001b[0m_read\u001b[0m\u001b[0;34m(\u001b[0m\u001b[0mfilepath_or_buffer\u001b[0m\u001b[0;34m,\u001b[0m \u001b[0mkwds\u001b[0m\u001b[0;34m)\u001b[0m\u001b[0;34m\u001b[0m\u001b[0;34m\u001b[0m\u001b[0m\n\u001b[0m\u001b[1;32m    689\u001b[0m \u001b[0;34m\u001b[0m\u001b[0m\n\u001b[1;32m    690\u001b[0m \u001b[0;34m\u001b[0m\u001b[0m\n",
            "\u001b[0;32m/usr/local/lib/python3.7/dist-packages/pandas/io/parsers.py\u001b[0m in \u001b[0;36m_read\u001b[0;34m(filepath_or_buffer, kwds)\u001b[0m\n\u001b[1;32m    452\u001b[0m \u001b[0;34m\u001b[0m\u001b[0m\n\u001b[1;32m    453\u001b[0m     \u001b[0;31m# Create the parser.\u001b[0m\u001b[0;34m\u001b[0m\u001b[0;34m\u001b[0m\u001b[0;34m\u001b[0m\u001b[0m\n\u001b[0;32m--> 454\u001b[0;31m     \u001b[0mparser\u001b[0m \u001b[0;34m=\u001b[0m \u001b[0mTextFileReader\u001b[0m\u001b[0;34m(\u001b[0m\u001b[0mfp_or_buf\u001b[0m\u001b[0;34m,\u001b[0m \u001b[0;34m**\u001b[0m\u001b[0mkwds\u001b[0m\u001b[0;34m)\u001b[0m\u001b[0;34m\u001b[0m\u001b[0;34m\u001b[0m\u001b[0m\n\u001b[0m\u001b[1;32m    455\u001b[0m \u001b[0;34m\u001b[0m\u001b[0m\n\u001b[1;32m    456\u001b[0m     \u001b[0;32mif\u001b[0m \u001b[0mchunksize\u001b[0m \u001b[0;32mor\u001b[0m \u001b[0miterator\u001b[0m\u001b[0;34m:\u001b[0m\u001b[0;34m\u001b[0m\u001b[0;34m\u001b[0m\u001b[0m\n",
            "\u001b[0;32m/usr/local/lib/python3.7/dist-packages/pandas/io/parsers.py\u001b[0m in \u001b[0;36m__init__\u001b[0;34m(self, f, engine, **kwds)\u001b[0m\n\u001b[1;32m    946\u001b[0m             \u001b[0mself\u001b[0m\u001b[0;34m.\u001b[0m\u001b[0moptions\u001b[0m\u001b[0;34m[\u001b[0m\u001b[0;34m\"has_index_names\"\u001b[0m\u001b[0;34m]\u001b[0m \u001b[0;34m=\u001b[0m \u001b[0mkwds\u001b[0m\u001b[0;34m[\u001b[0m\u001b[0;34m\"has_index_names\"\u001b[0m\u001b[0;34m]\u001b[0m\u001b[0;34m\u001b[0m\u001b[0;34m\u001b[0m\u001b[0m\n\u001b[1;32m    947\u001b[0m \u001b[0;34m\u001b[0m\u001b[0m\n\u001b[0;32m--> 948\u001b[0;31m         \u001b[0mself\u001b[0m\u001b[0;34m.\u001b[0m\u001b[0m_make_engine\u001b[0m\u001b[0;34m(\u001b[0m\u001b[0mself\u001b[0m\u001b[0;34m.\u001b[0m\u001b[0mengine\u001b[0m\u001b[0;34m)\u001b[0m\u001b[0;34m\u001b[0m\u001b[0;34m\u001b[0m\u001b[0m\n\u001b[0m\u001b[1;32m    949\u001b[0m \u001b[0;34m\u001b[0m\u001b[0m\n\u001b[1;32m    950\u001b[0m     \u001b[0;32mdef\u001b[0m \u001b[0mclose\u001b[0m\u001b[0;34m(\u001b[0m\u001b[0mself\u001b[0m\u001b[0;34m)\u001b[0m\u001b[0;34m:\u001b[0m\u001b[0;34m\u001b[0m\u001b[0;34m\u001b[0m\u001b[0m\n",
            "\u001b[0;32m/usr/local/lib/python3.7/dist-packages/pandas/io/parsers.py\u001b[0m in \u001b[0;36m_make_engine\u001b[0;34m(self, engine)\u001b[0m\n\u001b[1;32m   1178\u001b[0m     \u001b[0;32mdef\u001b[0m \u001b[0m_make_engine\u001b[0m\u001b[0;34m(\u001b[0m\u001b[0mself\u001b[0m\u001b[0;34m,\u001b[0m \u001b[0mengine\u001b[0m\u001b[0;34m=\u001b[0m\u001b[0;34m\"c\"\u001b[0m\u001b[0;34m)\u001b[0m\u001b[0;34m:\u001b[0m\u001b[0;34m\u001b[0m\u001b[0;34m\u001b[0m\u001b[0m\n\u001b[1;32m   1179\u001b[0m         \u001b[0;32mif\u001b[0m \u001b[0mengine\u001b[0m \u001b[0;34m==\u001b[0m \u001b[0;34m\"c\"\u001b[0m\u001b[0;34m:\u001b[0m\u001b[0;34m\u001b[0m\u001b[0;34m\u001b[0m\u001b[0m\n\u001b[0;32m-> 1180\u001b[0;31m             \u001b[0mself\u001b[0m\u001b[0;34m.\u001b[0m\u001b[0m_engine\u001b[0m \u001b[0;34m=\u001b[0m \u001b[0mCParserWrapper\u001b[0m\u001b[0;34m(\u001b[0m\u001b[0mself\u001b[0m\u001b[0;34m.\u001b[0m\u001b[0mf\u001b[0m\u001b[0;34m,\u001b[0m \u001b[0;34m**\u001b[0m\u001b[0mself\u001b[0m\u001b[0;34m.\u001b[0m\u001b[0moptions\u001b[0m\u001b[0;34m)\u001b[0m\u001b[0;34m\u001b[0m\u001b[0;34m\u001b[0m\u001b[0m\n\u001b[0m\u001b[1;32m   1181\u001b[0m         \u001b[0;32melse\u001b[0m\u001b[0;34m:\u001b[0m\u001b[0;34m\u001b[0m\u001b[0;34m\u001b[0m\u001b[0m\n\u001b[1;32m   1182\u001b[0m             \u001b[0;32mif\u001b[0m \u001b[0mengine\u001b[0m \u001b[0;34m==\u001b[0m \u001b[0;34m\"python\"\u001b[0m\u001b[0;34m:\u001b[0m\u001b[0;34m\u001b[0m\u001b[0;34m\u001b[0m\u001b[0m\n",
            "\u001b[0;32m/usr/local/lib/python3.7/dist-packages/pandas/io/parsers.py\u001b[0m in \u001b[0;36m__init__\u001b[0;34m(self, src, **kwds)\u001b[0m\n\u001b[1;32m   2008\u001b[0m         \u001b[0mkwds\u001b[0m\u001b[0;34m[\u001b[0m\u001b[0;34m\"usecols\"\u001b[0m\u001b[0;34m]\u001b[0m \u001b[0;34m=\u001b[0m \u001b[0mself\u001b[0m\u001b[0;34m.\u001b[0m\u001b[0musecols\u001b[0m\u001b[0;34m\u001b[0m\u001b[0;34m\u001b[0m\u001b[0m\n\u001b[1;32m   2009\u001b[0m \u001b[0;34m\u001b[0m\u001b[0m\n\u001b[0;32m-> 2010\u001b[0;31m         \u001b[0mself\u001b[0m\u001b[0;34m.\u001b[0m\u001b[0m_reader\u001b[0m \u001b[0;34m=\u001b[0m \u001b[0mparsers\u001b[0m\u001b[0;34m.\u001b[0m\u001b[0mTextReader\u001b[0m\u001b[0;34m(\u001b[0m\u001b[0msrc\u001b[0m\u001b[0;34m,\u001b[0m \u001b[0;34m**\u001b[0m\u001b[0mkwds\u001b[0m\u001b[0;34m)\u001b[0m\u001b[0;34m\u001b[0m\u001b[0;34m\u001b[0m\u001b[0m\n\u001b[0m\u001b[1;32m   2011\u001b[0m         \u001b[0mself\u001b[0m\u001b[0;34m.\u001b[0m\u001b[0munnamed_cols\u001b[0m \u001b[0;34m=\u001b[0m \u001b[0mself\u001b[0m\u001b[0;34m.\u001b[0m\u001b[0m_reader\u001b[0m\u001b[0;34m.\u001b[0m\u001b[0munnamed_cols\u001b[0m\u001b[0;34m\u001b[0m\u001b[0;34m\u001b[0m\u001b[0m\n\u001b[1;32m   2012\u001b[0m \u001b[0;34m\u001b[0m\u001b[0m\n",
            "\u001b[0;32mpandas/_libs/parsers.pyx\u001b[0m in \u001b[0;36mpandas._libs.parsers.TextReader.__cinit__\u001b[0;34m()\u001b[0m\n",
            "\u001b[0;32mpandas/_libs/parsers.pyx\u001b[0m in \u001b[0;36mpandas._libs.parsers.TextReader._setup_parser_source\u001b[0;34m()\u001b[0m\n",
            "\u001b[0;31mFileNotFoundError\u001b[0m: [Errno 2] No such file or directory: 'quase_300.csv'"
          ]
        }
      ]
    }
  ]
}