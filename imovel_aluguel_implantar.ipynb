{
  "nbformat": 4,
  "nbformat_minor": 0,
  "metadata": {
    "colab": {
      "name": "imovel_aluguel_implantar.ipynb",
      "provenance": [],
      "authorship_tag": "ABX9TyNYZyuZTv1C9JwShzw5QF4N",
      "include_colab_link": true
    },
    "kernelspec": {
      "name": "python3",
      "display_name": "Python 3"
    },
    "language_info": {
      "name": "python"
    }
  },
  "cells": [
    {
      "cell_type": "markdown",
      "metadata": {
        "id": "view-in-github",
        "colab_type": "text"
      },
      "source": [
        "<a href=\"https://colab.research.google.com/github/Veroberg/Calculadora-aluguel/blob/main/imovel_aluguel_implantar.ipynb\" target=\"_parent\"><img src=\"https://colab.research.google.com/assets/colab-badge.svg\" alt=\"Open In Colab\"/></a>"
      ]
    },
    {
      "cell_type": "code",
      "metadata": {
        "id": "ZBiAi4gTPf8g"
      },
      "source": [
        "import pickle\n",
        "import numpy as np\n",
        "reg = pickle.load(open('rf_regressor_gridsearch.pkl', 'rb'))"
      ],
      "execution_count": 2,
      "outputs": []
    },
    {
      "cell_type": "code",
      "metadata": {
        "colab": {
          "base_uri": "https://localhost:8080/"
        },
        "id": "ywf0sDhNQxxI",
        "outputId": "7d039736-6a56-4127-fddf-02eb11f666cb"
      },
      "source": [
        "n_quartos = input('numero de quartos')\n",
        "area = input('area')\n",
        "zona = input('zona')\n",
        "\n",
        "zona_to_onehot = {'leste': np.array([1, 0, 0, 0]),\n",
        "                  'norte': np.array([0, 1, 0, 0]),\n",
        "                  'oeste': np.array([0, 0, 1, 0]),\n",
        "                  'sul'  : np.array([0, 0, 0, 1])\n",
        "                  }\n",
        "\n",
        "n_quartos_log = np.log1p(int(n_quartos))\n",
        "area_log = np.log1p(float(area))\n",
        "zona_onehot = zona_to_onehot[zona]           "
      ],
      "execution_count": 3,
      "outputs": [
        {
          "output_type": "stream",
          "text": [
            "numero de quartos2\n",
            "area90\n",
            "zonasul\n"
          ],
          "name": "stdout"
        }
      ]
    },
    {
      "cell_type": "code",
      "metadata": {
        "colab": {
          "base_uri": "https://localhost:8080/"
        },
        "id": "dHFyuTDQRz6Q",
        "outputId": "37de1ed0-da32-468b-9905-853f71ce6486"
      },
      "source": [
        "zona_onehot"
      ],
      "execution_count": 4,
      "outputs": [
        {
          "output_type": "execute_result",
          "data": {
            "text/plain": [
              "array([0, 0, 0, 1])"
            ]
          },
          "metadata": {
            "tags": []
          },
          "execution_count": 4
        }
      ]
    },
    {
      "cell_type": "code",
      "metadata": {
        "colab": {
          "base_uri": "https://localhost:8080/"
        },
        "id": "IAXKKHIbRz81",
        "outputId": "9079a958-f935-4c8a-ba5d-106067fec630"
      },
      "source": [
        "n_quartos_log"
      ],
      "execution_count": 5,
      "outputs": [
        {
          "output_type": "execute_result",
          "data": {
            "text/plain": [
              "1.0986122886681096"
            ]
          },
          "metadata": {
            "tags": []
          },
          "execution_count": 5
        }
      ]
    },
    {
      "cell_type": "code",
      "metadata": {
        "colab": {
          "base_uri": "https://localhost:8080/"
        },
        "id": "t9P1n55iRz_P",
        "outputId": "5fc88aa3-ad7a-4b9c-cf14-cb49b059955c"
      },
      "source": [
        "area_log"
      ],
      "execution_count": 6,
      "outputs": [
        {
          "output_type": "execute_result",
          "data": {
            "text/plain": [
              "4.51085950651685"
            ]
          },
          "metadata": {
            "tags": []
          },
          "execution_count": 6
        }
      ]
    },
    {
      "cell_type": "code",
      "metadata": {
        "colab": {
          "base_uri": "https://localhost:8080/"
        },
        "id": "cgZ0oYbAR0BO",
        "outputId": "13fc10fd-997b-47e8-ee8a-cfaa91aa5297"
      },
      "source": [
        "np.expm1(reg.predict([[1, 0, 0, 0, np.log1p(2), np.log1p(80)]]))"
      ],
      "execution_count": 7,
      "outputs": [
        {
          "output_type": "execute_result",
          "data": {
            "text/plain": [
              "array([1496.98834649])"
            ]
          },
          "metadata": {
            "tags": []
          },
          "execution_count": 7
        }
      ]
    },
    {
      "cell_type": "code",
      "metadata": {
        "colab": {
          "base_uri": "https://localhost:8080/"
        },
        "id": "mq5-KJPtR0Em",
        "outputId": "f953e654-19c6-435f-dca0-21939c803b9e"
      },
      "source": [
        "np.expm1(reg.predict([np.r_[zona_onehot, n_quartos_log, area_log]]))"
      ],
      "execution_count": 8,
      "outputs": [
        {
          "output_type": "execute_result",
          "data": {
            "text/plain": [
              "array([1964.08609677])"
            ]
          },
          "metadata": {
            "tags": []
          },
          "execution_count": 8
        }
      ]
    },
    {
      "cell_type": "code",
      "metadata": {
        "colab": {
          "base_uri": "https://localhost:8080/"
        },
        "id": "p_w8ozQ2SEXm",
        "outputId": "689f41bd-ee04-4896-8a9d-2110bc6a2f37"
      },
      "source": [
        "ls"
      ],
      "execution_count": 9,
      "outputs": [
        {
          "output_type": "stream",
          "text": [
            " app.py.txt  'modelo (4).pkl'      rf_regressor_gridsearch.pkl\n",
            " DS_Store    'regressor (1).pkl'   \u001b[0m\u001b[01;34msample_data\u001b[0m/\n"
          ],
          "name": "stdout"
        }
      ]
    },
    {
      "cell_type": "code",
      "metadata": {
        "colab": {
          "base_uri": "https://localhost:8080/"
        },
        "id": "gIRhNGQYSEaK",
        "outputId": "a24b1190-9131-4f1d-ab79-9ee59d37d29a"
      },
      "source": [
        "cd flask101"
      ],
      "execution_count": 10,
      "outputs": [
        {
          "output_type": "stream",
          "text": [
            "[Errno 2] No such file or directory: 'flask101'\n",
            "/content\n"
          ],
          "name": "stdout"
        }
      ]
    },
    {
      "cell_type": "code",
      "metadata": {
        "colab": {
          "base_uri": "https://localhost:8080/"
        },
        "id": "_1jSb3PhSEcm",
        "outputId": "a68ce2a3-1073-4bad-a1f0-44fee039b9be"
      },
      "source": [
        "ls"
      ],
      "execution_count": 11,
      "outputs": [
        {
          "output_type": "stream",
          "text": [
            " app.py.txt  'modelo (4).pkl'      rf_regressor_gridsearch.pkl\n",
            " DS_Store    'regressor (1).pkl'   \u001b[0m\u001b[01;34msample_data\u001b[0m/\n"
          ],
          "name": "stdout"
        }
      ]
    },
    {
      "cell_type": "code",
      "metadata": {
        "id": "LVBoyL7jSEfs"
      },
      "source": [
        "from flask import Flask, render_template"
      ],
      "execution_count": 12,
      "outputs": []
    },
    {
      "cell_type": "code",
      "metadata": {
        "id": "1f6bJsU6SR9u"
      },
      "source": [
        "Flask?"
      ],
      "execution_count": 13,
      "outputs": []
    },
    {
      "cell_type": "code",
      "metadata": {
        "colab": {
          "base_uri": "https://localhost:8080/",
          "height": 35
        },
        "id": "en_-XZkESR_5",
        "outputId": "d9707d7f-8e16-4c6d-93c0-b1566a85a986"
      },
      "source": [
        "__name__"
      ],
      "execution_count": 14,
      "outputs": [
        {
          "output_type": "execute_result",
          "data": {
            "application/vnd.google.colaboratory.intrinsic+json": {
              "type": "string"
            },
            "text/plain": [
              "'__main__'"
            ]
          },
          "metadata": {
            "tags": []
          },
          "execution_count": 14
        }
      ]
    },
    {
      "cell_type": "code",
      "metadata": {
        "id": "K9uCKzlpSSCJ"
      },
      "source": [
        "app = Flask(__name__)"
      ],
      "execution_count": 15,
      "outputs": []
    },
    {
      "cell_type": "code",
      "metadata": {
        "id": "mJPcn6rvSSFj"
      },
      "source": [
        "app?"
      ],
      "execution_count": 16,
      "outputs": []
    },
    {
      "cell_type": "code",
      "metadata": {
        "id": "UPzAWpoZSEjJ"
      },
      "source": [
        "app.route?"
      ],
      "execution_count": 17,
      "outputs": []
    },
    {
      "cell_type": "code",
      "metadata": {
        "id": "foFsmnSfSpxz"
      },
      "source": [
        "def index():\n",
        "    return render_template('primeiro_app.html')"
      ],
      "execution_count": 18,
      "outputs": []
    },
    {
      "cell_type": "code",
      "metadata": {
        "id": "zwWBTbiTSp0I"
      },
      "source": [
        "@app.route('/')\n",
        "def index():\n",
        "    return render_template('primeiro_app.html')"
      ],
      "execution_count": 19,
      "outputs": []
    },
    {
      "cell_type": "code",
      "metadata": {
        "colab": {
          "base_uri": "https://localhost:8080/"
        },
        "id": "8rLMCsKiSz-X",
        "outputId": "86150037-cc1a-48dc-a305-fc9bf3c8122b"
      },
      "source": [
        "app.run()"
      ],
      "execution_count": 20,
      "outputs": [
        {
          "output_type": "stream",
          "text": [
            " * Serving Flask app \"__main__\" (lazy loading)\n",
            " * Environment: production\n",
            "\u001b[31m   WARNING: This is a development server. Do not use it in a production deployment.\u001b[0m\n",
            "\u001b[2m   Use a production WSGI server instead.\u001b[0m\n",
            " * Debug mode: off\n"
          ],
          "name": "stdout"
        },
        {
          "output_type": "stream",
          "text": [
            " * Running on http://127.0.0.1:5000/ (Press CTRL+C to quit)\n"
          ],
          "name": "stderr"
        }
      ]
    },
    {
      "cell_type": "code",
      "metadata": {
        "colab": {
          "base_uri": "https://localhost:8080/"
        },
        "id": "BQHtZh_6S0Az",
        "outputId": "2d644088-21a0-4d58-b7a0-35c591127fc6"
      },
      "source": [
        "ls"
      ],
      "execution_count": 21,
      "outputs": [
        {
          "output_type": "stream",
          "text": [
            " app.py.txt  'modelo (4).pkl'      rf_regressor_gridsearch.pkl\n",
            " DS_Store    'regressor (1).pkl'   \u001b[0m\u001b[01;34msample_data\u001b[0m/\n"
          ],
          "name": "stdout"
        }
      ]
    },
    {
      "cell_type": "code",
      "metadata": {
        "id": "ErSDS-h5S0Eb"
      },
      "source": [
        "from flask import request"
      ],
      "execution_count": 22,
      "outputs": []
    },
    {
      "cell_type": "code",
      "metadata": {
        "id": "Hco8soBNS7ew"
      },
      "source": [
        "app = Flask(__name__)"
      ],
      "execution_count": 23,
      "outputs": []
    },
    {
      "cell_type": "code",
      "metadata": {
        "id": "2jxxREXiS7hP"
      },
      "source": [
        "@app.route('/')\n",
        "def index():\n",
        "    return render_template('segundo_app.html')"
      ],
      "execution_count": 24,
      "outputs": []
    },
    {
      "cell_type": "code",
      "metadata": {
        "id": "e971YpCLS7j1"
      },
      "source": [
        "@app.route('/predict', methods=['POST'])\n",
        "def predict():\n",
        "    form_values = [x for x in request.form.values()]\n",
        "    return render_template('segundo_app.html',\n",
        "            prediction_text=form_values)"
      ],
      "execution_count": 25,
      "outputs": []
    },
    {
      "cell_type": "code",
      "metadata": {
        "colab": {
          "base_uri": "https://localhost:8080/"
        },
        "id": "ucz6yXE-S7nP",
        "outputId": "48c67325-abd2-44d2-c6ee-297bcf05accf"
      },
      "source": [
        "app.run()"
      ],
      "execution_count": 26,
      "outputs": [
        {
          "output_type": "stream",
          "text": [
            " * Serving Flask app \"__main__\" (lazy loading)\n",
            " * Environment: production\n",
            "\u001b[31m   WARNING: This is a development server. Do not use it in a production deployment.\u001b[0m\n",
            "\u001b[2m   Use a production WSGI server instead.\u001b[0m\n",
            " * Debug mode: off\n"
          ],
          "name": "stdout"
        },
        {
          "output_type": "stream",
          "text": [
            " * Running on http://127.0.0.1:5000/ (Press CTRL+C to quit)\n"
          ],
          "name": "stderr"
        }
      ]
    },
    {
      "cell_type": "code",
      "metadata": {
        "id": "tjB5lWljSp3n"
      },
      "source": [
        "segundo_app = \"\"\"\n",
        "<!doctype html>\n",
        "<html>\n",
        "\t<head>\n",
        "\t\t<title>Primeiro App</title>\n",
        "\t</head>\n",
        "\t<body>\n",
        "\t\t<div>Ola, este é o meu segundo app em Flask</div>\n",
        "\t\t<form action=\"{{ url_for('predict')}}\" method=\"post\">\n",
        "        <input type=\"text\" name=\"zona\" placeholder=\"Zona\" required=\"required\" />\n",
        "        <button type=\"submit\" class=\"btn btn-primary btn-block btn-large\">Calcular!</button>\n",
        "        {{ prediction_text }}\n",
        "    </form>\n",
        "\t</body>\n",
        "</html>\n",
        "\"\"\""
      ],
      "execution_count": 27,
      "outputs": []
    }
  ]
}